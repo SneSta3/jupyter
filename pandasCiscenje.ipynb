{
 "cells": [
  {
   "cell_type": "markdown",
   "id": "bdc8a45c-9e4c-49db-8cc6-adc1dc8ea1bd",
   "metadata": {},
   "source": [
    "# Pandas ciscenje podataka"
   ]
  },
  {
   "cell_type": "markdown",
   "id": "7e87e2aa-7814-42c4-8016-6aeef095c872",
   "metadata": {},
   "source": [
    "Duplikati i praznine"
   ]
  },
  {
   "cell_type": "code",
   "execution_count": 1,
   "id": "bdc95801-da87-4969-bdee-a8e863ff1125",
   "metadata": {},
   "outputs": [],
   "source": [
    "import pandas as pd"
   ]
  },
  {
   "cell_type": "code",
   "execution_count": 2,
   "id": "5afac1a9-6258-4723-a5c2-6550b91398b3",
   "metadata": {},
   "outputs": [],
   "source": [
    "movies = pd.read_csv('movies_new.csv')"
   ]
  },
  {
   "cell_type": "markdown",
   "id": "26e8af3d-aaaa-4fde-8143-5c0818b44192",
   "metadata": {},
   "source": [
    "# Rad sa duplikatima"
   ]
  },
  {
   "cell_type": "code",
   "execution_count": 3,
   "id": "18541dbe-0959-4f5e-b853-841885510a68",
   "metadata": {},
   "outputs": [
    {
     "data": {
      "text/plain": [
       "0       False\n",
       "1       False\n",
       "2       False\n",
       "3       False\n",
       "4       False\n",
       "        ...  \n",
       "9994     True\n",
       "9995    False\n",
       "9996    False\n",
       "9997     True\n",
       "9998     True\n",
       "Name: name, Length: 9999, dtype: bool"
      ]
     },
     "execution_count": 3,
     "metadata": {},
     "output_type": "execute_result"
    }
   ],
   "source": [
    "movies['name'].duplicated (keep = False)"
   ]
  },
  {
   "cell_type": "code",
   "execution_count": 4,
   "id": "91285383-9e7a-4c9c-9582-cf2b9f8cd31a",
   "metadata": {},
   "outputs": [
    {
     "data": {
      "text/html": [
       "<div>\n",
       "<style scoped>\n",
       "    .dataframe tbody tr th:only-of-type {\n",
       "        vertical-align: middle;\n",
       "    }\n",
       "\n",
       "    .dataframe tbody tr th {\n",
       "        vertical-align: top;\n",
       "    }\n",
       "\n",
       "    .dataframe thead th {\n",
       "        text-align: right;\n",
       "    }\n",
       "</style>\n",
       "<table border=\"1\" class=\"dataframe\">\n",
       "  <thead>\n",
       "    <tr style=\"text-align: right;\">\n",
       "      <th></th>\n",
       "      <th>name</th>\n",
       "      <th>year</th>\n",
       "      <th>genre</th>\n",
       "      <th>rating</th>\n",
       "      <th>summary</th>\n",
       "      <th>stars</th>\n",
       "      <th>votes</th>\n",
       "      <th>runtime</th>\n",
       "      <th>gross</th>\n",
       "    </tr>\n",
       "  </thead>\n",
       "  <tbody>\n",
       "    <tr>\n",
       "      <th>8134</th>\n",
       "      <td>13 Reasons Why</td>\n",
       "      <td>(2017–2020)</td>\n",
       "      <td>Drama, Mystery, Thriller</td>\n",
       "      <td>6.2</td>\n",
       "      <td>In the wake of the lockdown, the school is on ...</td>\n",
       "      <td>Director: Sunu Gonera |      Stars: Dylan Minn...</td>\n",
       "      <td>1,619</td>\n",
       "      <td>57.0</td>\n",
       "      <td>NaN</td>\n",
       "    </tr>\n",
       "    <tr>\n",
       "      <th>8197</th>\n",
       "      <td>13 Reasons Why</td>\n",
       "      <td>(2017–2020)</td>\n",
       "      <td>Drama, Mystery, Thriller</td>\n",
       "      <td>6.6</td>\n",
       "      <td>The school goes into lockdown and Clay, Tony a...</td>\n",
       "      <td>Director: Brenda Strong |      Stars: Dylan Mi...</td>\n",
       "      <td>1,694</td>\n",
       "      <td>61.0</td>\n",
       "      <td>NaN</td>\n",
       "    </tr>\n",
       "    <tr>\n",
       "      <th>8376</th>\n",
       "      <td>13 Reasons Why</td>\n",
       "      <td>(2017–2020)</td>\n",
       "      <td>Drama, Mystery, Thriller</td>\n",
       "      <td>5.9</td>\n",
       "      <td>Clay's mental health continues to decline as t...</td>\n",
       "      <td>Director: Sunu Gonera |      Stars: Dylan Minn...</td>\n",
       "      <td>1,420</td>\n",
       "      <td>60.0</td>\n",
       "      <td>NaN</td>\n",
       "    </tr>\n",
       "    <tr>\n",
       "      <th>7789</th>\n",
       "      <td>13 Reasons Why</td>\n",
       "      <td>(2017–2020)</td>\n",
       "      <td>Drama, Mystery, Thriller</td>\n",
       "      <td>5.1</td>\n",
       "      <td>Clay is forced to confront his anxiety on the ...</td>\n",
       "      <td>Director: Michael Sucsy |      Stars: Dylan Mi...</td>\n",
       "      <td>1,714</td>\n",
       "      <td>59.0</td>\n",
       "      <td>NaN</td>\n",
       "    </tr>\n",
       "    <tr>\n",
       "      <th>7378</th>\n",
       "      <td>13 Reasons Why</td>\n",
       "      <td>(2017–2020)</td>\n",
       "      <td>Drama, Mystery, Thriller</td>\n",
       "      <td>5.7</td>\n",
       "      <td>The police question Tyler about the guns, leav...</td>\n",
       "      <td>Director: Russell Mulcahy |      Stars: Dylan ...</td>\n",
       "      <td>1,798</td>\n",
       "      <td>59.0</td>\n",
       "      <td>NaN</td>\n",
       "    </tr>\n",
       "    <tr>\n",
       "      <th>...</th>\n",
       "      <td>...</td>\n",
       "      <td>...</td>\n",
       "      <td>...</td>\n",
       "      <td>...</td>\n",
       "      <td>...</td>\n",
       "      <td>...</td>\n",
       "      <td>...</td>\n",
       "      <td>...</td>\n",
       "      <td>...</td>\n",
       "    </tr>\n",
       "    <tr>\n",
       "      <th>3772</th>\n",
       "      <td>Verónica</td>\n",
       "      <td>(II) (2017)</td>\n",
       "      <td>Drama, Mystery, Thriller</td>\n",
       "      <td>5.9</td>\n",
       "      <td>A female Psychologist who has stopped practici...</td>\n",
       "      <td>Directors: Carlos Algara,  Alejandro Martinez-...</td>\n",
       "      <td>1,342</td>\n",
       "      <td>81.0</td>\n",
       "      <td>NaN</td>\n",
       "    </tr>\n",
       "    <tr>\n",
       "      <th>5460</th>\n",
       "      <td>Wanderlust</td>\n",
       "      <td>(2006 TV Movie)</td>\n",
       "      <td>Documentary, History</td>\n",
       "      <td>6.6</td>\n",
       "      <td>A documentary on road movies and their effect ...</td>\n",
       "      <td>Directors: Shari Springer Berman,  Robert Pulc...</td>\n",
       "      <td>122</td>\n",
       "      <td>84.0</td>\n",
       "      <td>NaN</td>\n",
       "    </tr>\n",
       "    <tr>\n",
       "      <th>1322</th>\n",
       "      <td>Wanderlust</td>\n",
       "      <td>(2018– )</td>\n",
       "      <td>Drama</td>\n",
       "      <td>7.1</td>\n",
       "      <td>A therapist tries to save her marriage after a...</td>\n",
       "      <td>Stars: Toni Collette,  Steven Mackintosh,  Joe...</td>\n",
       "      <td>4,825</td>\n",
       "      <td>60.0</td>\n",
       "      <td>NaN</td>\n",
       "    </tr>\n",
       "    <tr>\n",
       "      <th>5449</th>\n",
       "      <td>Wednesday</td>\n",
       "      <td>(I)</td>\n",
       "      <td>NaN</td>\n",
       "      <td>NaN</td>\n",
       "      <td>Follows Wednesday Addams' years as a student, ...</td>\n",
       "      <td>NaN</td>\n",
       "      <td>NaN</td>\n",
       "      <td>NaN</td>\n",
       "      <td>NaN</td>\n",
       "    </tr>\n",
       "    <tr>\n",
       "      <th>1527</th>\n",
       "      <td>Wednesday</td>\n",
       "      <td>(II)</td>\n",
       "      <td>Comedy, Family, Fantasy</td>\n",
       "      <td>NaN</td>\n",
       "      <td>A modernized live-action version of 'The Addam...</td>\n",
       "      <td>Star: Jenna Ortega</td>\n",
       "      <td>NaN</td>\n",
       "      <td>NaN</td>\n",
       "      <td>NaN</td>\n",
       "    </tr>\n",
       "  </tbody>\n",
       "</table>\n",
       "<p>3601 rows × 9 columns</p>\n",
       "</div>"
      ],
      "text/plain": [
       "                 name             year                                  genre  \\\n",
       "8134   13 Reasons Why      (2017–2020)   Drama, Mystery, Thriller               \n",
       "8197   13 Reasons Why      (2017–2020)   Drama, Mystery, Thriller               \n",
       "8376   13 Reasons Why      (2017–2020)   Drama, Mystery, Thriller               \n",
       "7789   13 Reasons Why      (2017–2020)   Drama, Mystery, Thriller               \n",
       "7378   13 Reasons Why      (2017–2020)   Drama, Mystery, Thriller               \n",
       "...               ...              ...                                    ...   \n",
       "3772         Verónica      (II) (2017)   Drama, Mystery, Thriller               \n",
       "5460       Wanderlust  (2006 TV Movie)       Documentary, History               \n",
       "1322       Wanderlust         (2018– )                      Drama               \n",
       "5449        Wednesday              (I)                                    NaN   \n",
       "1527        Wednesday             (II)    Comedy, Family, Fantasy               \n",
       "\n",
       "      rating                                            summary  \\\n",
       "8134     6.2  In the wake of the lockdown, the school is on ...   \n",
       "8197     6.6  The school goes into lockdown and Clay, Tony a...   \n",
       "8376     5.9  Clay's mental health continues to decline as t...   \n",
       "7789     5.1  Clay is forced to confront his anxiety on the ...   \n",
       "7378     5.7  The police question Tyler about the guns, leav...   \n",
       "...      ...                                                ...   \n",
       "3772     5.9  A female Psychologist who has stopped practici...   \n",
       "5460     6.6  A documentary on road movies and their effect ...   \n",
       "1322     7.1  A therapist tries to save her marriage after a...   \n",
       "5449     NaN  Follows Wednesday Addams' years as a student, ...   \n",
       "1527     NaN  A modernized live-action version of 'The Addam...   \n",
       "\n",
       "                                                  stars  votes  runtime gross  \n",
       "8134  Director: Sunu Gonera |      Stars: Dylan Minn...  1,619     57.0   NaN  \n",
       "8197  Director: Brenda Strong |      Stars: Dylan Mi...  1,694     61.0   NaN  \n",
       "8376  Director: Sunu Gonera |      Stars: Dylan Minn...  1,420     60.0   NaN  \n",
       "7789  Director: Michael Sucsy |      Stars: Dylan Mi...  1,714     59.0   NaN  \n",
       "7378  Director: Russell Mulcahy |      Stars: Dylan ...  1,798     59.0   NaN  \n",
       "...                                                 ...    ...      ...   ...  \n",
       "3772  Directors: Carlos Algara,  Alejandro Martinez-...  1,342     81.0   NaN  \n",
       "5460  Directors: Shari Springer Berman,  Robert Pulc...    122     84.0   NaN  \n",
       "1322  Stars: Toni Collette,  Steven Mackintosh,  Joe...  4,825     60.0   NaN  \n",
       "5449                                                NaN    NaN      NaN   NaN  \n",
       "1527                                 Star: Jenna Ortega    NaN      NaN   NaN  \n",
       "\n",
       "[3601 rows x 9 columns]"
      ]
     },
     "execution_count": 4,
     "metadata": {},
     "output_type": "execute_result"
    }
   ],
   "source": [
    "movies[movies['name'].duplicated (keep = False)].sort_values('name')"
   ]
  },
  {
   "cell_type": "code",
   "execution_count": 5,
   "id": "d5a82844-deb2-4e8a-8e1c-14125bea519e",
   "metadata": {},
   "outputs": [],
   "source": [
    "columns = ['name', 'year', 'rating', 'summary']"
   ]
  },
  {
   "cell_type": "code",
   "execution_count": 6,
   "id": "f830ce8a-916c-4ffc-a1c0-6818f6ddcab0",
   "metadata": {},
   "outputs": [
    {
     "data": {
      "text/html": [
       "<div>\n",
       "<style scoped>\n",
       "    .dataframe tbody tr th:only-of-type {\n",
       "        vertical-align: middle;\n",
       "    }\n",
       "\n",
       "    .dataframe tbody tr th {\n",
       "        vertical-align: top;\n",
       "    }\n",
       "\n",
       "    .dataframe thead th {\n",
       "        text-align: right;\n",
       "    }\n",
       "</style>\n",
       "<table border=\"1\" class=\"dataframe\">\n",
       "  <thead>\n",
       "    <tr style=\"text-align: right;\">\n",
       "      <th></th>\n",
       "      <th>name</th>\n",
       "      <th>year</th>\n",
       "      <th>genre</th>\n",
       "      <th>rating</th>\n",
       "      <th>summary</th>\n",
       "      <th>stars</th>\n",
       "      <th>votes</th>\n",
       "      <th>runtime</th>\n",
       "      <th>gross</th>\n",
       "    </tr>\n",
       "  </thead>\n",
       "  <tbody>\n",
       "    <tr>\n",
       "      <th>9443</th>\n",
       "      <td>1899</td>\n",
       "      <td>(2022– )</td>\n",
       "      <td>Drama, History, Horror</td>\n",
       "      <td>NaN</td>\n",
       "      <td>Add a Plot</td>\n",
       "      <td>Director: Baran bo Odar |      Stars: Aneurin ...</td>\n",
       "      <td>NaN</td>\n",
       "      <td>NaN</td>\n",
       "      <td>NaN</td>\n",
       "    </tr>\n",
       "    <tr>\n",
       "      <th>9980</th>\n",
       "      <td>1899</td>\n",
       "      <td>(2022– )</td>\n",
       "      <td>Drama, History, Horror</td>\n",
       "      <td>NaN</td>\n",
       "      <td>Add a Plot</td>\n",
       "      <td>Director: Baran bo Odar</td>\n",
       "      <td>NaN</td>\n",
       "      <td>NaN</td>\n",
       "      <td>NaN</td>\n",
       "    </tr>\n",
       "    <tr>\n",
       "      <th>9981</th>\n",
       "      <td>1899</td>\n",
       "      <td>(2022– )</td>\n",
       "      <td>Drama, History, Horror</td>\n",
       "      <td>NaN</td>\n",
       "      <td>Add a Plot</td>\n",
       "      <td>Director: Baran bo Odar</td>\n",
       "      <td>NaN</td>\n",
       "      <td>NaN</td>\n",
       "      <td>NaN</td>\n",
       "    </tr>\n",
       "    <tr>\n",
       "      <th>9982</th>\n",
       "      <td>1899</td>\n",
       "      <td>(2022– )</td>\n",
       "      <td>Drama, History, Horror</td>\n",
       "      <td>NaN</td>\n",
       "      <td>Add a Plot</td>\n",
       "      <td>Director: Baran bo Odar</td>\n",
       "      <td>NaN</td>\n",
       "      <td>NaN</td>\n",
       "      <td>NaN</td>\n",
       "    </tr>\n",
       "    <tr>\n",
       "      <th>9989</th>\n",
       "      <td>1899</td>\n",
       "      <td>(2022– )</td>\n",
       "      <td>Drama, History, Horror</td>\n",
       "      <td>NaN</td>\n",
       "      <td>Add a Plot</td>\n",
       "      <td>Director: Baran bo Odar</td>\n",
       "      <td>NaN</td>\n",
       "      <td>NaN</td>\n",
       "      <td>NaN</td>\n",
       "    </tr>\n",
       "    <tr>\n",
       "      <th>...</th>\n",
       "      <td>...</td>\n",
       "      <td>...</td>\n",
       "      <td>...</td>\n",
       "      <td>...</td>\n",
       "      <td>...</td>\n",
       "      <td>...</td>\n",
       "      <td>...</td>\n",
       "      <td>...</td>\n",
       "      <td>...</td>\n",
       "    </tr>\n",
       "    <tr>\n",
       "      <th>9977</th>\n",
       "      <td>Élite</td>\n",
       "      <td>(2018– )</td>\n",
       "      <td>Crime, Drama, Thriller</td>\n",
       "      <td>NaN</td>\n",
       "      <td>Add a Plot</td>\n",
       "      <td>Stars: Georgina Amorós,  Carla Díaz,  Martina ...</td>\n",
       "      <td>NaN</td>\n",
       "      <td>NaN</td>\n",
       "      <td>NaN</td>\n",
       "    </tr>\n",
       "    <tr>\n",
       "      <th>9948</th>\n",
       "      <td>Élite</td>\n",
       "      <td>(2018– )</td>\n",
       "      <td>Crime, Drama, Thriller</td>\n",
       "      <td>NaN</td>\n",
       "      <td>Add a Plot</td>\n",
       "      <td>Stars: Georgina Amorós,  Carla Díaz,  Martina ...</td>\n",
       "      <td>NaN</td>\n",
       "      <td>NaN</td>\n",
       "      <td>NaN</td>\n",
       "    </tr>\n",
       "    <tr>\n",
       "      <th>8373</th>\n",
       "      <td>Élite</td>\n",
       "      <td>(2018– )</td>\n",
       "      <td>Crime, Drama, Thriller</td>\n",
       "      <td>NaN</td>\n",
       "      <td>Add a Plot</td>\n",
       "      <td>Stars: Claudia Salas,  Georgina Amorós,  Carla...</td>\n",
       "      <td>NaN</td>\n",
       "      <td>NaN</td>\n",
       "      <td>NaN</td>\n",
       "    </tr>\n",
       "    <tr>\n",
       "      <th>9936</th>\n",
       "      <td>Élite</td>\n",
       "      <td>(2018– )</td>\n",
       "      <td>Crime, Drama, Thriller</td>\n",
       "      <td>NaN</td>\n",
       "      <td>Add a Plot</td>\n",
       "      <td>Stars: Itzan Escamilla,  Omar Ayuso,  Claudia ...</td>\n",
       "      <td>NaN</td>\n",
       "      <td>NaN</td>\n",
       "      <td>NaN</td>\n",
       "    </tr>\n",
       "    <tr>\n",
       "      <th>9949</th>\n",
       "      <td>Élite</td>\n",
       "      <td>(2018– )</td>\n",
       "      <td>Crime, Drama, Thriller</td>\n",
       "      <td>NaN</td>\n",
       "      <td>Add a Plot</td>\n",
       "      <td>Stars: Georgina Amorós,  Carla Díaz,  Martina ...</td>\n",
       "      <td>NaN</td>\n",
       "      <td>NaN</td>\n",
       "      <td>NaN</td>\n",
       "    </tr>\n",
       "  </tbody>\n",
       "</table>\n",
       "<p>841 rows × 9 columns</p>\n",
       "</div>"
      ],
      "text/plain": [
       "        name      year                                genre  rating  \\\n",
       "9443    1899  (2022– )   Drama, History, Horror                 NaN   \n",
       "9980    1899  (2022– )   Drama, History, Horror                 NaN   \n",
       "9981    1899  (2022– )   Drama, History, Horror                 NaN   \n",
       "9982    1899  (2022– )   Drama, History, Horror                 NaN   \n",
       "9989    1899  (2022– )   Drama, History, Horror                 NaN   \n",
       "...      ...       ...                                  ...     ...   \n",
       "9977   Élite  (2018– )   Crime, Drama, Thriller                 NaN   \n",
       "9948   Élite  (2018– )   Crime, Drama, Thriller                 NaN   \n",
       "8373   Élite  (2018– )   Crime, Drama, Thriller                 NaN   \n",
       "9936   Élite  (2018– )   Crime, Drama, Thriller                 NaN   \n",
       "9949   Élite  (2018– )   Crime, Drama, Thriller                 NaN   \n",
       "\n",
       "         summary                                              stars votes  \\\n",
       "9443  Add a Plot  Director: Baran bo Odar |      Stars: Aneurin ...   NaN   \n",
       "9980  Add a Plot                            Director: Baran bo Odar   NaN   \n",
       "9981  Add a Plot                            Director: Baran bo Odar   NaN   \n",
       "9982  Add a Plot                            Director: Baran bo Odar   NaN   \n",
       "9989  Add a Plot                            Director: Baran bo Odar   NaN   \n",
       "...          ...                                                ...   ...   \n",
       "9977  Add a Plot  Stars: Georgina Amorós,  Carla Díaz,  Martina ...   NaN   \n",
       "9948  Add a Plot  Stars: Georgina Amorós,  Carla Díaz,  Martina ...   NaN   \n",
       "8373  Add a Plot  Stars: Claudia Salas,  Georgina Amorós,  Carla...   NaN   \n",
       "9936  Add a Plot  Stars: Itzan Escamilla,  Omar Ayuso,  Claudia ...   NaN   \n",
       "9949  Add a Plot  Stars: Georgina Amorós,  Carla Díaz,  Martina ...   NaN   \n",
       "\n",
       "      runtime gross  \n",
       "9443      NaN   NaN  \n",
       "9980      NaN   NaN  \n",
       "9981      NaN   NaN  \n",
       "9982      NaN   NaN  \n",
       "9989      NaN   NaN  \n",
       "...       ...   ...  \n",
       "9977      NaN   NaN  \n",
       "9948      NaN   NaN  \n",
       "8373      NaN   NaN  \n",
       "9936      NaN   NaN  \n",
       "9949      NaN   NaN  \n",
       "\n",
       "[841 rows x 9 columns]"
      ]
     },
     "execution_count": 6,
     "metadata": {},
     "output_type": "execute_result"
    }
   ],
   "source": [
    "movies[movies[columns].duplicated (keep = False)].sort_values('name')"
   ]
  },
  {
   "cell_type": "code",
   "execution_count": 7,
   "id": "32e282e2-46d4-4ae9-ab71-ea4d827d86b5",
   "metadata": {},
   "outputs": [
    {
     "data": {
      "text/plain": [
       "(703, 9)"
      ]
     },
     "execution_count": 7,
     "metadata": {},
     "output_type": "execute_result"
    }
   ],
   "source": [
    "movies[movies[columns].duplicated (keep = 'first')].shape"
   ]
  },
  {
   "cell_type": "code",
   "execution_count": 8,
   "id": "f07ee69d-fad5-45d9-84ac-c4dd91b2bfc5",
   "metadata": {},
   "outputs": [
    {
     "data": {
      "text/plain": [
       "(9999, 9)"
      ]
     },
     "execution_count": 8,
     "metadata": {},
     "output_type": "execute_result"
    }
   ],
   "source": [
    "movies.shape"
   ]
  },
  {
   "cell_type": "code",
   "execution_count": 9,
   "id": "59b74c54-9648-4967-8a0a-b853b325fbd4",
   "metadata": {},
   "outputs": [],
   "source": [
    "drop_all_duplicated_movies = movies.drop_duplicates()"
   ]
  },
  {
   "cell_type": "code",
   "execution_count": 10,
   "id": "b567ba65-22d0-4115-818c-964814657b22",
   "metadata": {},
   "outputs": [
    {
     "data": {
      "text/plain": [
       "(9568, 9)"
      ]
     },
     "execution_count": 10,
     "metadata": {},
     "output_type": "execute_result"
    }
   ],
   "source": [
    "drop_all_duplicated_movies.shape"
   ]
  },
  {
   "cell_type": "code",
   "execution_count": 11,
   "id": "85f6a1b3-7257-4ed7-b4b2-fa5030e02c83",
   "metadata": {},
   "outputs": [],
   "source": [
    "no_real_duplicates = movies.drop_duplicates(columns, keep = 'first')"
   ]
  },
  {
   "cell_type": "code",
   "execution_count": 12,
   "id": "d910688d-f9bc-410b-8854-6b0489387449",
   "metadata": {},
   "outputs": [
    {
     "data": {
      "text/plain": [
       "(9296, 9)"
      ]
     },
     "execution_count": 12,
     "metadata": {},
     "output_type": "execute_result"
    }
   ],
   "source": [
    "no_real_duplicates.shape"
   ]
  },
  {
   "cell_type": "markdown",
   "id": "d21b628c-7f16-44b2-baca-3d0bcac30211",
   "metadata": {},
   "source": [
    "# Nedostajuci podaci"
   ]
  },
  {
   "cell_type": "code",
   "execution_count": 13,
   "id": "88084ab5-5e9b-4c3c-86a9-9018c38d5dc7",
   "metadata": {},
   "outputs": [],
   "source": [
    "movies = no_real_duplicates"
   ]
  },
  {
   "cell_type": "code",
   "execution_count": 14,
   "id": "cd4d194a-88f4-4572-82f6-f3cf157588cf",
   "metadata": {},
   "outputs": [
    {
     "data": {
      "text/html": [
       "<div>\n",
       "<style scoped>\n",
       "    .dataframe tbody tr th:only-of-type {\n",
       "        vertical-align: middle;\n",
       "    }\n",
       "\n",
       "    .dataframe tbody tr th {\n",
       "        vertical-align: top;\n",
       "    }\n",
       "\n",
       "    .dataframe thead th {\n",
       "        text-align: right;\n",
       "    }\n",
       "</style>\n",
       "<table border=\"1\" class=\"dataframe\">\n",
       "  <thead>\n",
       "    <tr style=\"text-align: right;\">\n",
       "      <th></th>\n",
       "      <th>name</th>\n",
       "      <th>year</th>\n",
       "      <th>genre</th>\n",
       "      <th>rating</th>\n",
       "      <th>summary</th>\n",
       "      <th>stars</th>\n",
       "      <th>votes</th>\n",
       "      <th>runtime</th>\n",
       "      <th>gross</th>\n",
       "    </tr>\n",
       "  </thead>\n",
       "  <tbody>\n",
       "    <tr>\n",
       "      <th>0</th>\n",
       "      <td>Blood Red Sky</td>\n",
       "      <td>(2021)</td>\n",
       "      <td>Action, Horror, Thriller</td>\n",
       "      <td>6.1</td>\n",
       "      <td>A woman with a mysterious illness is forced in...</td>\n",
       "      <td>Director: Peter Thorwarth |      Stars: Peri B...</td>\n",
       "      <td>21,062</td>\n",
       "      <td>121.0</td>\n",
       "      <td>NaN</td>\n",
       "    </tr>\n",
       "    <tr>\n",
       "      <th>1</th>\n",
       "      <td>Masters of the Universe: Revelation</td>\n",
       "      <td>(2021– )</td>\n",
       "      <td>Animation, Action, Adventure</td>\n",
       "      <td>5.0</td>\n",
       "      <td>The war for Eternia begins again in what may b...</td>\n",
       "      <td>Stars: Chris Wood,  Sarah Michelle Gellar,  Le...</td>\n",
       "      <td>17,870</td>\n",
       "      <td>25.0</td>\n",
       "      <td>NaN</td>\n",
       "    </tr>\n",
       "    <tr>\n",
       "      <th>2</th>\n",
       "      <td>The Walking Dead</td>\n",
       "      <td>(2010–2022)</td>\n",
       "      <td>Drama, Horror, Thriller</td>\n",
       "      <td>8.2</td>\n",
       "      <td>Sheriff Deputy Rick Grimes wakes up from a com...</td>\n",
       "      <td>Stars: Andrew Lincoln,  Norman Reedus,  Meliss...</td>\n",
       "      <td>885,805</td>\n",
       "      <td>44.0</td>\n",
       "      <td>NaN</td>\n",
       "    </tr>\n",
       "    <tr>\n",
       "      <th>3</th>\n",
       "      <td>Rick and Morty</td>\n",
       "      <td>(2013– )</td>\n",
       "      <td>Animation, Adventure, Comedy</td>\n",
       "      <td>9.2</td>\n",
       "      <td>An animated series that follows the exploits o...</td>\n",
       "      <td>Stars: Justin Roiland,  Chris Parnell,  Spence...</td>\n",
       "      <td>414,849</td>\n",
       "      <td>23.0</td>\n",
       "      <td>NaN</td>\n",
       "    </tr>\n",
       "    <tr>\n",
       "      <th>4</th>\n",
       "      <td>Army of Thieves</td>\n",
       "      <td>(2021)</td>\n",
       "      <td>Action, Crime, Horror</td>\n",
       "      <td>NaN</td>\n",
       "      <td>A prequel, set before the events of Army of th...</td>\n",
       "      <td>Director: Matthias Schweighöfer |      Stars: ...</td>\n",
       "      <td>NaN</td>\n",
       "      <td>NaN</td>\n",
       "      <td>NaN</td>\n",
       "    </tr>\n",
       "  </tbody>\n",
       "</table>\n",
       "</div>"
      ],
      "text/plain": [
       "                                  name         year  \\\n",
       "0                        Blood Red Sky       (2021)   \n",
       "1  Masters of the Universe: Revelation     (2021– )   \n",
       "2                     The Walking Dead  (2010–2022)   \n",
       "3                       Rick and Morty     (2013– )   \n",
       "4                      Army of Thieves       (2021)   \n",
       "\n",
       "                                       genre  rating  \\\n",
       "0       Action, Horror, Thriller                 6.1   \n",
       "1   Animation, Action, Adventure                 5.0   \n",
       "2        Drama, Horror, Thriller                 8.2   \n",
       "3   Animation, Adventure, Comedy                 9.2   \n",
       "4          Action, Crime, Horror                 NaN   \n",
       "\n",
       "                                             summary  \\\n",
       "0  A woman with a mysterious illness is forced in...   \n",
       "1  The war for Eternia begins again in what may b...   \n",
       "2  Sheriff Deputy Rick Grimes wakes up from a com...   \n",
       "3  An animated series that follows the exploits o...   \n",
       "4  A prequel, set before the events of Army of th...   \n",
       "\n",
       "                                               stars    votes  runtime gross  \n",
       "0  Director: Peter Thorwarth |      Stars: Peri B...   21,062    121.0   NaN  \n",
       "1  Stars: Chris Wood,  Sarah Michelle Gellar,  Le...   17,870     25.0   NaN  \n",
       "2  Stars: Andrew Lincoln,  Norman Reedus,  Meliss...  885,805     44.0   NaN  \n",
       "3  Stars: Justin Roiland,  Chris Parnell,  Spence...  414,849     23.0   NaN  \n",
       "4  Director: Matthias Schweighöfer |      Stars: ...      NaN      NaN   NaN  "
      ]
     },
     "execution_count": 14,
     "metadata": {},
     "output_type": "execute_result"
    }
   ],
   "source": [
    "movies.head()"
   ]
  },
  {
   "cell_type": "code",
   "execution_count": 15,
   "id": "e2e2c848-b06e-4da5-b8cf-bc4d70c9ea4c",
   "metadata": {},
   "outputs": [
    {
     "data": {
      "text/plain": [
       "0       False\n",
       "1       False\n",
       "2       False\n",
       "3       False\n",
       "4       False\n",
       "        ...  \n",
       "9976    False\n",
       "9979    False\n",
       "9993    False\n",
       "9995    False\n",
       "9996    False\n",
       "Name: year, Length: 9296, dtype: bool"
      ]
     },
     "execution_count": 15,
     "metadata": {},
     "output_type": "execute_result"
    }
   ],
   "source": [
    "movies['year'].isna()"
   ]
  },
  {
   "cell_type": "code",
   "execution_count": 16,
   "id": "f5662ab2-c0b2-46d6-83ea-96fae26f8183",
   "metadata": {},
   "outputs": [
    {
     "data": {
      "text/html": [
       "<div>\n",
       "<style scoped>\n",
       "    .dataframe tbody tr th:only-of-type {\n",
       "        vertical-align: middle;\n",
       "    }\n",
       "\n",
       "    .dataframe tbody tr th {\n",
       "        vertical-align: top;\n",
       "    }\n",
       "\n",
       "    .dataframe thead th {\n",
       "        text-align: right;\n",
       "    }\n",
       "</style>\n",
       "<table border=\"1\" class=\"dataframe\">\n",
       "  <thead>\n",
       "    <tr style=\"text-align: right;\">\n",
       "      <th></th>\n",
       "      <th>name</th>\n",
       "      <th>year</th>\n",
       "      <th>genre</th>\n",
       "      <th>rating</th>\n",
       "      <th>summary</th>\n",
       "      <th>stars</th>\n",
       "      <th>votes</th>\n",
       "      <th>runtime</th>\n",
       "      <th>gross</th>\n",
       "    </tr>\n",
       "  </thead>\n",
       "  <tbody>\n",
       "    <tr>\n",
       "      <th>878</th>\n",
       "      <td>Vikings: Valhalla</td>\n",
       "      <td>NaN</td>\n",
       "      <td>Action, Adventure, Drama</td>\n",
       "      <td>NaN</td>\n",
       "      <td>Follow-up series to 'Vikings' set 100 years af...</td>\n",
       "      <td>Stars: Laura Berlin,  Sam Corlett,  Bradley Fr...</td>\n",
       "      <td>NaN</td>\n",
       "      <td>NaN</td>\n",
       "      <td>NaN</td>\n",
       "    </tr>\n",
       "    <tr>\n",
       "      <th>1375</th>\n",
       "      <td>Resident Evil</td>\n",
       "      <td>NaN</td>\n",
       "      <td>Action, Horror, Sci-Fi</td>\n",
       "      <td>NaN</td>\n",
       "      <td>Nearly three decades after the discovery of th...</td>\n",
       "      <td>Stars: Lance Reddick,  Siena Agudong,  Ella Ba...</td>\n",
       "      <td>NaN</td>\n",
       "      <td>NaN</td>\n",
       "      <td>NaN</td>\n",
       "    </tr>\n",
       "    <tr>\n",
       "      <th>1414</th>\n",
       "      <td>Bright 2</td>\n",
       "      <td>NaN</td>\n",
       "      <td>Action, Adventure, Crime</td>\n",
       "      <td>NaN</td>\n",
       "      <td>Plot unknown. Sequel to the 2017 film 'Bright.'</td>\n",
       "      <td>Stars: Will Smith,  Joel Edgerton</td>\n",
       "      <td>NaN</td>\n",
       "      <td>NaN</td>\n",
       "      <td>NaN</td>\n",
       "    </tr>\n",
       "    <tr>\n",
       "      <th>1419</th>\n",
       "      <td>Avatar: The Last Airbender</td>\n",
       "      <td>NaN</td>\n",
       "      <td>Action, Adventure, Fantasy</td>\n",
       "      <td>NaN</td>\n",
       "      <td>Live-action adaptation of the animated series ...</td>\n",
       "      <td>NaN</td>\n",
       "      <td>NaN</td>\n",
       "      <td>NaN</td>\n",
       "      <td>NaN</td>\n",
       "    </tr>\n",
       "    <tr>\n",
       "      <th>1425</th>\n",
       "      <td>Home Team</td>\n",
       "      <td>NaN</td>\n",
       "      <td>Comedy, Sport</td>\n",
       "      <td>NaN</td>\n",
       "      <td>The story about New Orleans Saints head coach ...</td>\n",
       "      <td>Directors: Charles Francis Kinnane,  Daniel Ki...</td>\n",
       "      <td>NaN</td>\n",
       "      <td>NaN</td>\n",
       "      <td>NaN</td>\n",
       "    </tr>\n",
       "    <tr>\n",
       "      <th>...</th>\n",
       "      <td>...</td>\n",
       "      <td>...</td>\n",
       "      <td>...</td>\n",
       "      <td>...</td>\n",
       "      <td>...</td>\n",
       "      <td>...</td>\n",
       "      <td>...</td>\n",
       "      <td>...</td>\n",
       "      <td>...</td>\n",
       "    </tr>\n",
       "    <tr>\n",
       "      <th>9659</th>\n",
       "      <td>Yeh Kaali Kaali Ankhein</td>\n",
       "      <td>NaN</td>\n",
       "      <td>Action, Drama, Romance</td>\n",
       "      <td>NaN</td>\n",
       "      <td>Add a Plot</td>\n",
       "      <td>Directors: Rohit Jugraj,  Siddharth Sengupta |...</td>\n",
       "      <td>NaN</td>\n",
       "      <td>NaN</td>\n",
       "      <td>NaN</td>\n",
       "    </tr>\n",
       "    <tr>\n",
       "      <th>9736</th>\n",
       "      <td>From Scratch</td>\n",
       "      <td>NaN</td>\n",
       "      <td>Drama</td>\n",
       "      <td>NaN</td>\n",
       "      <td>Add a Plot</td>\n",
       "      <td>Director: Nzingha Stewart |      Stars: Antoni...</td>\n",
       "      <td>NaN</td>\n",
       "      <td>NaN</td>\n",
       "      <td>NaN</td>\n",
       "    </tr>\n",
       "    <tr>\n",
       "      <th>9781</th>\n",
       "      <td>Inside Man</td>\n",
       "      <td>NaN</td>\n",
       "      <td>Drama, Mystery, Thriller</td>\n",
       "      <td>NaN</td>\n",
       "      <td>Add a Plot</td>\n",
       "      <td>Director: Paul McGuigan |      Stars: July Nam...</td>\n",
       "      <td>NaN</td>\n",
       "      <td>NaN</td>\n",
       "      <td>NaN</td>\n",
       "    </tr>\n",
       "    <tr>\n",
       "      <th>9836</th>\n",
       "      <td>Kus uçusu</td>\n",
       "      <td>NaN</td>\n",
       "      <td>Comedy</td>\n",
       "      <td>NaN</td>\n",
       "      <td>Add a Plot</td>\n",
       "      <td>Director: Deniz Yorulmazer |      Stars: Birce...</td>\n",
       "      <td>NaN</td>\n",
       "      <td>NaN</td>\n",
       "      <td>NaN</td>\n",
       "    </tr>\n",
       "    <tr>\n",
       "      <th>9904</th>\n",
       "      <td>Pretty Smart</td>\n",
       "      <td>NaN</td>\n",
       "      <td>Comedy</td>\n",
       "      <td>NaN</td>\n",
       "      <td>Add a Plot</td>\n",
       "      <td>Director: Pamela Fryman |      Stars: Cinthya ...</td>\n",
       "      <td>NaN</td>\n",
       "      <td>NaN</td>\n",
       "      <td>NaN</td>\n",
       "    </tr>\n",
       "  </tbody>\n",
       "</table>\n",
       "<p>482 rows × 9 columns</p>\n",
       "</div>"
      ],
      "text/plain": [
       "                            name year  \\\n",
       "878            Vikings: Valhalla  NaN   \n",
       "1375               Resident Evil  NaN   \n",
       "1414                    Bright 2  NaN   \n",
       "1419  Avatar: The Last Airbender  NaN   \n",
       "1425                   Home Team  NaN   \n",
       "...                          ...  ...   \n",
       "9659     Yeh Kaali Kaali Ankhein  NaN   \n",
       "9736                From Scratch  NaN   \n",
       "9781                  Inside Man  NaN   \n",
       "9836                   Kus uçusu  NaN   \n",
       "9904                Pretty Smart  NaN   \n",
       "\n",
       "                                        genre  rating  \\\n",
       "878      Action, Adventure, Drama                 NaN   \n",
       "1375       Action, Horror, Sci-Fi                 NaN   \n",
       "1414     Action, Adventure, Crime                 NaN   \n",
       "1419   Action, Adventure, Fantasy                 NaN   \n",
       "1425                Comedy, Sport                 NaN   \n",
       "...                                       ...     ...   \n",
       "9659       Action, Drama, Romance                 NaN   \n",
       "9736                        Drama                 NaN   \n",
       "9781     Drama, Mystery, Thriller                 NaN   \n",
       "9836                       Comedy                 NaN   \n",
       "9904                       Comedy                 NaN   \n",
       "\n",
       "                                                summary  \\\n",
       "878   Follow-up series to 'Vikings' set 100 years af...   \n",
       "1375  Nearly three decades after the discovery of th...   \n",
       "1414    Plot unknown. Sequel to the 2017 film 'Bright.'   \n",
       "1419  Live-action adaptation of the animated series ...   \n",
       "1425  The story about New Orleans Saints head coach ...   \n",
       "...                                                 ...   \n",
       "9659                                         Add a Plot   \n",
       "9736                                         Add a Plot   \n",
       "9781                                         Add a Plot   \n",
       "9836                                         Add a Plot   \n",
       "9904                                         Add a Plot   \n",
       "\n",
       "                                                  stars votes  runtime gross  \n",
       "878   Stars: Laura Berlin,  Sam Corlett,  Bradley Fr...   NaN      NaN   NaN  \n",
       "1375  Stars: Lance Reddick,  Siena Agudong,  Ella Ba...   NaN      NaN   NaN  \n",
       "1414                  Stars: Will Smith,  Joel Edgerton   NaN      NaN   NaN  \n",
       "1419                                                NaN   NaN      NaN   NaN  \n",
       "1425  Directors: Charles Francis Kinnane,  Daniel Ki...   NaN      NaN   NaN  \n",
       "...                                                 ...   ...      ...   ...  \n",
       "9659  Directors: Rohit Jugraj,  Siddharth Sengupta |...   NaN      NaN   NaN  \n",
       "9736  Director: Nzingha Stewart |      Stars: Antoni...   NaN      NaN   NaN  \n",
       "9781  Director: Paul McGuigan |      Stars: July Nam...   NaN      NaN   NaN  \n",
       "9836  Director: Deniz Yorulmazer |      Stars: Birce...   NaN      NaN   NaN  \n",
       "9904  Director: Pamela Fryman |      Stars: Cinthya ...   NaN      NaN   NaN  \n",
       "\n",
       "[482 rows x 9 columns]"
      ]
     },
     "execution_count": 16,
     "metadata": {},
     "output_type": "execute_result"
    }
   ],
   "source": [
    "movies[movies['year'].isna()]"
   ]
  },
  {
   "cell_type": "code",
   "execution_count": 17,
   "id": "f9eed152-06bb-4739-9a43-f835c422fa5f",
   "metadata": {},
   "outputs": [
    {
     "data": {
      "text/plain": [
       "name          0\n",
       "year        482\n",
       "genre        78\n",
       "rating     1197\n",
       "summary       0\n",
       "stars       381\n",
       "votes      1197\n",
       "runtime    2313\n",
       "gross      8836\n",
       "dtype: int64"
      ]
     },
     "execution_count": 17,
     "metadata": {},
     "output_type": "execute_result"
    }
   ],
   "source": [
    "movies.isna().sum()"
   ]
  },
  {
   "cell_type": "markdown",
   "id": "6ff1c993-a97c-4064-8c5e-0a6f992119cd",
   "metadata": {},
   "source": [
    "## Brisanje nedostajucih podataka"
   ]
  },
  {
   "cell_type": "code",
   "execution_count": 18,
   "id": "fd86f559-b9f2-4aed-bbb2-cccb55f529f4",
   "metadata": {},
   "outputs": [],
   "source": [
    "movies = movies.drop('gross', axis = 1)"
   ]
  },
  {
   "cell_type": "code",
   "execution_count": 19,
   "id": "af4c6cc4-4d7d-440f-bb83-65b05a2307df",
   "metadata": {},
   "outputs": [
    {
     "data": {
      "text/html": [
       "<div>\n",
       "<style scoped>\n",
       "    .dataframe tbody tr th:only-of-type {\n",
       "        vertical-align: middle;\n",
       "    }\n",
       "\n",
       "    .dataframe tbody tr th {\n",
       "        vertical-align: top;\n",
       "    }\n",
       "\n",
       "    .dataframe thead th {\n",
       "        text-align: right;\n",
       "    }\n",
       "</style>\n",
       "<table border=\"1\" class=\"dataframe\">\n",
       "  <thead>\n",
       "    <tr style=\"text-align: right;\">\n",
       "      <th></th>\n",
       "      <th>name</th>\n",
       "      <th>year</th>\n",
       "      <th>genre</th>\n",
       "      <th>rating</th>\n",
       "      <th>summary</th>\n",
       "      <th>stars</th>\n",
       "      <th>votes</th>\n",
       "      <th>runtime</th>\n",
       "    </tr>\n",
       "  </thead>\n",
       "  <tbody>\n",
       "    <tr>\n",
       "      <th>0</th>\n",
       "      <td>Blood Red Sky</td>\n",
       "      <td>(2021)</td>\n",
       "      <td>Action, Horror, Thriller</td>\n",
       "      <td>6.1</td>\n",
       "      <td>A woman with a mysterious illness is forced in...</td>\n",
       "      <td>Director: Peter Thorwarth |      Stars: Peri B...</td>\n",
       "      <td>21,062</td>\n",
       "      <td>121.0</td>\n",
       "    </tr>\n",
       "    <tr>\n",
       "      <th>1</th>\n",
       "      <td>Masters of the Universe: Revelation</td>\n",
       "      <td>(2021– )</td>\n",
       "      <td>Animation, Action, Adventure</td>\n",
       "      <td>5.0</td>\n",
       "      <td>The war for Eternia begins again in what may b...</td>\n",
       "      <td>Stars: Chris Wood,  Sarah Michelle Gellar,  Le...</td>\n",
       "      <td>17,870</td>\n",
       "      <td>25.0</td>\n",
       "    </tr>\n",
       "    <tr>\n",
       "      <th>2</th>\n",
       "      <td>The Walking Dead</td>\n",
       "      <td>(2010–2022)</td>\n",
       "      <td>Drama, Horror, Thriller</td>\n",
       "      <td>8.2</td>\n",
       "      <td>Sheriff Deputy Rick Grimes wakes up from a com...</td>\n",
       "      <td>Stars: Andrew Lincoln,  Norman Reedus,  Meliss...</td>\n",
       "      <td>885,805</td>\n",
       "      <td>44.0</td>\n",
       "    </tr>\n",
       "    <tr>\n",
       "      <th>3</th>\n",
       "      <td>Rick and Morty</td>\n",
       "      <td>(2013– )</td>\n",
       "      <td>Animation, Adventure, Comedy</td>\n",
       "      <td>9.2</td>\n",
       "      <td>An animated series that follows the exploits o...</td>\n",
       "      <td>Stars: Justin Roiland,  Chris Parnell,  Spence...</td>\n",
       "      <td>414,849</td>\n",
       "      <td>23.0</td>\n",
       "    </tr>\n",
       "    <tr>\n",
       "      <th>4</th>\n",
       "      <td>Army of Thieves</td>\n",
       "      <td>(2021)</td>\n",
       "      <td>Action, Crime, Horror</td>\n",
       "      <td>NaN</td>\n",
       "      <td>A prequel, set before the events of Army of th...</td>\n",
       "      <td>Director: Matthias Schweighöfer |      Stars: ...</td>\n",
       "      <td>NaN</td>\n",
       "      <td>NaN</td>\n",
       "    </tr>\n",
       "  </tbody>\n",
       "</table>\n",
       "</div>"
      ],
      "text/plain": [
       "                                  name         year  \\\n",
       "0                        Blood Red Sky       (2021)   \n",
       "1  Masters of the Universe: Revelation     (2021– )   \n",
       "2                     The Walking Dead  (2010–2022)   \n",
       "3                       Rick and Morty     (2013– )   \n",
       "4                      Army of Thieves       (2021)   \n",
       "\n",
       "                                       genre  rating  \\\n",
       "0       Action, Horror, Thriller                 6.1   \n",
       "1   Animation, Action, Adventure                 5.0   \n",
       "2        Drama, Horror, Thriller                 8.2   \n",
       "3   Animation, Adventure, Comedy                 9.2   \n",
       "4          Action, Crime, Horror                 NaN   \n",
       "\n",
       "                                             summary  \\\n",
       "0  A woman with a mysterious illness is forced in...   \n",
       "1  The war for Eternia begins again in what may b...   \n",
       "2  Sheriff Deputy Rick Grimes wakes up from a com...   \n",
       "3  An animated series that follows the exploits o...   \n",
       "4  A prequel, set before the events of Army of th...   \n",
       "\n",
       "                                               stars    votes  runtime  \n",
       "0  Director: Peter Thorwarth |      Stars: Peri B...   21,062    121.0  \n",
       "1  Stars: Chris Wood,  Sarah Michelle Gellar,  Le...   17,870     25.0  \n",
       "2  Stars: Andrew Lincoln,  Norman Reedus,  Meliss...  885,805     44.0  \n",
       "3  Stars: Justin Roiland,  Chris Parnell,  Spence...  414,849     23.0  \n",
       "4  Director: Matthias Schweighöfer |      Stars: ...      NaN      NaN  "
      ]
     },
     "execution_count": 19,
     "metadata": {},
     "output_type": "execute_result"
    }
   ],
   "source": [
    "movies.head()"
   ]
  },
  {
   "cell_type": "code",
   "execution_count": 20,
   "id": "036252f5-ebb3-4ff1-acfa-c8cbb9e90c98",
   "metadata": {},
   "outputs": [],
   "source": [
    "drop_all_na = movies.copy()"
   ]
  },
  {
   "cell_type": "code",
   "execution_count": 21,
   "id": "ce3c71d8-0e16-4d5f-9bf9-14b209cced9d",
   "metadata": {},
   "outputs": [],
   "source": [
    "drop_all_na = drop_all_na.dropna()"
   ]
  },
  {
   "cell_type": "code",
   "execution_count": 22,
   "id": "0e33df7f-233f-47f7-a462-10bd6084533f",
   "metadata": {},
   "outputs": [
    {
     "data": {
      "text/plain": [
       "(6727, 8)"
      ]
     },
     "execution_count": 22,
     "metadata": {},
     "output_type": "execute_result"
    }
   ],
   "source": [
    "drop_all_na.shape"
   ]
  },
  {
   "cell_type": "code",
   "execution_count": 23,
   "id": "8ecc625c-c381-4a7b-95fa-5a203332e0b2",
   "metadata": {},
   "outputs": [],
   "source": [
    "movies = movies.dropna(subset = ['year', 'genre', 'stars'])"
   ]
  },
  {
   "cell_type": "code",
   "execution_count": 24,
   "id": "ed0eba64-c9e7-4f61-92fa-f3cd332e108a",
   "metadata": {},
   "outputs": [
    {
     "data": {
      "text/plain": [
       "(8596, 8)"
      ]
     },
     "execution_count": 24,
     "metadata": {},
     "output_type": "execute_result"
    }
   ],
   "source": [
    "movies.shape"
   ]
  },
  {
   "cell_type": "code",
   "execution_count": 25,
   "id": "1a7a8940-ea9c-495c-a6a9-06e11ee951ab",
   "metadata": {},
   "outputs": [
    {
     "data": {
      "text/plain": [
       "name          0\n",
       "year          0\n",
       "genre         0\n",
       "rating      591\n",
       "summary       0\n",
       "stars         0\n",
       "votes       591\n",
       "runtime    1691\n",
       "dtype: int64"
      ]
     },
     "execution_count": 25,
     "metadata": {},
     "output_type": "execute_result"
    }
   ],
   "source": [
    "movies.isna().sum()"
   ]
  },
  {
   "cell_type": "markdown",
   "id": "9b41fb54-aef7-4664-b717-aebf91ba429b",
   "metadata": {},
   "source": [
    "Numericki podaci"
   ]
  },
  {
   "cell_type": "code",
   "execution_count": 26,
   "id": "51d8ee3f-1739-4722-a2ac-e9b3d3328c30",
   "metadata": {},
   "outputs": [
    {
     "data": {
      "text/html": [
       "<div>\n",
       "<style scoped>\n",
       "    .dataframe tbody tr th:only-of-type {\n",
       "        vertical-align: middle;\n",
       "    }\n",
       "\n",
       "    .dataframe tbody tr th {\n",
       "        vertical-align: top;\n",
       "    }\n",
       "\n",
       "    .dataframe thead th {\n",
       "        text-align: right;\n",
       "    }\n",
       "</style>\n",
       "<table border=\"1\" class=\"dataframe\">\n",
       "  <thead>\n",
       "    <tr style=\"text-align: right;\">\n",
       "      <th></th>\n",
       "      <th>name</th>\n",
       "      <th>year</th>\n",
       "      <th>genre</th>\n",
       "      <th>rating</th>\n",
       "      <th>summary</th>\n",
       "      <th>stars</th>\n",
       "      <th>votes</th>\n",
       "      <th>runtime</th>\n",
       "    </tr>\n",
       "  </thead>\n",
       "  <tbody>\n",
       "    <tr>\n",
       "      <th>4</th>\n",
       "      <td>Army of Thieves</td>\n",
       "      <td>(2021)</td>\n",
       "      <td>Action, Crime, Horror</td>\n",
       "      <td>NaN</td>\n",
       "      <td>A prequel, set before the events of Army of th...</td>\n",
       "      <td>Director: Matthias Schweighöfer |      Stars: ...</td>\n",
       "      <td>NaN</td>\n",
       "      <td>NaN</td>\n",
       "    </tr>\n",
       "    <tr>\n",
       "      <th>214</th>\n",
       "      <td>Sing 2</td>\n",
       "      <td>(2021)</td>\n",
       "      <td>Animation, Adventure, Comedy</td>\n",
       "      <td>NaN</td>\n",
       "      <td>Buster Moon and his friends must persuade recl...</td>\n",
       "      <td>Director: Garth Jennings |      Stars: Matthew...</td>\n",
       "      <td>NaN</td>\n",
       "      <td>NaN</td>\n",
       "    </tr>\n",
       "    <tr>\n",
       "      <th>217</th>\n",
       "      <td>Knives Out 2</td>\n",
       "      <td>(2022)</td>\n",
       "      <td>Comedy, Crime, Drama</td>\n",
       "      <td>NaN</td>\n",
       "      <td>Plot unknown. Sequel to the 2019 film 'Knives ...</td>\n",
       "      <td>Director: Rian Johnson |      Stars: Madelyn C...</td>\n",
       "      <td>NaN</td>\n",
       "      <td>NaN</td>\n",
       "    </tr>\n",
       "    <tr>\n",
       "      <th>222</th>\n",
       "      <td>Don't Look Up</td>\n",
       "      <td>(2021)</td>\n",
       "      <td>Comedy</td>\n",
       "      <td>NaN</td>\n",
       "      <td>The story of two low-level astronomers, who mu...</td>\n",
       "      <td>Director: Adam McKay |      Stars: Timothée Ch...</td>\n",
       "      <td>NaN</td>\n",
       "      <td>145.0</td>\n",
       "    </tr>\n",
       "    <tr>\n",
       "      <th>236</th>\n",
       "      <td>Red Notice</td>\n",
       "      <td>(2021)</td>\n",
       "      <td>Action, Comedy, Crime</td>\n",
       "      <td>NaN</td>\n",
       "      <td>An Interpol agent tracks the world's most want...</td>\n",
       "      <td>Director: Rawson Marshall Thurber |      Stars...</td>\n",
       "      <td>NaN</td>\n",
       "      <td>NaN</td>\n",
       "    </tr>\n",
       "    <tr>\n",
       "      <th>...</th>\n",
       "      <td>...</td>\n",
       "      <td>...</td>\n",
       "      <td>...</td>\n",
       "      <td>...</td>\n",
       "      <td>...</td>\n",
       "      <td>...</td>\n",
       "      <td>...</td>\n",
       "      <td>...</td>\n",
       "    </tr>\n",
       "    <tr>\n",
       "      <th>9964</th>\n",
       "      <td>AlRawabi School for Girls</td>\n",
       "      <td>(2021)</td>\n",
       "      <td>Drama</td>\n",
       "      <td>NaN</td>\n",
       "      <td>Add a Plot</td>\n",
       "      <td>Director: Tima Shomali |      Stars: Salsabiel...</td>\n",
       "      <td>NaN</td>\n",
       "      <td>NaN</td>\n",
       "    </tr>\n",
       "    <tr>\n",
       "      <th>9975</th>\n",
       "      <td>Ultraman</td>\n",
       "      <td>(2019– )</td>\n",
       "      <td>Animation, Action, Adventure</td>\n",
       "      <td>NaN</td>\n",
       "      <td>Add a Plot</td>\n",
       "      <td>Stars: Ryohei Kimura,  Josh Hutcherson</td>\n",
       "      <td>NaN</td>\n",
       "      <td>NaN</td>\n",
       "    </tr>\n",
       "    <tr>\n",
       "      <th>9976</th>\n",
       "      <td>The Talk</td>\n",
       "      <td>(2010– )</td>\n",
       "      <td>Talk-Show</td>\n",
       "      <td>NaN</td>\n",
       "      <td>Actor Brian Tyree Henry (\"Godzilla vs. Kong\", ...</td>\n",
       "      <td>Stars: Sheryl Underwood,  Carrie Ann Inaba,  A...</td>\n",
       "      <td>NaN</td>\n",
       "      <td>38.0</td>\n",
       "    </tr>\n",
       "    <tr>\n",
       "      <th>9993</th>\n",
       "      <td>Totenfrau</td>\n",
       "      <td>(2022– )</td>\n",
       "      <td>Drama, Thriller</td>\n",
       "      <td>NaN</td>\n",
       "      <td>Add a Plot</td>\n",
       "      <td>Director: Nicolai Rohde |      Stars: Felix Kl...</td>\n",
       "      <td>NaN</td>\n",
       "      <td>NaN</td>\n",
       "    </tr>\n",
       "    <tr>\n",
       "      <th>9996</th>\n",
       "      <td>Heart of Invictus</td>\n",
       "      <td>(2022– )</td>\n",
       "      <td>Documentary, Sport</td>\n",
       "      <td>NaN</td>\n",
       "      <td>Add a Plot</td>\n",
       "      <td>Director: Orlando von Einsiedel |      Star: P...</td>\n",
       "      <td>NaN</td>\n",
       "      <td>NaN</td>\n",
       "    </tr>\n",
       "  </tbody>\n",
       "</table>\n",
       "<p>591 rows × 8 columns</p>\n",
       "</div>"
      ],
      "text/plain": [
       "                            name      year  \\\n",
       "4                Army of Thieves    (2021)   \n",
       "214                       Sing 2    (2021)   \n",
       "217                 Knives Out 2    (2022)   \n",
       "222                Don't Look Up    (2021)   \n",
       "236                   Red Notice    (2021)   \n",
       "...                          ...       ...   \n",
       "9964   AlRawabi School for Girls    (2021)   \n",
       "9975                    Ultraman  (2019– )   \n",
       "9976                    The Talk  (2010– )   \n",
       "9993                   Totenfrau  (2022– )   \n",
       "9996           Heart of Invictus  (2022– )   \n",
       "\n",
       "                                          genre  rating  \\\n",
       "4             Action, Crime, Horror                 NaN   \n",
       "214    Animation, Adventure, Comedy                 NaN   \n",
       "217            Comedy, Crime, Drama                 NaN   \n",
       "222                          Comedy                 NaN   \n",
       "236           Action, Comedy, Crime                 NaN   \n",
       "...                                         ...     ...   \n",
       "9964                          Drama                 NaN   \n",
       "9975   Animation, Action, Adventure                 NaN   \n",
       "9976                      Talk-Show                 NaN   \n",
       "9993                Drama, Thriller                 NaN   \n",
       "9996             Documentary, Sport                 NaN   \n",
       "\n",
       "                                                summary  \\\n",
       "4     A prequel, set before the events of Army of th...   \n",
       "214   Buster Moon and his friends must persuade recl...   \n",
       "217   Plot unknown. Sequel to the 2019 film 'Knives ...   \n",
       "222   The story of two low-level astronomers, who mu...   \n",
       "236   An Interpol agent tracks the world's most want...   \n",
       "...                                                 ...   \n",
       "9964                                         Add a Plot   \n",
       "9975                                         Add a Plot   \n",
       "9976  Actor Brian Tyree Henry (\"Godzilla vs. Kong\", ...   \n",
       "9993                                         Add a Plot   \n",
       "9996                                         Add a Plot   \n",
       "\n",
       "                                                  stars votes  runtime  \n",
       "4     Director: Matthias Schweighöfer |      Stars: ...   NaN      NaN  \n",
       "214   Director: Garth Jennings |      Stars: Matthew...   NaN      NaN  \n",
       "217   Director: Rian Johnson |      Stars: Madelyn C...   NaN      NaN  \n",
       "222   Director: Adam McKay |      Stars: Timothée Ch...   NaN    145.0  \n",
       "236   Director: Rawson Marshall Thurber |      Stars...   NaN      NaN  \n",
       "...                                                 ...   ...      ...  \n",
       "9964  Director: Tima Shomali |      Stars: Salsabiel...   NaN      NaN  \n",
       "9975             Stars: Ryohei Kimura,  Josh Hutcherson   NaN      NaN  \n",
       "9976  Stars: Sheryl Underwood,  Carrie Ann Inaba,  A...   NaN     38.0  \n",
       "9993  Director: Nicolai Rohde |      Stars: Felix Kl...   NaN      NaN  \n",
       "9996  Director: Orlando von Einsiedel |      Star: P...   NaN      NaN  \n",
       "\n",
       "[591 rows x 8 columns]"
      ]
     },
     "execution_count": 26,
     "metadata": {},
     "output_type": "execute_result"
    }
   ],
   "source": [
    "movies[movies['rating'].isna()]"
   ]
  },
  {
   "cell_type": "code",
   "execution_count": 27,
   "id": "a1a7b619-fc15-44ec-878d-eb0d89713edd",
   "metadata": {},
   "outputs": [
    {
     "data": {
      "text/plain": [
       "name                                         Army of Thieves\n",
       "year                                                  (2021)\n",
       "genre                      Action, Crime, Horror            \n",
       "rating                                                   NaN\n",
       "summary    A prequel, set before the events of Army of th...\n",
       "stars      Director: Matthias Schweighöfer |      Stars: ...\n",
       "votes                                                    NaN\n",
       "runtime                                                  NaN\n",
       "Name: 4, dtype: object"
      ]
     },
     "execution_count": 27,
     "metadata": {},
     "output_type": "execute_result"
    }
   ],
   "source": [
    "movies.iloc[4]"
   ]
  },
  {
   "cell_type": "code",
   "execution_count": 28,
   "id": "d0d14346-c4c5-428f-b098-538eddd98723",
   "metadata": {},
   "outputs": [],
   "source": [
    "mean_of_rating = movies['rating'].mean()"
   ]
  },
  {
   "cell_type": "code",
   "execution_count": 29,
   "id": "e9112fe4-828f-4b40-b410-17230f04348f",
   "metadata": {},
   "outputs": [
    {
     "data": {
      "text/plain": [
       "np.float64(6.916564647095565)"
      ]
     },
     "execution_count": 29,
     "metadata": {},
     "output_type": "execute_result"
    }
   ],
   "source": [
    "mean_of_rating"
   ]
  },
  {
   "cell_type": "code",
   "execution_count": 30,
   "id": "e8dc3d86-3ed7-4dd7-9943-114d3b1648aa",
   "metadata": {},
   "outputs": [],
   "source": [
    "mean_of_rating =  round(movies['rating'].mean(), 1)"
   ]
  },
  {
   "cell_type": "code",
   "execution_count": 31,
   "id": "c92d00bb-3a8e-4ed4-a361-786556d5c455",
   "metadata": {},
   "outputs": [
    {
     "data": {
      "text/plain": [
       "np.float64(6.9)"
      ]
     },
     "execution_count": 31,
     "metadata": {},
     "output_type": "execute_result"
    }
   ],
   "source": [
    "mean_of_rating"
   ]
  },
  {
   "cell_type": "code",
   "execution_count": 32,
   "id": "dd55033a-90c0-406c-90d6-506862f9f979",
   "metadata": {},
   "outputs": [],
   "source": [
    "movies['rating'] = movies['rating'] . fillna(mean_of_rating)"
   ]
  },
  {
   "cell_type": "code",
   "execution_count": 33,
   "id": "ee1992fb-c61e-4215-ab27-94508cf4fc1d",
   "metadata": {},
   "outputs": [
    {
     "data": {
      "text/plain": [
       "name                                         Army of Thieves\n",
       "year                                                  (2021)\n",
       "genre                      Action, Crime, Horror            \n",
       "rating                                                   6.9\n",
       "summary    A prequel, set before the events of Army of th...\n",
       "stars      Director: Matthias Schweighöfer |      Stars: ...\n",
       "votes                                                    NaN\n",
       "runtime                                                  NaN\n",
       "Name: 4, dtype: object"
      ]
     },
     "execution_count": 33,
     "metadata": {},
     "output_type": "execute_result"
    }
   ],
   "source": [
    "movies.iloc[4]"
   ]
  },
  {
   "cell_type": "code",
   "execution_count": 34,
   "id": "9ec75bca-3897-440e-b4b8-69cf3b02b3af",
   "metadata": {},
   "outputs": [
    {
     "data": {
      "text/plain": [
       "name          0\n",
       "year          0\n",
       "genre         0\n",
       "rating        0\n",
       "summary       0\n",
       "stars         0\n",
       "votes       591\n",
       "runtime    1691\n",
       "dtype: int64"
      ]
     },
     "execution_count": 34,
     "metadata": {},
     "output_type": "execute_result"
    }
   ],
   "source": [
    "movies.isna().sum()"
   ]
  },
  {
   "cell_type": "code",
   "execution_count": 35,
   "id": "2c7c0454-6c21-4b7e-992e-8997262f83e2",
   "metadata": {},
   "outputs": [],
   "source": [
    "movies['votes'] = movies['votes'] . fillna(0)"
   ]
  },
  {
   "cell_type": "code",
   "execution_count": 36,
   "id": "e1f3d8be-bd02-4b07-ae22-8a82d737d233",
   "metadata": {},
   "outputs": [
    {
     "data": {
      "text/plain": [
       "name                                         Army of Thieves\n",
       "year                                                  (2021)\n",
       "genre                      Action, Crime, Horror            \n",
       "rating                                                   6.9\n",
       "summary    A prequel, set before the events of Army of th...\n",
       "stars      Director: Matthias Schweighöfer |      Stars: ...\n",
       "votes                                                      0\n",
       "runtime                                                  NaN\n",
       "Name: 4, dtype: object"
      ]
     },
     "execution_count": 36,
     "metadata": {},
     "output_type": "execute_result"
    }
   ],
   "source": [
    "movies.iloc[4]"
   ]
  },
  {
   "cell_type": "code",
   "execution_count": 37,
   "id": "b79891bf-163d-4907-9efb-3a551bb82f2a",
   "metadata": {},
   "outputs": [],
   "source": [
    "mean_of_runtime = movies['runtime'].mean()"
   ]
  },
  {
   "cell_type": "code",
   "execution_count": 38,
   "id": "ef259a7c-8e5b-48cf-ac56-4bf7f423be80",
   "metadata": {},
   "outputs": [
    {
     "data": {
      "text/plain": [
       "np.float64(69.31846488052136)"
      ]
     },
     "execution_count": 38,
     "metadata": {},
     "output_type": "execute_result"
    }
   ],
   "source": [
    "mean_of_runtime"
   ]
  },
  {
   "cell_type": "code",
   "execution_count": 39,
   "id": "4f3c1389-c819-4d81-a719-45ef443e3982",
   "metadata": {},
   "outputs": [],
   "source": [
    "mean_of_runtime = round(movies['runtime'].mean(),0)"
   ]
  },
  {
   "cell_type": "code",
   "execution_count": 40,
   "id": "1922cf6d-bce8-4046-b44d-01fa9adf429d",
   "metadata": {},
   "outputs": [],
   "source": [
    "movies['runtime'] = movies['runtime'] . fillna(mean_of_runtime)"
   ]
  },
  {
   "cell_type": "code",
   "execution_count": 41,
   "id": "c495e5b5-af36-4c23-98bc-74fac13f5c88",
   "metadata": {},
   "outputs": [
    {
     "data": {
      "text/plain": [
       "name                                         Army of Thieves\n",
       "year                                                  (2021)\n",
       "genre                      Action, Crime, Horror            \n",
       "rating                                                   6.9\n",
       "summary    A prequel, set before the events of Army of th...\n",
       "stars      Director: Matthias Schweighöfer |      Stars: ...\n",
       "votes                                                      0\n",
       "runtime                                                 69.0\n",
       "Name: 4, dtype: object"
      ]
     },
     "execution_count": 41,
     "metadata": {},
     "output_type": "execute_result"
    }
   ],
   "source": [
    "movies.iloc[4]"
   ]
  },
  {
   "cell_type": "code",
   "execution_count": 42,
   "id": "2d5d244e-ee67-44f5-8324-0f1f9660482c",
   "metadata": {},
   "outputs": [
    {
     "data": {
      "text/plain": [
       "name       0\n",
       "year       0\n",
       "genre      0\n",
       "rating     0\n",
       "summary    0\n",
       "stars      0\n",
       "votes      0\n",
       "runtime    0\n",
       "dtype: int64"
      ]
     },
     "execution_count": 42,
     "metadata": {},
     "output_type": "execute_result"
    }
   ],
   "source": [
    "movies.isna().sum()"
   ]
  },
  {
   "cell_type": "markdown",
   "id": "92758205-3bdd-4f23-9b28-58ce12d6992d",
   "metadata": {},
   "source": [
    "Kategoricki podaci"
   ]
  },
  {
   "cell_type": "code",
   "execution_count": 43,
   "id": "15179ee5-b6de-43e0-93e0-225ea43aead6",
   "metadata": {},
   "outputs": [],
   "source": [
    "airbnb = pd.read_csv('new_airbnb.csv')"
   ]
  },
  {
   "cell_type": "code",
   "execution_count": 44,
   "id": "ca26137a-302a-429e-b52d-b4051516f307",
   "metadata": {},
   "outputs": [
    {
     "data": {
      "text/html": [
       "<div>\n",
       "<style scoped>\n",
       "    .dataframe tbody tr th:only-of-type {\n",
       "        vertical-align: middle;\n",
       "    }\n",
       "\n",
       "    .dataframe tbody tr th {\n",
       "        vertical-align: top;\n",
       "    }\n",
       "\n",
       "    .dataframe thead th {\n",
       "        text-align: right;\n",
       "    }\n",
       "</style>\n",
       "<table border=\"1\" class=\"dataframe\">\n",
       "  <thead>\n",
       "    <tr style=\"text-align: right;\">\n",
       "      <th></th>\n",
       "      <th>id</th>\n",
       "      <th>name</th>\n",
       "      <th>summary</th>\n",
       "      <th>description</th>\n",
       "      <th>host_name</th>\n",
       "      <th>host_is_superhost</th>\n",
       "      <th>street</th>\n",
       "      <th>neighbourhood</th>\n",
       "      <th>city</th>\n",
       "      <th>state</th>\n",
       "      <th>...</th>\n",
       "      <th>bed_type</th>\n",
       "      <th>amenities</th>\n",
       "      <th>price</th>\n",
       "      <th>guests_included</th>\n",
       "      <th>extra_people</th>\n",
       "      <th>minimum_nights</th>\n",
       "      <th>maximum_nights</th>\n",
       "      <th>number_of_reviews</th>\n",
       "      <th>review_scores_rating</th>\n",
       "      <th>cancellation_policy</th>\n",
       "    </tr>\n",
       "  </thead>\n",
       "  <tbody>\n",
       "    <tr>\n",
       "      <th>0</th>\n",
       "      <td>12147973</td>\n",
       "      <td>Sunny Bungalow in the City of Boston</td>\n",
       "      <td>Cozy, sunny, family home.  Master bedroom high...</td>\n",
       "      <td>Cozy, sunny, family home.  Master bedroom high...</td>\n",
       "      <td>Virginia</td>\n",
       "      <td>f</td>\n",
       "      <td>Birch Street, Boston, MA 02131, United States</td>\n",
       "      <td>Roslindale</td>\n",
       "      <td>Boston</td>\n",
       "      <td>MA</td>\n",
       "      <td>...</td>\n",
       "      <td>Real Bed</td>\n",
       "      <td>{TV,\"Wireless Internet\",Kitchen,\"Free Parking ...</td>\n",
       "      <td>250.0</td>\n",
       "      <td>1</td>\n",
       "      <td>$0.00</td>\n",
       "      <td>2</td>\n",
       "      <td>1125</td>\n",
       "      <td>0</td>\n",
       "      <td>NaN</td>\n",
       "      <td>moderate</td>\n",
       "    </tr>\n",
       "    <tr>\n",
       "      <th>1</th>\n",
       "      <td>3075044</td>\n",
       "      <td>Charming room in pet friendly apt</td>\n",
       "      <td>Charming and quiet room in a second floor 1910...</td>\n",
       "      <td>Charming and quiet room in a second floor 1910...</td>\n",
       "      <td>Andrea</td>\n",
       "      <td>f</td>\n",
       "      <td>Pinehurst Street, Boston, MA 02131, United States</td>\n",
       "      <td>Roslindale</td>\n",
       "      <td>Boston</td>\n",
       "      <td>MA</td>\n",
       "      <td>...</td>\n",
       "      <td>Real Bed</td>\n",
       "      <td>{TV,Internet,\"Wireless Internet\",\"Air Conditio...</td>\n",
       "      <td>65.0</td>\n",
       "      <td>0</td>\n",
       "      <td>$0.00</td>\n",
       "      <td>2</td>\n",
       "      <td>15</td>\n",
       "      <td>36</td>\n",
       "      <td>94.0</td>\n",
       "      <td>moderate</td>\n",
       "    </tr>\n",
       "    <tr>\n",
       "      <th>2</th>\n",
       "      <td>6976</td>\n",
       "      <td>Mexican Folk Art Haven in Boston</td>\n",
       "      <td>Come stay with a friendly, middle-aged guy in ...</td>\n",
       "      <td>Come stay with a friendly, middle-aged guy in ...</td>\n",
       "      <td>Phil</td>\n",
       "      <td>t</td>\n",
       "      <td>Ardale St., Boston, MA 02131, United States</td>\n",
       "      <td>Roslindale</td>\n",
       "      <td>Boston</td>\n",
       "      <td>MA</td>\n",
       "      <td>...</td>\n",
       "      <td>Real Bed</td>\n",
       "      <td>{TV,\"Cable TV\",\"Wireless Internet\",\"Air Condit...</td>\n",
       "      <td>65.0</td>\n",
       "      <td>1</td>\n",
       "      <td>$20.00</td>\n",
       "      <td>3</td>\n",
       "      <td>45</td>\n",
       "      <td>41</td>\n",
       "      <td>98.0</td>\n",
       "      <td>moderate</td>\n",
       "    </tr>\n",
       "    <tr>\n",
       "      <th>3</th>\n",
       "      <td>1436513</td>\n",
       "      <td>Spacious Sunny Bedroom Suite in Historic Home</td>\n",
       "      <td>Come experience the comforts of home away from...</td>\n",
       "      <td>Come experience the comforts of home away from...</td>\n",
       "      <td>Meghna</td>\n",
       "      <td>f</td>\n",
       "      <td>Boston, MA, United States</td>\n",
       "      <td>NaN</td>\n",
       "      <td>Boston</td>\n",
       "      <td>MA</td>\n",
       "      <td>...</td>\n",
       "      <td>Real Bed</td>\n",
       "      <td>{TV,Internet,\"Wireless Internet\",\"Air Conditio...</td>\n",
       "      <td>75.0</td>\n",
       "      <td>2</td>\n",
       "      <td>$25.00</td>\n",
       "      <td>1</td>\n",
       "      <td>1125</td>\n",
       "      <td>1</td>\n",
       "      <td>100.0</td>\n",
       "      <td>moderate</td>\n",
       "    </tr>\n",
       "    <tr>\n",
       "      <th>4</th>\n",
       "      <td>7651065</td>\n",
       "      <td>Come Home to Boston</td>\n",
       "      <td>My comfy, clean and relaxing home is one block...</td>\n",
       "      <td>My comfy, clean and relaxing home is one block...</td>\n",
       "      <td>Linda</td>\n",
       "      <td>t</td>\n",
       "      <td>Durnell Avenue, Boston, MA 02131, United States</td>\n",
       "      <td>Roslindale</td>\n",
       "      <td>Boston</td>\n",
       "      <td>MA</td>\n",
       "      <td>...</td>\n",
       "      <td>Real Bed</td>\n",
       "      <td>{Internet,\"Wireless Internet\",\"Air Conditionin...</td>\n",
       "      <td>79.0</td>\n",
       "      <td>1</td>\n",
       "      <td>$0.00</td>\n",
       "      <td>2</td>\n",
       "      <td>31</td>\n",
       "      <td>29</td>\n",
       "      <td>99.0</td>\n",
       "      <td>flexible</td>\n",
       "    </tr>\n",
       "  </tbody>\n",
       "</table>\n",
       "<p>5 rows × 33 columns</p>\n",
       "</div>"
      ],
      "text/plain": [
       "         id                                           name  \\\n",
       "0  12147973           Sunny Bungalow in the City of Boston   \n",
       "1   3075044              Charming room in pet friendly apt   \n",
       "2      6976               Mexican Folk Art Haven in Boston   \n",
       "3   1436513  Spacious Sunny Bedroom Suite in Historic Home   \n",
       "4   7651065                            Come Home to Boston   \n",
       "\n",
       "                                             summary  \\\n",
       "0  Cozy, sunny, family home.  Master bedroom high...   \n",
       "1  Charming and quiet room in a second floor 1910...   \n",
       "2  Come stay with a friendly, middle-aged guy in ...   \n",
       "3  Come experience the comforts of home away from...   \n",
       "4  My comfy, clean and relaxing home is one block...   \n",
       "\n",
       "                                         description host_name  \\\n",
       "0  Cozy, sunny, family home.  Master bedroom high...  Virginia   \n",
       "1  Charming and quiet room in a second floor 1910...    Andrea   \n",
       "2  Come stay with a friendly, middle-aged guy in ...      Phil   \n",
       "3  Come experience the comforts of home away from...    Meghna   \n",
       "4  My comfy, clean and relaxing home is one block...     Linda   \n",
       "\n",
       "  host_is_superhost                                             street  \\\n",
       "0                 f      Birch Street, Boston, MA 02131, United States   \n",
       "1                 f  Pinehurst Street, Boston, MA 02131, United States   \n",
       "2                 t        Ardale St., Boston, MA 02131, United States   \n",
       "3                 f                          Boston, MA, United States   \n",
       "4                 t    Durnell Avenue, Boston, MA 02131, United States   \n",
       "\n",
       "  neighbourhood    city state  ...  bed_type  \\\n",
       "0    Roslindale  Boston    MA  ...  Real Bed   \n",
       "1    Roslindale  Boston    MA  ...  Real Bed   \n",
       "2    Roslindale  Boston    MA  ...  Real Bed   \n",
       "3           NaN  Boston    MA  ...  Real Bed   \n",
       "4    Roslindale  Boston    MA  ...  Real Bed   \n",
       "\n",
       "                                           amenities  price guests_included  \\\n",
       "0  {TV,\"Wireless Internet\",Kitchen,\"Free Parking ...  250.0               1   \n",
       "1  {TV,Internet,\"Wireless Internet\",\"Air Conditio...   65.0               0   \n",
       "2  {TV,\"Cable TV\",\"Wireless Internet\",\"Air Condit...   65.0               1   \n",
       "3  {TV,Internet,\"Wireless Internet\",\"Air Conditio...   75.0               2   \n",
       "4  {Internet,\"Wireless Internet\",\"Air Conditionin...   79.0               1   \n",
       "\n",
       "  extra_people  minimum_nights  maximum_nights number_of_reviews  \\\n",
       "0        $0.00               2            1125                 0   \n",
       "1        $0.00               2              15                36   \n",
       "2       $20.00               3              45                41   \n",
       "3       $25.00               1            1125                 1   \n",
       "4        $0.00               2              31                29   \n",
       "\n",
       "  review_scores_rating  cancellation_policy  \n",
       "0                  NaN             moderate  \n",
       "1                 94.0             moderate  \n",
       "2                 98.0             moderate  \n",
       "3                100.0             moderate  \n",
       "4                 99.0             flexible  \n",
       "\n",
       "[5 rows x 33 columns]"
      ]
     },
     "execution_count": 44,
     "metadata": {},
     "output_type": "execute_result"
    }
   ],
   "source": [
    "airbnb.head()"
   ]
  },
  {
   "cell_type": "code",
   "execution_count": 45,
   "id": "2c08573c-76d4-490b-8dde-14fb99e5f565",
   "metadata": {},
   "outputs": [
    {
     "data": {
      "text/html": [
       "<div>\n",
       "<style scoped>\n",
       "    .dataframe tbody tr th:only-of-type {\n",
       "        vertical-align: middle;\n",
       "    }\n",
       "\n",
       "    .dataframe tbody tr th {\n",
       "        vertical-align: top;\n",
       "    }\n",
       "\n",
       "    .dataframe thead th {\n",
       "        text-align: right;\n",
       "    }\n",
       "</style>\n",
       "<table border=\"1\" class=\"dataframe\">\n",
       "  <thead>\n",
       "    <tr style=\"text-align: right;\">\n",
       "      <th></th>\n",
       "      <th>id</th>\n",
       "      <th>name</th>\n",
       "      <th>summary</th>\n",
       "      <th>description</th>\n",
       "      <th>host_name</th>\n",
       "      <th>host_is_superhost</th>\n",
       "      <th>street</th>\n",
       "      <th>neighbourhood</th>\n",
       "      <th>city</th>\n",
       "      <th>state</th>\n",
       "      <th>...</th>\n",
       "      <th>bed_type</th>\n",
       "      <th>amenities</th>\n",
       "      <th>price</th>\n",
       "      <th>guests_included</th>\n",
       "      <th>extra_people</th>\n",
       "      <th>minimum_nights</th>\n",
       "      <th>maximum_nights</th>\n",
       "      <th>number_of_reviews</th>\n",
       "      <th>review_scores_rating</th>\n",
       "      <th>cancellation_policy</th>\n",
       "    </tr>\n",
       "  </thead>\n",
       "  <tbody>\n",
       "  </tbody>\n",
       "</table>\n",
       "<p>0 rows × 33 columns</p>\n",
       "</div>"
      ],
      "text/plain": [
       "Empty DataFrame\n",
       "Columns: [id, name, summary, description, host_name, host_is_superhost, street, neighbourhood, city, state, zipcode, market, smart_location, country_code, country, latitude, longitude, property_type, room_type, accommodates, bathrooms, bedrooms, beds, bed_type, amenities, price, guests_included, extra_people, minimum_nights, maximum_nights, number_of_reviews, review_scores_rating, cancellation_policy]\n",
       "Index: []\n",
       "\n",
       "[0 rows x 33 columns]"
      ]
     },
     "execution_count": 45,
     "metadata": {},
     "output_type": "execute_result"
    }
   ],
   "source": [
    "airbnb[airbnb[['name', 'longitude', 'latitude']].duplicated(keep = False)]"
   ]
  },
  {
   "cell_type": "code",
   "execution_count": 46,
   "id": "b554c00d-ba51-434a-a5b4-15a54fd64f50",
   "metadata": {},
   "outputs": [
    {
     "data": {
      "text/plain": [
       "id                        0\n",
       "name                      0\n",
       "summary                 143\n",
       "description               0\n",
       "host_name                 0\n",
       "host_is_superhost         0\n",
       "street                    0\n",
       "neighbourhood           543\n",
       "city                      2\n",
       "state                     0\n",
       "zipcode                  38\n",
       "market                   14\n",
       "smart_location            0\n",
       "country_code              0\n",
       "country                   0\n",
       "latitude                  0\n",
       "longitude                 0\n",
       "property_type             3\n",
       "room_type                 0\n",
       "accommodates              0\n",
       "bathrooms                14\n",
       "bedrooms                 10\n",
       "beds                      9\n",
       "bed_type                  0\n",
       "amenities                 0\n",
       "price                     0\n",
       "guests_included           0\n",
       "extra_people              0\n",
       "minimum_nights            0\n",
       "maximum_nights            0\n",
       "number_of_reviews         0\n",
       "review_scores_rating    813\n",
       "cancellation_policy       0\n",
       "dtype: int64"
      ]
     },
     "execution_count": 46,
     "metadata": {},
     "output_type": "execute_result"
    }
   ],
   "source": [
    "airbnb.isna().sum()"
   ]
  },
  {
   "cell_type": "code",
   "execution_count": 47,
   "id": "dc210c9d-30fe-4132-ae10-df7187d72fd1",
   "metadata": {},
   "outputs": [
    {
     "data": {
      "text/plain": [
       "property_type\n",
       "Apartment          2612\n",
       "House               562\n",
       "Condominium         231\n",
       "Townhouse            54\n",
       "Bed & Breakfast      41\n",
       "Loft                 39\n",
       "Other                17\n",
       "Boat                 12\n",
       "Villa                 6\n",
       "Entire Floor          4\n",
       "Dorm                  2\n",
       "Guesthouse            1\n",
       "Camper/RV             1\n",
       "Name: count, dtype: int64"
      ]
     },
     "execution_count": 47,
     "metadata": {},
     "output_type": "execute_result"
    }
   ],
   "source": [
    "airbnb.property_type.value_counts()"
   ]
  },
  {
   "cell_type": "code",
   "execution_count": 48,
   "id": "a4d76d12-78bf-4c78-8ec5-e387fd9ea8b7",
   "metadata": {},
   "outputs": [
    {
     "data": {
      "text/plain": [
       "'Apartment'"
      ]
     },
     "execution_count": 48,
     "metadata": {},
     "output_type": "execute_result"
    }
   ],
   "source": [
    "airbnb['property_type'].mode()[0]"
   ]
  },
  {
   "cell_type": "code",
   "execution_count": 49,
   "id": "4b65cb8c-46e1-4b2e-be7d-02721d38802d",
   "metadata": {},
   "outputs": [],
   "source": [
    "mode_of_property_type = airbnb['property_type'].mode()[0]"
   ]
  },
  {
   "cell_type": "code",
   "execution_count": 50,
   "id": "04b5bf27-a505-41d6-8bb2-14f71f25a8b1",
   "metadata": {},
   "outputs": [
    {
     "data": {
      "text/plain": [
       "'Apartment'"
      ]
     },
     "execution_count": 50,
     "metadata": {},
     "output_type": "execute_result"
    }
   ],
   "source": [
    "mode_of_property_type"
   ]
  },
  {
   "cell_type": "code",
   "execution_count": 51,
   "id": "a1cb07f2-043b-4bee-a969-0b23f2fab53b",
   "metadata": {},
   "outputs": [],
   "source": [
    "airbnb['property_type'] = airbnb['property_type'] . fillna('mode_of_property_type')"
   ]
  },
  {
   "cell_type": "code",
   "execution_count": 52,
   "id": "a34a29ea-4dc0-4a27-8ce2-75e9fc7c9bb4",
   "metadata": {},
   "outputs": [
    {
     "data": {
      "text/plain": [
       "id                        0\n",
       "name                      0\n",
       "summary                 143\n",
       "description               0\n",
       "host_name                 0\n",
       "host_is_superhost         0\n",
       "street                    0\n",
       "neighbourhood           543\n",
       "city                      2\n",
       "state                     0\n",
       "zipcode                  38\n",
       "market                   14\n",
       "smart_location            0\n",
       "country_code              0\n",
       "country                   0\n",
       "latitude                  0\n",
       "longitude                 0\n",
       "property_type             0\n",
       "room_type                 0\n",
       "accommodates              0\n",
       "bathrooms                14\n",
       "bedrooms                 10\n",
       "beds                      9\n",
       "bed_type                  0\n",
       "amenities                 0\n",
       "price                     0\n",
       "guests_included           0\n",
       "extra_people              0\n",
       "minimum_nights            0\n",
       "maximum_nights            0\n",
       "number_of_reviews         0\n",
       "review_scores_rating    813\n",
       "cancellation_policy       0\n",
       "dtype: int64"
      ]
     },
     "execution_count": 52,
     "metadata": {},
     "output_type": "execute_result"
    }
   ],
   "source": [
    "airbnb.isna().sum()"
   ]
  },
  {
   "cell_type": "code",
   "execution_count": 53,
   "id": "cef33988-dcfb-4574-a914-a196bfa96ce4",
   "metadata": {},
   "outputs": [],
   "source": [
    "mean_of_review = round(airbnb['review_scores_rating'].mean(),0)"
   ]
  },
  {
   "cell_type": "code",
   "execution_count": 54,
   "id": "ee976a45-9693-492d-acfb-9de1e55af0f8",
   "metadata": {},
   "outputs": [],
   "source": [
    "airbnb['review_scores_rating'] = airbnb['review_scores_rating'] . fillna(mean_of_review)"
   ]
  },
  {
   "cell_type": "code",
   "execution_count": 55,
   "id": "94e25578-b287-4871-8cfd-cbc97b0d0ee9",
   "metadata": {},
   "outputs": [
    {
     "data": {
      "text/plain": [
       "0     92.0\n",
       "1     94.0\n",
       "2     98.0\n",
       "3    100.0\n",
       "4     99.0\n",
       "Name: review_scores_rating, dtype: float64"
      ]
     },
     "execution_count": 55,
     "metadata": {},
     "output_type": "execute_result"
    }
   ],
   "source": [
    "airbnb['review_scores_rating'] .head()"
   ]
  },
  {
   "cell_type": "code",
   "execution_count": 56,
   "id": "03a48de2-f74d-445c-b086-3f747465f48f",
   "metadata": {},
   "outputs": [
    {
     "data": {
      "text/plain": [
       "id                        0\n",
       "name                      0\n",
       "summary                 143\n",
       "description               0\n",
       "host_name                 0\n",
       "host_is_superhost         0\n",
       "street                    0\n",
       "neighbourhood           543\n",
       "city                      2\n",
       "state                     0\n",
       "zipcode                  38\n",
       "market                   14\n",
       "smart_location            0\n",
       "country_code              0\n",
       "country                   0\n",
       "latitude                  0\n",
       "longitude                 0\n",
       "property_type             0\n",
       "room_type                 0\n",
       "accommodates              0\n",
       "bathrooms                14\n",
       "bedrooms                 10\n",
       "beds                      9\n",
       "bed_type                  0\n",
       "amenities                 0\n",
       "price                     0\n",
       "guests_included           0\n",
       "extra_people              0\n",
       "minimum_nights            0\n",
       "maximum_nights            0\n",
       "number_of_reviews         0\n",
       "review_scores_rating      0\n",
       "cancellation_policy       0\n",
       "dtype: int64"
      ]
     },
     "execution_count": 56,
     "metadata": {},
     "output_type": "execute_result"
    }
   ],
   "source": [
    "airbnb.isna().sum()"
   ]
  },
  {
   "cell_type": "code",
   "execution_count": 57,
   "id": "4705b969-e49f-4a4a-8059-8f2299f8cff0",
   "metadata": {},
   "outputs": [],
   "source": [
    "airbnb['bathrooms'] = airbnb['bathrooms'] .fillna(1)"
   ]
  },
  {
   "cell_type": "code",
   "execution_count": 58,
   "id": "b3bebfcc-ae99-4632-a3b3-6c69437a6b33",
   "metadata": {},
   "outputs": [],
   "source": [
    "beds_na = airbnb[airbnb['beds'].isna()]"
   ]
  },
  {
   "cell_type": "code",
   "execution_count": 59,
   "id": "c47a3d66-a3bd-42a5-b7f9-da71c5e7e00d",
   "metadata": {},
   "outputs": [
    {
     "data": {
      "text/plain": [
       "494     1\n",
       "755     2\n",
       "820     2\n",
       "825     2\n",
       "910     1\n",
       "2203    1\n",
       "2819    2\n",
       "2865    2\n",
       "3557    2\n",
       "Name: accommodates, dtype: int64"
      ]
     },
     "execution_count": 59,
     "metadata": {},
     "output_type": "execute_result"
    }
   ],
   "source": [
    "beds_na.accommodates"
   ]
  },
  {
   "cell_type": "code",
   "execution_count": 60,
   "id": "d60e7039-6732-4e30-bfe2-35743939b1b1",
   "metadata": {},
   "outputs": [],
   "source": [
    "for index, row in airbnb[airbnb['beds'].isna()] . iterrows() :\n",
    "    if row['accommodates'] == 1:\n",
    "        row['beds'] = 1\n",
    "    else:\n",
    "        row['beds'] = 2"
   ]
  },
  {
   "cell_type": "code",
   "execution_count": 61,
   "id": "2f3881c5-0041-4090-af50-c48fea35263a",
   "metadata": {},
   "outputs": [
    {
     "data": {
      "text/plain": [
       "id                        0\n",
       "name                      0\n",
       "summary                 143\n",
       "description               0\n",
       "host_name                 0\n",
       "host_is_superhost         0\n",
       "street                    0\n",
       "neighbourhood           543\n",
       "city                      2\n",
       "state                     0\n",
       "zipcode                  38\n",
       "market                   14\n",
       "smart_location            0\n",
       "country_code              0\n",
       "country                   0\n",
       "latitude                  0\n",
       "longitude                 0\n",
       "property_type             0\n",
       "room_type                 0\n",
       "accommodates              0\n",
       "bathrooms                 0\n",
       "bedrooms                 10\n",
       "beds                      9\n",
       "bed_type                  0\n",
       "amenities                 0\n",
       "price                     0\n",
       "guests_included           0\n",
       "extra_people              0\n",
       "minimum_nights            0\n",
       "maximum_nights            0\n",
       "number_of_reviews         0\n",
       "review_scores_rating      0\n",
       "cancellation_policy       0\n",
       "dtype: int64"
      ]
     },
     "execution_count": 61,
     "metadata": {},
     "output_type": "execute_result"
    }
   ],
   "source": [
    "airbnb.isna().sum()"
   ]
  },
  {
   "cell_type": "code",
   "execution_count": 62,
   "id": "5251fe61-f80f-4276-b401-cb50581a48b7",
   "metadata": {},
   "outputs": [],
   "source": [
    "for index, row in airbnb[airbnb['beds'].isna()].iterrows():\n",
    "    if row['accommodates'] == 1:\n",
    "        airbnb.at[index, 'beds'] = 1\n",
    "    else:\n",
    "        airbnb.at[index, 'beds'] = 2\n"
   ]
  },
  {
   "cell_type": "code",
   "execution_count": 63,
   "id": "f8260c29-33b5-4ff5-8ae7-fa6184053266",
   "metadata": {},
   "outputs": [
    {
     "data": {
      "text/plain": [
       "id                        0\n",
       "name                      0\n",
       "summary                 143\n",
       "description               0\n",
       "host_name                 0\n",
       "host_is_superhost         0\n",
       "street                    0\n",
       "neighbourhood           543\n",
       "city                      2\n",
       "state                     0\n",
       "zipcode                  38\n",
       "market                   14\n",
       "smart_location            0\n",
       "country_code              0\n",
       "country                   0\n",
       "latitude                  0\n",
       "longitude                 0\n",
       "property_type             0\n",
       "room_type                 0\n",
       "accommodates              0\n",
       "bathrooms                 0\n",
       "bedrooms                 10\n",
       "beds                      0\n",
       "bed_type                  0\n",
       "amenities                 0\n",
       "price                     0\n",
       "guests_included           0\n",
       "extra_people              0\n",
       "minimum_nights            0\n",
       "maximum_nights            0\n",
       "number_of_reviews         0\n",
       "review_scores_rating      0\n",
       "cancellation_policy       0\n",
       "dtype: int64"
      ]
     },
     "execution_count": 63,
     "metadata": {},
     "output_type": "execute_result"
    }
   ],
   "source": [
    "airbnb.isna().sum()"
   ]
  },
  {
   "cell_type": "code",
   "execution_count": 64,
   "id": "afb7fa72-b2b2-42b9-b90b-321e8058300f",
   "metadata": {},
   "outputs": [
    {
     "name": "stdout",
     "output_type": "stream",
     "text": [
      "Studio Apt. for Rent in South End, \n",
      "[1294] Grand Studio - South End\n",
      "[1294-S]Grand Studio - South End\n",
      "[1358-S1]Small Studio in South End\n",
      "[1358-S]Small Studio In South End\n",
      "[1358] Small Studio in South End\n",
      "[1273] Fab Studio- close to Newbury\n",
      "[1273-1]Fab Studio Close to Newbury\n",
      "[1273-S]Fab Studio close to Newbury\n",
      "Newly upgrade Beacon Hill Studio\n"
     ]
    }
   ],
   "source": [
    "for index, row in airbnb[airbnb['bedrooms'].isna()].iterrows():\n",
    "    \n",
    "        print(airbnb.at[index, 'name'])"
   ]
  },
  {
   "cell_type": "code",
   "execution_count": 65,
   "id": "dbd0c124-fcc8-4e63-95a5-0b6f1f16c8ed",
   "metadata": {},
   "outputs": [],
   "source": [
    "for index, row in airbnb[airbnb['bedrooms'].isna()].iterrows():\n",
    "    if row['beds'] == 1:\n",
    "        airbnb.at[index, 'bedrooms'] = 0\n",
    "    if row['beds'] == 2:\n",
    "        airbnb.at[index, 'bedrooms'] = 1    \n",
    "    else:\n",
    "        airbnb.at[index, 'bedrooms'] = 2\n"
   ]
  },
  {
   "cell_type": "code",
   "execution_count": 66,
   "id": "ba197652-a942-4376-96d9-6151b7deebab",
   "metadata": {},
   "outputs": [
    {
     "data": {
      "text/plain": [
       "id                        0\n",
       "name                      0\n",
       "summary                 143\n",
       "description               0\n",
       "host_name                 0\n",
       "host_is_superhost         0\n",
       "street                    0\n",
       "neighbourhood           543\n",
       "city                      2\n",
       "state                     0\n",
       "zipcode                  38\n",
       "market                   14\n",
       "smart_location            0\n",
       "country_code              0\n",
       "country                   0\n",
       "latitude                  0\n",
       "longitude                 0\n",
       "property_type             0\n",
       "room_type                 0\n",
       "accommodates              0\n",
       "bathrooms                 0\n",
       "bedrooms                  0\n",
       "beds                      0\n",
       "bed_type                  0\n",
       "amenities                 0\n",
       "price                     0\n",
       "guests_included           0\n",
       "extra_people              0\n",
       "minimum_nights            0\n",
       "maximum_nights            0\n",
       "number_of_reviews         0\n",
       "review_scores_rating      0\n",
       "cancellation_policy       0\n",
       "dtype: int64"
      ]
     },
     "execution_count": 66,
     "metadata": {},
     "output_type": "execute_result"
    }
   ],
   "source": [
    "airbnb.isna().sum()"
   ]
  },
  {
   "cell_type": "code",
   "execution_count": 67,
   "id": "b6a6a72a-ff9c-4853-be36-39af55c98ca1",
   "metadata": {},
   "outputs": [
    {
     "name": "stdout",
     "output_type": "stream",
     "text": [
      "<class 'pandas.core.frame.DataFrame'>\n",
      "RangeIndex: 3585 entries, 0 to 3584\n",
      "Data columns (total 33 columns):\n",
      " #   Column                Non-Null Count  Dtype  \n",
      "---  ------                --------------  -----  \n",
      " 0   id                    3585 non-null   int64  \n",
      " 1   name                  3585 non-null   object \n",
      " 2   summary               3442 non-null   object \n",
      " 3   description           3585 non-null   object \n",
      " 4   host_name             3585 non-null   object \n",
      " 5   host_is_superhost     3585 non-null   object \n",
      " 6   street                3585 non-null   object \n",
      " 7   neighbourhood         3042 non-null   object \n",
      " 8   city                  3583 non-null   object \n",
      " 9   state                 3585 non-null   object \n",
      " 10  zipcode               3547 non-null   object \n",
      " 11  market                3571 non-null   object \n",
      " 12  smart_location        3585 non-null   object \n",
      " 13  country_code          3585 non-null   object \n",
      " 14  country               3585 non-null   object \n",
      " 15  latitude              3585 non-null   float64\n",
      " 16  longitude             3585 non-null   float64\n",
      " 17  property_type         3585 non-null   object \n",
      " 18  room_type             3585 non-null   object \n",
      " 19  accommodates          3585 non-null   int64  \n",
      " 20  bathrooms             3585 non-null   float64\n",
      " 21  bedrooms              3585 non-null   float64\n",
      " 22  beds                  3585 non-null   float64\n",
      " 23  bed_type              3585 non-null   object \n",
      " 24  amenities             3585 non-null   object \n",
      " 25  price                 3585 non-null   float64\n",
      " 26  guests_included       3585 non-null   int64  \n",
      " 27  extra_people          3585 non-null   object \n",
      " 28  minimum_nights        3585 non-null   int64  \n",
      " 29  maximum_nights        3585 non-null   int64  \n",
      " 30  number_of_reviews     3585 non-null   int64  \n",
      " 31  review_scores_rating  3585 non-null   float64\n",
      " 32  cancellation_policy   3585 non-null   object \n",
      "dtypes: float64(7), int64(6), object(20)\n",
      "memory usage: 924.4+ KB\n"
     ]
    }
   ],
   "source": [
    "airbnb.info()"
   ]
  },
  {
   "cell_type": "code",
   "execution_count": 73,
   "id": "3f76bcae-37d7-4ae5-9b55-0d00c2d7e7f3",
   "metadata": {},
   "outputs": [],
   "source": [
    "for index, row in airbnb[airbnb['summary'].isna()].iterrows() :\n",
    "     summary = row['room_type'] + ' with ' + str(row['beds']) + 'beds in' + str(row['state'])\n",
    "     airbnb.at[index, 'summary'] = summary                                        "
   ]
  },
  {
   "cell_type": "code",
   "execution_count": 74,
   "id": "f5792fad-d1d8-4cdb-b0da-951b0b295ebc",
   "metadata": {},
   "outputs": [
    {
     "data": {
      "text/plain": [
       "id                        0\n",
       "name                      0\n",
       "summary                   0\n",
       "description               0\n",
       "host_name                 0\n",
       "host_is_superhost         0\n",
       "street                    0\n",
       "neighbourhood           543\n",
       "city                      2\n",
       "state                     0\n",
       "zipcode                  38\n",
       "market                   14\n",
       "smart_location            0\n",
       "country_code              0\n",
       "country                   0\n",
       "latitude                  0\n",
       "longitude                 0\n",
       "property_type             0\n",
       "room_type                 0\n",
       "accommodates              0\n",
       "bathrooms                 0\n",
       "bedrooms                  0\n",
       "beds                      0\n",
       "bed_type                  0\n",
       "amenities                 0\n",
       "price                     0\n",
       "guests_included           0\n",
       "extra_people              0\n",
       "minimum_nights            0\n",
       "maximum_nights            0\n",
       "number_of_reviews         0\n",
       "review_scores_rating      0\n",
       "cancellation_policy       0\n",
       "dtype: int64"
      ]
     },
     "execution_count": 74,
     "metadata": {},
     "output_type": "execute_result"
    }
   ],
   "source": [
    "airbnb.isna().sum()"
   ]
  },
  {
   "cell_type": "code",
   "execution_count": 75,
   "id": "78854720-e025-4d22-885f-5e5331911b98",
   "metadata": {},
   "outputs": [
    {
     "data": {
      "text/plain": [
       "market\n",
       "Boston                   3568\n",
       "San Francisco               1\n",
       "Other (Domestic)            1\n",
       "Other (International)       1\n",
       "Name: count, dtype: int64"
      ]
     },
     "execution_count": 75,
     "metadata": {},
     "output_type": "execute_result"
    }
   ],
   "source": [
    "airbnb.market.value_counts()"
   ]
  },
  {
   "cell_type": "code",
   "execution_count": 76,
   "id": "3f66fe3e-46f8-4d04-a542-3fc6e80f35fc",
   "metadata": {},
   "outputs": [],
   "source": [
    "airbnb = airbnb.drop(columns = ['market', 'city'], axis = 1)"
   ]
  },
  {
   "cell_type": "code",
   "execution_count": 77,
   "id": "a9b30959-ad4b-4c5e-af9d-518154ce0c53",
   "metadata": {},
   "outputs": [
    {
     "data": {
      "text/plain": [
       "id                        0\n",
       "name                      0\n",
       "summary                   0\n",
       "description               0\n",
       "host_name                 0\n",
       "host_is_superhost         0\n",
       "street                    0\n",
       "neighbourhood           543\n",
       "state                     0\n",
       "zipcode                  38\n",
       "smart_location            0\n",
       "country_code              0\n",
       "country                   0\n",
       "latitude                  0\n",
       "longitude                 0\n",
       "property_type             0\n",
       "room_type                 0\n",
       "accommodates              0\n",
       "bathrooms                 0\n",
       "bedrooms                  0\n",
       "beds                      0\n",
       "bed_type                  0\n",
       "amenities                 0\n",
       "price                     0\n",
       "guests_included           0\n",
       "extra_people              0\n",
       "minimum_nights            0\n",
       "maximum_nights            0\n",
       "number_of_reviews         0\n",
       "review_scores_rating      0\n",
       "cancellation_policy       0\n",
       "dtype: int64"
      ]
     },
     "execution_count": 77,
     "metadata": {},
     "output_type": "execute_result"
    }
   ],
   "source": [
    "airbnb.isna().sum()"
   ]
  },
  {
   "cell_type": "code",
   "execution_count": 78,
   "id": "08a2628d-21a3-4105-91c0-98039d753306",
   "metadata": {},
   "outputs": [
    {
     "name": "stdout",
     "output_type": "stream",
     "text": [
      "Collecting geopy\n",
      "  Downloading geopy-2.4.1-py3-none-any.whl.metadata (6.8 kB)\n",
      "Collecting geographiclib<3,>=1.52 (from geopy)\n",
      "  Downloading geographiclib-2.0-py3-none-any.whl.metadata (1.4 kB)\n",
      "Downloading geopy-2.4.1-py3-none-any.whl (125 kB)\n",
      "Downloading geographiclib-2.0-py3-none-any.whl (40 kB)\n",
      "Installing collected packages: geographiclib, geopy\n",
      "Successfully installed geographiclib-2.0 geopy-2.4.1\n",
      "Note: you may need to restart the kernel to use updated packages.\n"
     ]
    }
   ],
   "source": [
    "pip install geopy"
   ]
  },
  {
   "cell_type": "code",
   "execution_count": 79,
   "id": "8d453820-67f4-4ac6-bf7a-96e27ddcb95b",
   "metadata": {},
   "outputs": [
    {
     "data": {
      "text/html": [
       "<div>\n",
       "<style scoped>\n",
       "    .dataframe tbody tr th:only-of-type {\n",
       "        vertical-align: middle;\n",
       "    }\n",
       "\n",
       "    .dataframe tbody tr th {\n",
       "        vertical-align: top;\n",
       "    }\n",
       "\n",
       "    .dataframe thead th {\n",
       "        text-align: right;\n",
       "    }\n",
       "</style>\n",
       "<table border=\"1\" class=\"dataframe\">\n",
       "  <thead>\n",
       "    <tr style=\"text-align: right;\">\n",
       "      <th></th>\n",
       "      <th>longitude</th>\n",
       "      <th>latitude</th>\n",
       "    </tr>\n",
       "  </thead>\n",
       "  <tbody>\n",
       "    <tr>\n",
       "      <th>0</th>\n",
       "      <td>-71.133068</td>\n",
       "      <td>42.282619</td>\n",
       "    </tr>\n",
       "    <tr>\n",
       "      <th>1</th>\n",
       "      <td>-71.134374</td>\n",
       "      <td>42.286241</td>\n",
       "    </tr>\n",
       "    <tr>\n",
       "      <th>2</th>\n",
       "      <td>-71.135765</td>\n",
       "      <td>42.292438</td>\n",
       "    </tr>\n",
       "    <tr>\n",
       "      <th>3</th>\n",
       "      <td>-71.121021</td>\n",
       "      <td>42.281106</td>\n",
       "    </tr>\n",
       "    <tr>\n",
       "      <th>4</th>\n",
       "      <td>-71.136258</td>\n",
       "      <td>42.284512</td>\n",
       "    </tr>\n",
       "  </tbody>\n",
       "</table>\n",
       "</div>"
      ],
      "text/plain": [
       "   longitude   latitude\n",
       "0 -71.133068  42.282619\n",
       "1 -71.134374  42.286241\n",
       "2 -71.135765  42.292438\n",
       "3 -71.121021  42.281106\n",
       "4 -71.136258  42.284512"
      ]
     },
     "execution_count": 79,
     "metadata": {},
     "output_type": "execute_result"
    }
   ],
   "source": [
    "airbnb[['longitude', 'latitude']].head()"
   ]
  },
  {
   "cell_type": "code",
   "execution_count": 83,
   "id": "89b21e8b-bc5f-4c08-9e21-25b351c5bd0f",
   "metadata": {},
   "outputs": [
    {
     "name": "stdout",
     "output_type": "stream",
     "text": [
      "{'house_number': '200', 'road': 'Durnell Avenue', 'neighbourhood': 'Bellevue', 'suburb': 'Roslindale', 'city': 'Boston', 'county': 'Suffolk County', 'state': 'Massachusetts', 'ISO3166-2-lvl4': 'US-MA', 'postcode': '02131', 'country': 'United States', 'country_code': 'us'}\n"
     ]
    }
   ],
   "source": [
    "from geopy.geocoders import Nominatim\n",
    "\n",
    "# Initialize Nominatim API with a more descriptive user agent\n",
    "geolocator = Nominatim(user_agent=\"my_first_project\")\n",
    "\n",
    "# Latitude & Longitude input\n",
    "Latitude = \"42.282619\"\n",
    "Longitude = \"-71.133068\"\n",
    "\n",
    "location = geolocator.reverse(Latitude + \",\" + Longitude)\n",
    "address = location.raw['address']\n",
    "    \n",
    "print(address)\n",
    "    "
   ]
  },
  {
   "cell_type": "code",
   "execution_count": null,
   "id": "024109f5-a40d-4f1d-ae21-ed62e03aa77f",
   "metadata": {},
   "outputs": [],
   "source": [
    "# Traverse the data\n",
    "    city = address.get('city', '')\n",
    "    state = address.get('state', '')\n",
    "    country = address.get('country', '')\n",
    "    code = address.get('country_code')\n",
    "    zipcode = address.get('postcode')\n",
    "\n",
    "    print('City : ', city)\n",
    "    print('State : ', state)\n",
    "    print('Country : ', country)\n",
    "    print('Zip Code : ', zipcode)\n"
   ]
  },
  {
   "cell_type": "code",
   "execution_count": 84,
   "id": "2a848408-fa6a-4448-91dc-3cc9bf3a9c9f",
   "metadata": {},
   "outputs": [],
   "source": [
    "def lokacija(latitude, longitude) :\n",
    "    from geopy.geocoders import Nominatim\n",
    "    geolocator = Nominatim(user_agent=\"my_first_project\")\n",
    "    location = geolocator.reverse(latitude + \",\" + longitude)\n",
    "    address = location.raw['address']\n",
    "    return address.get('suburb')\n",
    "    "
   ]
  },
  {
   "cell_type": "code",
   "execution_count": 85,
   "id": "bb4573e6-7445-4fb5-9c63-3d1c8a4521cc",
   "metadata": {},
   "outputs": [
    {
     "data": {
      "text/plain": [
       "id                                                                1436513\n",
       "name                        Spacious Sunny Bedroom Suite in Historic Home\n",
       "summary                 Come experience the comforts of home away from...\n",
       "description             Come experience the comforts of home away from...\n",
       "host_name                                                          Meghna\n",
       "host_is_superhost                                                       f\n",
       "street                                          Boston, MA, United States\n",
       "neighbourhood                                                         NaN\n",
       "state                                                                  MA\n",
       "zipcode                                                               NaN\n",
       "smart_location                                                 Boston, MA\n",
       "country_code                                                           US\n",
       "country                                                     United States\n",
       "latitude                                                        42.281106\n",
       "longitude                                                      -71.121021\n",
       "property_type                                                       House\n",
       "room_type                                                    Private room\n",
       "accommodates                                                            4\n",
       "bathrooms                                                             1.0\n",
       "bedrooms                                                              1.0\n",
       "beds                                                                  2.0\n",
       "bed_type                                                         Real Bed\n",
       "amenities               {TV,Internet,\"Wireless Internet\",\"Air Conditio...\n",
       "price                                                                75.0\n",
       "guests_included                                                         2\n",
       "extra_people                                                       $25.00\n",
       "minimum_nights                                                          1\n",
       "maximum_nights                                                       1125\n",
       "number_of_reviews                                                       1\n",
       "review_scores_rating                                                100.0\n",
       "cancellation_policy                                              moderate\n",
       "Name: 3, dtype: object"
      ]
     },
     "execution_count": 85,
     "metadata": {},
     "output_type": "execute_result"
    }
   ],
   "source": [
    "airbnb.iloc[3]"
   ]
  },
  {
   "cell_type": "code",
   "execution_count": 86,
   "id": "bfeeffef-5ba3-40be-b3fd-0f153b567301",
   "metadata": {},
   "outputs": [],
   "source": [
    "for index, row in airbnb[airbnb['neighbourhood'].isna()].iterrows():\n",
    "    airbnb.at[index,'neighbourhood'] = lokacija(str(row['latitude']), str(row['longitude']))\n",
    "    "
   ]
  },
  {
   "cell_type": "code",
   "execution_count": 87,
   "id": "40036b0a-58cb-4e49-94d3-d179a478825c",
   "metadata": {},
   "outputs": [
    {
     "data": {
      "text/plain": [
       "id                                                                1436513\n",
       "name                        Spacious Sunny Bedroom Suite in Historic Home\n",
       "summary                 Come experience the comforts of home away from...\n",
       "description             Come experience the comforts of home away from...\n",
       "host_name                                                          Meghna\n",
       "host_is_superhost                                                       f\n",
       "street                                          Boston, MA, United States\n",
       "neighbourhood                                                  Roslindale\n",
       "state                                                                  MA\n",
       "zipcode                                                               NaN\n",
       "smart_location                                                 Boston, MA\n",
       "country_code                                                           US\n",
       "country                                                     United States\n",
       "latitude                                                        42.281106\n",
       "longitude                                                      -71.121021\n",
       "property_type                                                       House\n",
       "room_type                                                    Private room\n",
       "accommodates                                                            4\n",
       "bathrooms                                                             1.0\n",
       "bedrooms                                                              1.0\n",
       "beds                                                                  2.0\n",
       "bed_type                                                         Real Bed\n",
       "amenities               {TV,Internet,\"Wireless Internet\",\"Air Conditio...\n",
       "price                                                                75.0\n",
       "guests_included                                                         2\n",
       "extra_people                                                       $25.00\n",
       "minimum_nights                                                          1\n",
       "maximum_nights                                                       1125\n",
       "number_of_reviews                                                       1\n",
       "review_scores_rating                                                100.0\n",
       "cancellation_policy                                              moderate\n",
       "Name: 3, dtype: object"
      ]
     },
     "execution_count": 87,
     "metadata": {},
     "output_type": "execute_result"
    }
   ],
   "source": [
    "airbnb.iloc[3]"
   ]
  },
  {
   "cell_type": "code",
   "execution_count": 88,
   "id": "b56ea8bf-197b-4a0b-b5bc-275360dc5889",
   "metadata": {},
   "outputs": [
    {
     "data": {
      "text/plain": [
       "id                       0\n",
       "name                     0\n",
       "summary                  0\n",
       "description              0\n",
       "host_name                0\n",
       "host_is_superhost        0\n",
       "street                   0\n",
       "neighbourhood           55\n",
       "state                    0\n",
       "zipcode                 38\n",
       "smart_location           0\n",
       "country_code             0\n",
       "country                  0\n",
       "latitude                 0\n",
       "longitude                0\n",
       "property_type            0\n",
       "room_type                0\n",
       "accommodates             0\n",
       "bathrooms                0\n",
       "bedrooms                 0\n",
       "beds                     0\n",
       "bed_type                 0\n",
       "amenities                0\n",
       "price                    0\n",
       "guests_included          0\n",
       "extra_people             0\n",
       "minimum_nights           0\n",
       "maximum_nights           0\n",
       "number_of_reviews        0\n",
       "review_scores_rating     0\n",
       "cancellation_policy      0\n",
       "dtype: int64"
      ]
     },
     "execution_count": 88,
     "metadata": {},
     "output_type": "execute_result"
    }
   ],
   "source": [
    "airbnb.isna().sum()"
   ]
  },
  {
   "cell_type": "code",
   "execution_count": null,
   "id": "724b83e1-4ef3-48e1-8d36-ff30f761a440",
   "metadata": {},
   "outputs": [],
   "source": []
  }
 ],
 "metadata": {
  "kernelspec": {
   "display_name": "Python 3 (ipykernel)",
   "language": "python",
   "name": "python3"
  },
  "language_info": {
   "codemirror_mode": {
    "name": "ipython",
    "version": 3
   },
   "file_extension": ".py",
   "mimetype": "text/x-python",
   "name": "python",
   "nbconvert_exporter": "python",
   "pygments_lexer": "ipython3",
   "version": "3.12.6"
  }
 },
 "nbformat": 4,
 "nbformat_minor": 5
}
