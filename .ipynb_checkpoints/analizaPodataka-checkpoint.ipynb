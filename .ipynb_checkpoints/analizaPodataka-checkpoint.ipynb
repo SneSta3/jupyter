{
 "cells": [
  {
   "cell_type": "code",
   "execution_count": 3,
   "id": "86b60686-c4cf-4fea-a04c-a6a012ced1c2",
   "metadata": {},
   "outputs": [],
   "source": [
    "import pandas as pd"
   ]
  },
  {
   "cell_type": "code",
   "execution_count": 1,
   "id": "a4af97f3-db42-45d0-b428-f0f7b8c0110d",
   "metadata": {},
   "outputs": [],
   "source": [
    "data = {'Proizvodi': ['Jabuka', 'Banana', 'Pomorandza', 'Kivi'],\n",
    "        'Kolicina': [2,5,3,7]\n",
    "       }"
   ]
  },
  {
   "cell_type": "code",
   "execution_count": 4,
   "id": "bbdf8179-9b43-463b-bb03-3dfc7988eb89",
   "metadata": {},
   "outputs": [],
   "source": [
    "df = pd.DataFrame(data)"
   ]
  },
  {
   "cell_type": "code",
   "execution_count": 5,
   "id": "15ecc12b-eeee-4708-86eb-809a7545e71d",
   "metadata": {},
   "outputs": [
    {
     "data": {
      "text/html": [
       "<div>\n",
       "<style scoped>\n",
       "    .dataframe tbody tr th:only-of-type {\n",
       "        vertical-align: middle;\n",
       "    }\n",
       "\n",
       "    .dataframe tbody tr th {\n",
       "        vertical-align: top;\n",
       "    }\n",
       "\n",
       "    .dataframe thead th {\n",
       "        text-align: right;\n",
       "    }\n",
       "</style>\n",
       "<table border=\"1\" class=\"dataframe\">\n",
       "  <thead>\n",
       "    <tr style=\"text-align: right;\">\n",
       "      <th></th>\n",
       "      <th>Proizvodi</th>\n",
       "      <th>Kolicina</th>\n",
       "    </tr>\n",
       "  </thead>\n",
       "  <tbody>\n",
       "    <tr>\n",
       "      <th>0</th>\n",
       "      <td>Jabuka</td>\n",
       "      <td>2</td>\n",
       "    </tr>\n",
       "    <tr>\n",
       "      <th>1</th>\n",
       "      <td>Banana</td>\n",
       "      <td>5</td>\n",
       "    </tr>\n",
       "    <tr>\n",
       "      <th>2</th>\n",
       "      <td>Pomorandza</td>\n",
       "      <td>3</td>\n",
       "    </tr>\n",
       "    <tr>\n",
       "      <th>3</th>\n",
       "      <td>Kivi</td>\n",
       "      <td>7</td>\n",
       "    </tr>\n",
       "  </tbody>\n",
       "</table>\n",
       "</div>"
      ],
      "text/plain": [
       "    Proizvodi  Kolicina\n",
       "0      Jabuka         2\n",
       "1      Banana         5\n",
       "2  Pomorandza         3\n",
       "3        Kivi         7"
      ]
     },
     "execution_count": 5,
     "metadata": {},
     "output_type": "execute_result"
    }
   ],
   "source": [
    "df.head()"
   ]
  },
  {
   "cell_type": "markdown",
   "id": "7ca1af87-cb2e-49d9-b604-e022a3c90894",
   "metadata": {},
   "source": [
    "## SUM"
   ]
  },
  {
   "cell_type": "code",
   "execution_count": 6,
   "id": "ac155b52-8525-41f7-9a8f-4917986b3822",
   "metadata": {},
   "outputs": [
    {
     "data": {
      "text/plain": [
       "Proizvodi    JabukaBananaPomorandzaKivi\n",
       "Kolicina                             17\n",
       "dtype: object"
      ]
     },
     "execution_count": 6,
     "metadata": {},
     "output_type": "execute_result"
    }
   ],
   "source": [
    "df.sum()"
   ]
  },
  {
   "cell_type": "code",
   "execution_count": 7,
   "id": "f3675164-881e-4729-b80c-a730f7a84b99",
   "metadata": {},
   "outputs": [
    {
     "data": {
      "text/plain": [
       "np.int64(17)"
      ]
     },
     "execution_count": 7,
     "metadata": {},
     "output_type": "execute_result"
    }
   ],
   "source": [
    "df['Kolicina'].sum()"
   ]
  },
  {
   "cell_type": "markdown",
   "id": "b1abac11-a849-4d76-8f10-c8c70c91d25d",
   "metadata": {},
   "source": [
    "## COUNT"
   ]
  },
  {
   "cell_type": "code",
   "execution_count": 8,
   "id": "d9253f0c-29c9-484e-bd61-3409d782a89d",
   "metadata": {},
   "outputs": [
    {
     "data": {
      "text/plain": [
       "Proizvodi    4\n",
       "Kolicina     4\n",
       "dtype: int64"
      ]
     },
     "execution_count": 8,
     "metadata": {},
     "output_type": "execute_result"
    }
   ],
   "source": [
    "df.count()"
   ]
  },
  {
   "cell_type": "markdown",
   "id": "b4bc6f47-3269-4925-827c-79f00fdf7633",
   "metadata": {},
   "source": [
    "## MAX"
   ]
  },
  {
   "cell_type": "code",
   "execution_count": 9,
   "id": "8b9f40bb-8846-4a3b-9cd1-29c1d8dd6fce",
   "metadata": {},
   "outputs": [
    {
     "data": {
      "text/plain": [
       "Proizvodi    Pomorandza\n",
       "Kolicina              7\n",
       "dtype: object"
      ]
     },
     "execution_count": 9,
     "metadata": {},
     "output_type": "execute_result"
    }
   ],
   "source": [
    "df.max()"
   ]
  },
  {
   "cell_type": "markdown",
   "id": "81661857-f0da-4338-988d-32d7a9f31edb",
   "metadata": {},
   "source": [
    "## MIN"
   ]
  },
  {
   "cell_type": "code",
   "execution_count": 10,
   "id": "fcbeb95a-8717-4a11-aed7-ec5dd833f85d",
   "metadata": {},
   "outputs": [
    {
     "data": {
      "text/plain": [
       "Proizvodi    Banana\n",
       "Kolicina          2\n",
       "dtype: object"
      ]
     },
     "execution_count": 10,
     "metadata": {},
     "output_type": "execute_result"
    }
   ],
   "source": [
    "df.min()"
   ]
  },
  {
   "cell_type": "markdown",
   "id": "ce8f5fe3-0b8c-4d91-b391-815c672b08f1",
   "metadata": {},
   "source": [
    "## MEAN"
   ]
  },
  {
   "cell_type": "code",
   "execution_count": 12,
   "id": "ecc3cbe0-fb42-4e57-9c23-6198797127eb",
   "metadata": {},
   "outputs": [
    {
     "data": {
      "text/plain": [
       "np.float64(4.25)"
      ]
     },
     "execution_count": 12,
     "metadata": {},
     "output_type": "execute_result"
    }
   ],
   "source": [
    "df['Kolicina'].mean()"
   ]
  },
  {
   "cell_type": "markdown",
   "id": "c991ca60-bff7-4694-974b-c458c4473585",
   "metadata": {},
   "source": [
    "## MEDIAN"
   ]
  },
  {
   "cell_type": "code",
   "execution_count": 13,
   "id": "cc17aee8-4f41-4ba0-9bd0-0dbbdb7b2cb9",
   "metadata": {},
   "outputs": [
    {
     "data": {
      "text/plain": [
       "np.float64(4.0)"
      ]
     },
     "execution_count": 13,
     "metadata": {},
     "output_type": "execute_result"
    }
   ],
   "source": [
    "df['Kolicina'].median()"
   ]
  },
  {
   "cell_type": "markdown",
   "id": "b8564672-a77a-4bdf-87e6-794691e4b366",
   "metadata": {},
   "source": [
    "## 2 3 5 = 3 / 2 5 3 700 = 4 / 2 3 6 10 700 = 8  "
   ]
  },
  {
   "cell_type": "markdown",
   "id": "82c38932-2a75-4390-a63d-2cf166638f06",
   "metadata": {},
   "source": [
    "## STANDARD DEVIATION"
   ]
  },
  {
   "cell_type": "code",
   "execution_count": 14,
   "id": "1e65b42b-5e7f-40ac-99a5-fb27c64cba4b",
   "metadata": {},
   "outputs": [
    {
     "data": {
      "text/plain": [
       "np.float64(2.217355782608345)"
      ]
     },
     "execution_count": 14,
     "metadata": {},
     "output_type": "execute_result"
    }
   ],
   "source": [
    "df['Kolicina'].std()"
   ]
  },
  {
   "cell_type": "markdown",
   "id": "8858fd40-95f3-4466-8b71-9da6652998b5",
   "metadata": {},
   "source": [
    "## DESCRIBE"
   ]
  },
  {
   "cell_type": "code",
   "execution_count": 15,
   "id": "33901cd9-b1ad-4e2a-a9cf-2c9e3257a04e",
   "metadata": {},
   "outputs": [
    {
     "data": {
      "text/html": [
       "<div>\n",
       "<style scoped>\n",
       "    .dataframe tbody tr th:only-of-type {\n",
       "        vertical-align: middle;\n",
       "    }\n",
       "\n",
       "    .dataframe tbody tr th {\n",
       "        vertical-align: top;\n",
       "    }\n",
       "\n",
       "    .dataframe thead th {\n",
       "        text-align: right;\n",
       "    }\n",
       "</style>\n",
       "<table border=\"1\" class=\"dataframe\">\n",
       "  <thead>\n",
       "    <tr style=\"text-align: right;\">\n",
       "      <th></th>\n",
       "      <th>Kolicina</th>\n",
       "    </tr>\n",
       "  </thead>\n",
       "  <tbody>\n",
       "    <tr>\n",
       "      <th>count</th>\n",
       "      <td>4.000000</td>\n",
       "    </tr>\n",
       "    <tr>\n",
       "      <th>mean</th>\n",
       "      <td>4.250000</td>\n",
       "    </tr>\n",
       "    <tr>\n",
       "      <th>std</th>\n",
       "      <td>2.217356</td>\n",
       "    </tr>\n",
       "    <tr>\n",
       "      <th>min</th>\n",
       "      <td>2.000000</td>\n",
       "    </tr>\n",
       "    <tr>\n",
       "      <th>25%</th>\n",
       "      <td>2.750000</td>\n",
       "    </tr>\n",
       "    <tr>\n",
       "      <th>50%</th>\n",
       "      <td>4.000000</td>\n",
       "    </tr>\n",
       "    <tr>\n",
       "      <th>75%</th>\n",
       "      <td>5.500000</td>\n",
       "    </tr>\n",
       "    <tr>\n",
       "      <th>max</th>\n",
       "      <td>7.000000</td>\n",
       "    </tr>\n",
       "  </tbody>\n",
       "</table>\n",
       "</div>"
      ],
      "text/plain": [
       "       Kolicina\n",
       "count  4.000000\n",
       "mean   4.250000\n",
       "std    2.217356\n",
       "min    2.000000\n",
       "25%    2.750000\n",
       "50%    4.000000\n",
       "75%    5.500000\n",
       "max    7.000000"
      ]
     },
     "execution_count": 15,
     "metadata": {},
     "output_type": "execute_result"
    }
   ],
   "source": [
    "df.describe()"
   ]
  },
  {
   "cell_type": "markdown",
   "id": "ee6366f5-3f96-4c4a-8a00-939cd4e4df74",
   "metadata": {},
   "source": [
    "## CORRELATION"
   ]
  },
  {
   "cell_type": "code",
   "execution_count": 17,
   "id": "ebd82f60-5ff8-490a-a352-9dd1a239b7d3",
   "metadata": {},
   "outputs": [],
   "source": [
    "data = { 'A': [1,2,3,4,5],\n",
    "        'B': [5,4,3,2,1],\n",
    "        'C': [2,3,4,5,6]\n",
    "       }"
   ]
  },
  {
   "cell_type": "code",
   "execution_count": 19,
   "id": "d6b35fb4-4eda-4f4c-8a72-a6727e4baa48",
   "metadata": {},
   "outputs": [],
   "source": [
    "df = pd.DataFrame(data)"
   ]
  },
  {
   "cell_type": "code",
   "execution_count": 20,
   "id": "d7ab0055-f2e0-408b-9a4c-6233220751f6",
   "metadata": {},
   "outputs": [
    {
     "data": {
      "text/html": [
       "<div>\n",
       "<style scoped>\n",
       "    .dataframe tbody tr th:only-of-type {\n",
       "        vertical-align: middle;\n",
       "    }\n",
       "\n",
       "    .dataframe tbody tr th {\n",
       "        vertical-align: top;\n",
       "    }\n",
       "\n",
       "    .dataframe thead th {\n",
       "        text-align: right;\n",
       "    }\n",
       "</style>\n",
       "<table border=\"1\" class=\"dataframe\">\n",
       "  <thead>\n",
       "    <tr style=\"text-align: right;\">\n",
       "      <th></th>\n",
       "      <th>A</th>\n",
       "      <th>B</th>\n",
       "      <th>C</th>\n",
       "    </tr>\n",
       "  </thead>\n",
       "  <tbody>\n",
       "    <tr>\n",
       "      <th>0</th>\n",
       "      <td>1</td>\n",
       "      <td>5</td>\n",
       "      <td>2</td>\n",
       "    </tr>\n",
       "    <tr>\n",
       "      <th>1</th>\n",
       "      <td>2</td>\n",
       "      <td>4</td>\n",
       "      <td>3</td>\n",
       "    </tr>\n",
       "    <tr>\n",
       "      <th>2</th>\n",
       "      <td>3</td>\n",
       "      <td>3</td>\n",
       "      <td>4</td>\n",
       "    </tr>\n",
       "    <tr>\n",
       "      <th>3</th>\n",
       "      <td>4</td>\n",
       "      <td>2</td>\n",
       "      <td>5</td>\n",
       "    </tr>\n",
       "    <tr>\n",
       "      <th>4</th>\n",
       "      <td>5</td>\n",
       "      <td>1</td>\n",
       "      <td>6</td>\n",
       "    </tr>\n",
       "  </tbody>\n",
       "</table>\n",
       "</div>"
      ],
      "text/plain": [
       "   A  B  C\n",
       "0  1  5  2\n",
       "1  2  4  3\n",
       "2  3  3  4\n",
       "3  4  2  5\n",
       "4  5  1  6"
      ]
     },
     "execution_count": 20,
     "metadata": {},
     "output_type": "execute_result"
    }
   ],
   "source": [
    "df.head()"
   ]
  },
  {
   "cell_type": "code",
   "execution_count": 21,
   "id": "0066eb6d-4c55-4382-89f9-7fabd374dac6",
   "metadata": {},
   "outputs": [
    {
     "data": {
      "text/html": [
       "<div>\n",
       "<style scoped>\n",
       "    .dataframe tbody tr th:only-of-type {\n",
       "        vertical-align: middle;\n",
       "    }\n",
       "\n",
       "    .dataframe tbody tr th {\n",
       "        vertical-align: top;\n",
       "    }\n",
       "\n",
       "    .dataframe thead th {\n",
       "        text-align: right;\n",
       "    }\n",
       "</style>\n",
       "<table border=\"1\" class=\"dataframe\">\n",
       "  <thead>\n",
       "    <tr style=\"text-align: right;\">\n",
       "      <th></th>\n",
       "      <th>A</th>\n",
       "      <th>B</th>\n",
       "      <th>C</th>\n",
       "    </tr>\n",
       "  </thead>\n",
       "  <tbody>\n",
       "    <tr>\n",
       "      <th>A</th>\n",
       "      <td>1.0</td>\n",
       "      <td>-1.0</td>\n",
       "      <td>1.0</td>\n",
       "    </tr>\n",
       "    <tr>\n",
       "      <th>B</th>\n",
       "      <td>-1.0</td>\n",
       "      <td>1.0</td>\n",
       "      <td>-1.0</td>\n",
       "    </tr>\n",
       "    <tr>\n",
       "      <th>C</th>\n",
       "      <td>1.0</td>\n",
       "      <td>-1.0</td>\n",
       "      <td>1.0</td>\n",
       "    </tr>\n",
       "  </tbody>\n",
       "</table>\n",
       "</div>"
      ],
      "text/plain": [
       "     A    B    C\n",
       "A  1.0 -1.0  1.0\n",
       "B -1.0  1.0 -1.0\n",
       "C  1.0 -1.0  1.0"
      ]
     },
     "execution_count": 21,
     "metadata": {},
     "output_type": "execute_result"
    }
   ],
   "source": [
    "df.corr()"
   ]
  },
  {
   "cell_type": "code",
   "execution_count": 22,
   "id": "0cff4d90-a18e-4438-8239-6e238f091391",
   "metadata": {},
   "outputs": [
    {
     "data": {
      "text/plain": [
       "np.float64(-0.9999999999999999)"
      ]
     },
     "execution_count": 22,
     "metadata": {},
     "output_type": "execute_result"
    }
   ],
   "source": [
    "df['A'].corr(df['B'])"
   ]
  },
  {
   "cell_type": "code",
   "execution_count": 23,
   "id": "435a12e8-a02f-4a8e-a097-b46d806d8de7",
   "metadata": {},
   "outputs": [
    {
     "data": {
      "text/plain": [
       "np.float64(0.9999999999999999)"
      ]
     },
     "execution_count": 23,
     "metadata": {},
     "output_type": "execute_result"
    }
   ],
   "source": [
    "df['A'].corr(df['C'])"
   ]
  },
  {
   "cell_type": "code",
   "execution_count": 24,
   "id": "7e41a462-5b47-494e-bdca-1f392f2b5a55",
   "metadata": {},
   "outputs": [
    {
     "data": {
      "text/plain": [
       "np.float64(-0.9999999999999999)"
      ]
     },
     "execution_count": 24,
     "metadata": {},
     "output_type": "execute_result"
    }
   ],
   "source": [
    "df['B'].corr(df['C'])"
   ]
  },
  {
   "cell_type": "markdown",
   "id": "f15e7f53-c792-4ef4-bc18-4d9cba20c663",
   "metadata": {},
   "source": [
    "## GROUP BY"
   ]
  },
  {
   "cell_type": "code",
   "execution_count": 27,
   "id": "bdf0c27f-4785-4d81-b206-748aa8e27c5c",
   "metadata": {},
   "outputs": [
    {
     "data": {
      "text/html": [
       "<div>\n",
       "<style scoped>\n",
       "    .dataframe tbody tr th:only-of-type {\n",
       "        vertical-align: middle;\n",
       "    }\n",
       "\n",
       "    .dataframe tbody tr th {\n",
       "        vertical-align: top;\n",
       "    }\n",
       "\n",
       "    .dataframe thead th {\n",
       "        text-align: right;\n",
       "    }\n",
       "</style>\n",
       "<table border=\"1\" class=\"dataframe\">\n",
       "  <thead>\n",
       "    <tr style=\"text-align: right;\">\n",
       "      <th></th>\n",
       "      <th>Prodavnica</th>\n",
       "      <th>Proizvod</th>\n",
       "      <th>Mesec</th>\n",
       "      <th>Prodaja</th>\n",
       "      <th>Trošak</th>\n",
       "    </tr>\n",
       "  </thead>\n",
       "  <tbody>\n",
       "    <tr>\n",
       "      <th>0</th>\n",
       "      <td>A</td>\n",
       "      <td>Jabuka</td>\n",
       "      <td>Januar</td>\n",
       "      <td>100</td>\n",
       "      <td>50</td>\n",
       "    </tr>\n",
       "    <tr>\n",
       "      <th>1</th>\n",
       "      <td>A</td>\n",
       "      <td>Jabuka</td>\n",
       "      <td>Februar</td>\n",
       "      <td>120</td>\n",
       "      <td>60</td>\n",
       "    </tr>\n",
       "    <tr>\n",
       "      <th>2</th>\n",
       "      <td>A</td>\n",
       "      <td>Banana</td>\n",
       "      <td>Januar</td>\n",
       "      <td>80</td>\n",
       "      <td>40</td>\n",
       "    </tr>\n",
       "    <tr>\n",
       "      <th>3</th>\n",
       "      <td>A</td>\n",
       "      <td>Banana</td>\n",
       "      <td>Februar</td>\n",
       "      <td>90</td>\n",
       "      <td>45</td>\n",
       "    </tr>\n",
       "    <tr>\n",
       "      <th>4</th>\n",
       "      <td>A</td>\n",
       "      <td>Pomorandža</td>\n",
       "      <td>Januar</td>\n",
       "      <td>70</td>\n",
       "      <td>30</td>\n",
       "    </tr>\n",
       "    <tr>\n",
       "      <th>5</th>\n",
       "      <td>A</td>\n",
       "      <td>Pomorandža</td>\n",
       "      <td>Februar</td>\n",
       "      <td>80</td>\n",
       "      <td>35</td>\n",
       "    </tr>\n",
       "    <tr>\n",
       "      <th>6</th>\n",
       "      <td>B</td>\n",
       "      <td>Jabuka</td>\n",
       "      <td>Januar</td>\n",
       "      <td>110</td>\n",
       "      <td>55</td>\n",
       "    </tr>\n",
       "    <tr>\n",
       "      <th>7</th>\n",
       "      <td>B</td>\n",
       "      <td>Jabuka</td>\n",
       "      <td>Februar</td>\n",
       "      <td>70</td>\n",
       "      <td>50</td>\n",
       "    </tr>\n",
       "    <tr>\n",
       "      <th>8</th>\n",
       "      <td>B</td>\n",
       "      <td>Banana</td>\n",
       "      <td>Januar</td>\n",
       "      <td>130</td>\n",
       "      <td>45</td>\n",
       "    </tr>\n",
       "    <tr>\n",
       "      <th>9</th>\n",
       "      <td>B</td>\n",
       "      <td>Banana</td>\n",
       "      <td>Februar</td>\n",
       "      <td>80</td>\n",
       "      <td>40</td>\n",
       "    </tr>\n",
       "    <tr>\n",
       "      <th>10</th>\n",
       "      <td>B</td>\n",
       "      <td>Pomorandža</td>\n",
       "      <td>Januar</td>\n",
       "      <td>100</td>\n",
       "      <td>30</td>\n",
       "    </tr>\n",
       "    <tr>\n",
       "      <th>11</th>\n",
       "      <td>B</td>\n",
       "      <td>Pomorandža</td>\n",
       "      <td>Februar</td>\n",
       "      <td>90</td>\n",
       "      <td>40</td>\n",
       "    </tr>\n",
       "  </tbody>\n",
       "</table>\n",
       "</div>"
      ],
      "text/plain": [
       "   Prodavnica    Proizvod    Mesec  Prodaja  Trošak\n",
       "0           A      Jabuka   Januar      100      50\n",
       "1           A      Jabuka  Februar      120      60\n",
       "2           A      Banana   Januar       80      40\n",
       "3           A      Banana  Februar       90      45\n",
       "4           A  Pomorandža   Januar       70      30\n",
       "5           A  Pomorandža  Februar       80      35\n",
       "6           B      Jabuka   Januar      110      55\n",
       "7           B      Jabuka  Februar       70      50\n",
       "8           B      Banana   Januar      130      45\n",
       "9           B      Banana  Februar       80      40\n",
       "10          B  Pomorandža   Januar      100      30\n",
       "11          B  Pomorandža  Februar       90      40"
      ]
     },
     "execution_count": 27,
     "metadata": {},
     "output_type": "execute_result"
    }
   ],
   "source": [
    "data = {\n",
    "    'Prodavnica': ['A','A','A','A','A','A','B','B','B','B','B','B'],\n",
    "    'Proizvod': ['Jabuka', 'Jabuka', 'Banana', 'Banana', 'Pomorandža', 'Pomorandža','Jabuka', 'Jabuka', 'Banana', 'Banana', 'Pomorandža', 'Pomorandža'],\n",
    "    'Mesec': ['Januar', 'Februar', 'Januar', 'Februar', 'Januar', 'Februar','Januar', 'Februar', 'Januar', 'Februar', 'Januar', 'Februar'],\n",
    "    'Prodaja': [100, 120, 80, 90, 70, 80, 110, 70, 130, 80,100, 90],\n",
    "    'Trošak': [50, 60, 40, 45, 30, 35, 55, 50, 45, 40, 30, 40]\n",
    "}\n",
    "df = pd.DataFrame(data)\n",
    "df"
   ]
  },
  {
   "cell_type": "code",
   "execution_count": 28,
   "id": "c0587eb6-1e6d-44b3-8253-2f93a08e9434",
   "metadata": {},
   "outputs": [],
   "source": [
    "groups = df.groupby('Prodavnica')"
   ]
  },
  {
   "cell_type": "code",
   "execution_count": 29,
   "id": "3db34b8e-8d1c-4948-982e-b6031a0a4eba",
   "metadata": {},
   "outputs": [
    {
     "data": {
      "text/plain": [
       "<pandas.core.groupby.generic.DataFrameGroupBy object at 0x0000021233C2A060>"
      ]
     },
     "execution_count": 29,
     "metadata": {},
     "output_type": "execute_result"
    }
   ],
   "source": [
    "groups"
   ]
  },
  {
   "cell_type": "code",
   "execution_count": 30,
   "id": "d295db5a-497c-4f71-9663-c5319b71b168",
   "metadata": {},
   "outputs": [
    {
     "data": {
      "text/html": [
       "<div>\n",
       "<style scoped>\n",
       "    .dataframe tbody tr th:only-of-type {\n",
       "        vertical-align: middle;\n",
       "    }\n",
       "\n",
       "    .dataframe tbody tr th {\n",
       "        vertical-align: top;\n",
       "    }\n",
       "\n",
       "    .dataframe thead th {\n",
       "        text-align: right;\n",
       "    }\n",
       "</style>\n",
       "<table border=\"1\" class=\"dataframe\">\n",
       "  <thead>\n",
       "    <tr style=\"text-align: right;\">\n",
       "      <th></th>\n",
       "      <th>Prodavnica</th>\n",
       "      <th>Proizvod</th>\n",
       "      <th>Mesec</th>\n",
       "      <th>Prodaja</th>\n",
       "      <th>Trošak</th>\n",
       "    </tr>\n",
       "  </thead>\n",
       "  <tbody>\n",
       "    <tr>\n",
       "      <th>0</th>\n",
       "      <td>A</td>\n",
       "      <td>Jabuka</td>\n",
       "      <td>Januar</td>\n",
       "      <td>100</td>\n",
       "      <td>50</td>\n",
       "    </tr>\n",
       "    <tr>\n",
       "      <th>1</th>\n",
       "      <td>A</td>\n",
       "      <td>Jabuka</td>\n",
       "      <td>Februar</td>\n",
       "      <td>120</td>\n",
       "      <td>60</td>\n",
       "    </tr>\n",
       "    <tr>\n",
       "      <th>2</th>\n",
       "      <td>A</td>\n",
       "      <td>Banana</td>\n",
       "      <td>Januar</td>\n",
       "      <td>80</td>\n",
       "      <td>40</td>\n",
       "    </tr>\n",
       "    <tr>\n",
       "      <th>3</th>\n",
       "      <td>A</td>\n",
       "      <td>Banana</td>\n",
       "      <td>Februar</td>\n",
       "      <td>90</td>\n",
       "      <td>45</td>\n",
       "    </tr>\n",
       "    <tr>\n",
       "      <th>4</th>\n",
       "      <td>A</td>\n",
       "      <td>Pomorandža</td>\n",
       "      <td>Januar</td>\n",
       "      <td>70</td>\n",
       "      <td>30</td>\n",
       "    </tr>\n",
       "    <tr>\n",
       "      <th>5</th>\n",
       "      <td>A</td>\n",
       "      <td>Pomorandža</td>\n",
       "      <td>Februar</td>\n",
       "      <td>80</td>\n",
       "      <td>35</td>\n",
       "    </tr>\n",
       "  </tbody>\n",
       "</table>\n",
       "</div>"
      ],
      "text/plain": [
       "  Prodavnica    Proizvod    Mesec  Prodaja  Trošak\n",
       "0          A      Jabuka   Januar      100      50\n",
       "1          A      Jabuka  Februar      120      60\n",
       "2          A      Banana   Januar       80      40\n",
       "3          A      Banana  Februar       90      45\n",
       "4          A  Pomorandža   Januar       70      30\n",
       "5          A  Pomorandža  Februar       80      35"
      ]
     },
     "execution_count": 30,
     "metadata": {},
     "output_type": "execute_result"
    }
   ],
   "source": [
    "df.groupby('Prodavnica').get_group('A')"
   ]
  },
  {
   "cell_type": "code",
   "execution_count": 31,
   "id": "3537f2d7-7e06-4344-9b0a-1f6b686c0faf",
   "metadata": {},
   "outputs": [
    {
     "data": {
      "text/plain": [
       "Prodavnica\n",
       "A    90.000000\n",
       "B    96.666667\n",
       "Name: Prodaja, dtype: float64"
      ]
     },
     "execution_count": 31,
     "metadata": {},
     "output_type": "execute_result"
    }
   ],
   "source": [
    "df.groupby('Prodavnica')['Prodaja'].mean()"
   ]
  },
  {
   "cell_type": "code",
   "execution_count": 32,
   "id": "6cecd938-8fb3-48c5-a272-c7fc7b8babdc",
   "metadata": {},
   "outputs": [
    {
     "data": {
      "text/plain": [
       "Prodavnica\n",
       "A    120\n",
       "B    130\n",
       "Name: Prodaja, dtype: int64"
      ]
     },
     "execution_count": 32,
     "metadata": {},
     "output_type": "execute_result"
    }
   ],
   "source": [
    "df.groupby('Prodavnica')['Prodaja'].max()"
   ]
  },
  {
   "cell_type": "code",
   "execution_count": 33,
   "id": "c127d41f-d9dc-4b5d-8d64-a607a373adaa",
   "metadata": {},
   "outputs": [
    {
     "data": {
      "text/plain": [
       "Prodavnica\n",
       "A    70\n",
       "B    70\n",
       "Name: Prodaja, dtype: int64"
      ]
     },
     "execution_count": 33,
     "metadata": {},
     "output_type": "execute_result"
    }
   ],
   "source": [
    "df.groupby('Prodavnica')['Prodaja'].min()"
   ]
  },
  {
   "cell_type": "code",
   "execution_count": 34,
   "id": "f08eb14d-4398-4bdf-b8ee-2a4e7b15abde",
   "metadata": {},
   "outputs": [
    {
     "data": {
      "text/plain": [
       "Prodavnica\n",
       "A    540\n",
       "B    580\n",
       "Name: Prodaja, dtype: int64"
      ]
     },
     "execution_count": 34,
     "metadata": {},
     "output_type": "execute_result"
    }
   ],
   "source": [
    "df.groupby('Prodavnica')['Prodaja'].sum()"
   ]
  },
  {
   "cell_type": "code",
   "execution_count": 35,
   "id": "b196ff76-c28b-4565-b84d-35c4374c120e",
   "metadata": {},
   "outputs": [
    {
     "data": {
      "text/plain": [
       "Prodavnica\n",
       "A    6\n",
       "B    6\n",
       "Name: Prodaja, dtype: int64"
      ]
     },
     "execution_count": 35,
     "metadata": {},
     "output_type": "execute_result"
    }
   ],
   "source": [
    "df.groupby('Prodavnica')['Prodaja'].count()"
   ]
  },
  {
   "cell_type": "code",
   "execution_count": 36,
   "id": "f780e0bf-9781-4483-8602-53412edf64c7",
   "metadata": {},
   "outputs": [
    {
     "data": {
      "text/plain": [
       "Prodaja  Mesec  \n",
       "70       Februar    50.0\n",
       "         Januar     30.0\n",
       "80       Februar    37.5\n",
       "         Januar     40.0\n",
       "90       Februar    42.5\n",
       "100      Januar     40.0\n",
       "110      Januar     55.0\n",
       "120      Februar    60.0\n",
       "130      Januar     45.0\n",
       "Name: Trošak, dtype: float64"
      ]
     },
     "execution_count": 36,
     "metadata": {},
     "output_type": "execute_result"
    }
   ],
   "source": [
    "df.groupby(['Prodaja','Mesec'])['Trošak'].mean()"
   ]
  },
  {
   "cell_type": "code",
   "execution_count": 37,
   "id": "0d6f55ef-1ffe-4d0b-9e18-73e64c15523b",
   "metadata": {},
   "outputs": [
    {
     "data": {
      "text/html": [
       "<div>\n",
       "<style scoped>\n",
       "    .dataframe tbody tr th:only-of-type {\n",
       "        vertical-align: middle;\n",
       "    }\n",
       "\n",
       "    .dataframe tbody tr th {\n",
       "        vertical-align: top;\n",
       "    }\n",
       "\n",
       "    .dataframe thead th {\n",
       "        text-align: right;\n",
       "    }\n",
       "</style>\n",
       "<table border=\"1\" class=\"dataframe\">\n",
       "  <thead>\n",
       "    <tr style=\"text-align: right;\">\n",
       "      <th></th>\n",
       "      <th>Prodaja</th>\n",
       "      <th>Mesec</th>\n",
       "      <th>Trošak</th>\n",
       "    </tr>\n",
       "  </thead>\n",
       "  <tbody>\n",
       "    <tr>\n",
       "      <th>0</th>\n",
       "      <td>70</td>\n",
       "      <td>Februar</td>\n",
       "      <td>50.0</td>\n",
       "    </tr>\n",
       "    <tr>\n",
       "      <th>1</th>\n",
       "      <td>70</td>\n",
       "      <td>Januar</td>\n",
       "      <td>30.0</td>\n",
       "    </tr>\n",
       "    <tr>\n",
       "      <th>2</th>\n",
       "      <td>80</td>\n",
       "      <td>Februar</td>\n",
       "      <td>37.5</td>\n",
       "    </tr>\n",
       "    <tr>\n",
       "      <th>3</th>\n",
       "      <td>80</td>\n",
       "      <td>Januar</td>\n",
       "      <td>40.0</td>\n",
       "    </tr>\n",
       "    <tr>\n",
       "      <th>4</th>\n",
       "      <td>90</td>\n",
       "      <td>Februar</td>\n",
       "      <td>42.5</td>\n",
       "    </tr>\n",
       "    <tr>\n",
       "      <th>5</th>\n",
       "      <td>100</td>\n",
       "      <td>Januar</td>\n",
       "      <td>40.0</td>\n",
       "    </tr>\n",
       "    <tr>\n",
       "      <th>6</th>\n",
       "      <td>110</td>\n",
       "      <td>Januar</td>\n",
       "      <td>55.0</td>\n",
       "    </tr>\n",
       "    <tr>\n",
       "      <th>7</th>\n",
       "      <td>120</td>\n",
       "      <td>Februar</td>\n",
       "      <td>60.0</td>\n",
       "    </tr>\n",
       "    <tr>\n",
       "      <th>8</th>\n",
       "      <td>130</td>\n",
       "      <td>Januar</td>\n",
       "      <td>45.0</td>\n",
       "    </tr>\n",
       "  </tbody>\n",
       "</table>\n",
       "</div>"
      ],
      "text/plain": [
       "   Prodaja    Mesec  Trošak\n",
       "0       70  Februar    50.0\n",
       "1       70   Januar    30.0\n",
       "2       80  Februar    37.5\n",
       "3       80   Januar    40.0\n",
       "4       90  Februar    42.5\n",
       "5      100   Januar    40.0\n",
       "6      110   Januar    55.0\n",
       "7      120  Februar    60.0\n",
       "8      130   Januar    45.0"
      ]
     },
     "execution_count": 37,
     "metadata": {},
     "output_type": "execute_result"
    }
   ],
   "source": [
    "df.groupby(['Prodaja','Mesec'])['Trošak'].mean().reset_index()"
   ]
  },
  {
   "cell_type": "code",
   "execution_count": 38,
   "id": "b270f7b2-200d-4294-adc9-dcda7dc56ef7",
   "metadata": {},
   "outputs": [
    {
     "data": {
      "text/html": [
       "<div>\n",
       "<style scoped>\n",
       "    .dataframe tbody tr th:only-of-type {\n",
       "        vertical-align: middle;\n",
       "    }\n",
       "\n",
       "    .dataframe tbody tr th {\n",
       "        vertical-align: top;\n",
       "    }\n",
       "\n",
       "    .dataframe thead th {\n",
       "        text-align: right;\n",
       "    }\n",
       "</style>\n",
       "<table border=\"1\" class=\"dataframe\">\n",
       "  <thead>\n",
       "    <tr style=\"text-align: right;\">\n",
       "      <th></th>\n",
       "      <th>Prodaja</th>\n",
       "      <th>Mesec</th>\n",
       "      <th>Trošak</th>\n",
       "    </tr>\n",
       "  </thead>\n",
       "  <tbody>\n",
       "    <tr>\n",
       "      <th>0</th>\n",
       "      <td>70</td>\n",
       "      <td>Februar</td>\n",
       "      <td>50.0</td>\n",
       "    </tr>\n",
       "    <tr>\n",
       "      <th>1</th>\n",
       "      <td>70</td>\n",
       "      <td>Januar</td>\n",
       "      <td>30.0</td>\n",
       "    </tr>\n",
       "    <tr>\n",
       "      <th>2</th>\n",
       "      <td>80</td>\n",
       "      <td>Februar</td>\n",
       "      <td>37.5</td>\n",
       "    </tr>\n",
       "    <tr>\n",
       "      <th>3</th>\n",
       "      <td>80</td>\n",
       "      <td>Januar</td>\n",
       "      <td>40.0</td>\n",
       "    </tr>\n",
       "    <tr>\n",
       "      <th>4</th>\n",
       "      <td>90</td>\n",
       "      <td>Februar</td>\n",
       "      <td>42.5</td>\n",
       "    </tr>\n",
       "    <tr>\n",
       "      <th>5</th>\n",
       "      <td>100</td>\n",
       "      <td>Januar</td>\n",
       "      <td>40.0</td>\n",
       "    </tr>\n",
       "    <tr>\n",
       "      <th>6</th>\n",
       "      <td>110</td>\n",
       "      <td>Januar</td>\n",
       "      <td>55.0</td>\n",
       "    </tr>\n",
       "    <tr>\n",
       "      <th>7</th>\n",
       "      <td>120</td>\n",
       "      <td>Februar</td>\n",
       "      <td>60.0</td>\n",
       "    </tr>\n",
       "    <tr>\n",
       "      <th>8</th>\n",
       "      <td>130</td>\n",
       "      <td>Januar</td>\n",
       "      <td>45.0</td>\n",
       "    </tr>\n",
       "  </tbody>\n",
       "</table>\n",
       "</div>"
      ],
      "text/plain": [
       "   Prodaja    Mesec  Trošak\n",
       "0       70  Februar    50.0\n",
       "1       70   Januar    30.0\n",
       "2       80  Februar    37.5\n",
       "3       80   Januar    40.0\n",
       "4       90  Februar    42.5\n",
       "5      100   Januar    40.0\n",
       "6      110   Januar    55.0\n",
       "7      120  Februar    60.0\n",
       "8      130   Januar    45.0"
      ]
     },
     "execution_count": 38,
     "metadata": {},
     "output_type": "execute_result"
    }
   ],
   "source": [
    "df.groupby(['Prodaja','Mesec'])['Trošak'].mean().round(2).reset_index()"
   ]
  },
  {
   "cell_type": "markdown",
   "id": "d3ccf245-9fff-4220-ad48-40a2db687f44",
   "metadata": {},
   "source": [
    "# AIRBNB DATA"
   ]
  },
  {
   "cell_type": "code",
   "execution_count": 39,
   "id": "109debdb-40ba-4118-8354-1c50e85f798d",
   "metadata": {},
   "outputs": [],
   "source": [
    "airbnb = pd.read_csv('airbnb_clean_final.csv')"
   ]
  },
  {
   "cell_type": "code",
   "execution_count": 40,
   "id": "8f43ace3-24f9-4f29-a934-7ef867489791",
   "metadata": {},
   "outputs": [
    {
     "data": {
      "text/html": [
       "<div>\n",
       "<style scoped>\n",
       "    .dataframe tbody tr th:only-of-type {\n",
       "        vertical-align: middle;\n",
       "    }\n",
       "\n",
       "    .dataframe tbody tr th {\n",
       "        vertical-align: top;\n",
       "    }\n",
       "\n",
       "    .dataframe thead th {\n",
       "        text-align: right;\n",
       "    }\n",
       "</style>\n",
       "<table border=\"1\" class=\"dataframe\">\n",
       "  <thead>\n",
       "    <tr style=\"text-align: right;\">\n",
       "      <th></th>\n",
       "      <th>Unnamed: 0</th>\n",
       "      <th>id</th>\n",
       "      <th>name</th>\n",
       "      <th>summary</th>\n",
       "      <th>description</th>\n",
       "      <th>host_name</th>\n",
       "      <th>host_is_superhost</th>\n",
       "      <th>street</th>\n",
       "      <th>neighbourhood</th>\n",
       "      <th>state</th>\n",
       "      <th>...</th>\n",
       "      <th>bed_type</th>\n",
       "      <th>amenities</th>\n",
       "      <th>price</th>\n",
       "      <th>guests_included</th>\n",
       "      <th>extra_people</th>\n",
       "      <th>minimum_nights</th>\n",
       "      <th>maximum_nights</th>\n",
       "      <th>number_of_reviews</th>\n",
       "      <th>review_scores_rating</th>\n",
       "      <th>cancellation_policy</th>\n",
       "    </tr>\n",
       "  </thead>\n",
       "  <tbody>\n",
       "    <tr>\n",
       "      <th>0</th>\n",
       "      <td>0</td>\n",
       "      <td>12147973</td>\n",
       "      <td>Sunny Bungalow in the City of Boston</td>\n",
       "      <td>Cozy, sunny, family home.  Master bedroom high...</td>\n",
       "      <td>Cozy, sunny, family home.  Master bedroom high...</td>\n",
       "      <td>Virginia</td>\n",
       "      <td>f</td>\n",
       "      <td>Birch Street, Boston, MA 02131, United States</td>\n",
       "      <td>Roslindale</td>\n",
       "      <td>MA</td>\n",
       "      <td>...</td>\n",
       "      <td>Real Bed</td>\n",
       "      <td>{TV,\"Wireless Internet\",Kitchen,\"Free Parking ...</td>\n",
       "      <td>250.0</td>\n",
       "      <td>1</td>\n",
       "      <td>$0.00</td>\n",
       "      <td>2</td>\n",
       "      <td>1125</td>\n",
       "      <td>0</td>\n",
       "      <td>92.0</td>\n",
       "      <td>moderate</td>\n",
       "    </tr>\n",
       "    <tr>\n",
       "      <th>1</th>\n",
       "      <td>1</td>\n",
       "      <td>3075044</td>\n",
       "      <td>Charming room in pet friendly apt</td>\n",
       "      <td>Charming and quiet room in a second floor 1910...</td>\n",
       "      <td>Charming and quiet room in a second floor 1910...</td>\n",
       "      <td>Andrea</td>\n",
       "      <td>f</td>\n",
       "      <td>Pinehurst Street, Boston, MA 02131, United States</td>\n",
       "      <td>Roslindale</td>\n",
       "      <td>MA</td>\n",
       "      <td>...</td>\n",
       "      <td>Real Bed</td>\n",
       "      <td>{TV,Internet,\"Wireless Internet\",\"Air Conditio...</td>\n",
       "      <td>65.0</td>\n",
       "      <td>0</td>\n",
       "      <td>$0.00</td>\n",
       "      <td>2</td>\n",
       "      <td>15</td>\n",
       "      <td>36</td>\n",
       "      <td>94.0</td>\n",
       "      <td>moderate</td>\n",
       "    </tr>\n",
       "    <tr>\n",
       "      <th>2</th>\n",
       "      <td>2</td>\n",
       "      <td>6976</td>\n",
       "      <td>Mexican Folk Art Haven in Boston</td>\n",
       "      <td>Come stay with a friendly, middle-aged guy in ...</td>\n",
       "      <td>Come stay with a friendly, middle-aged guy in ...</td>\n",
       "      <td>Phil</td>\n",
       "      <td>t</td>\n",
       "      <td>Ardale St., Boston, MA 02131, United States</td>\n",
       "      <td>Roslindale</td>\n",
       "      <td>MA</td>\n",
       "      <td>...</td>\n",
       "      <td>Real Bed</td>\n",
       "      <td>{TV,\"Cable TV\",\"Wireless Internet\",\"Air Condit...</td>\n",
       "      <td>65.0</td>\n",
       "      <td>1</td>\n",
       "      <td>$20.00</td>\n",
       "      <td>3</td>\n",
       "      <td>45</td>\n",
       "      <td>41</td>\n",
       "      <td>98.0</td>\n",
       "      <td>moderate</td>\n",
       "    </tr>\n",
       "    <tr>\n",
       "      <th>3</th>\n",
       "      <td>3</td>\n",
       "      <td>1436513</td>\n",
       "      <td>Spacious Sunny Bedroom Suite in Historic Home</td>\n",
       "      <td>Come experience the comforts of home away from...</td>\n",
       "      <td>Come experience the comforts of home away from...</td>\n",
       "      <td>Meghna</td>\n",
       "      <td>f</td>\n",
       "      <td>Boston, MA, United States</td>\n",
       "      <td>02131</td>\n",
       "      <td>MA</td>\n",
       "      <td>...</td>\n",
       "      <td>Real Bed</td>\n",
       "      <td>{TV,Internet,\"Wireless Internet\",\"Air Conditio...</td>\n",
       "      <td>75.0</td>\n",
       "      <td>2</td>\n",
       "      <td>$25.00</td>\n",
       "      <td>1</td>\n",
       "      <td>1125</td>\n",
       "      <td>1</td>\n",
       "      <td>100.0</td>\n",
       "      <td>moderate</td>\n",
       "    </tr>\n",
       "    <tr>\n",
       "      <th>4</th>\n",
       "      <td>4</td>\n",
       "      <td>7651065</td>\n",
       "      <td>Come Home to Boston</td>\n",
       "      <td>My comfy, clean and relaxing home is one block...</td>\n",
       "      <td>My comfy, clean and relaxing home is one block...</td>\n",
       "      <td>Linda</td>\n",
       "      <td>t</td>\n",
       "      <td>Durnell Avenue, Boston, MA 02131, United States</td>\n",
       "      <td>Roslindale</td>\n",
       "      <td>MA</td>\n",
       "      <td>...</td>\n",
       "      <td>Real Bed</td>\n",
       "      <td>{Internet,\"Wireless Internet\",\"Air Conditionin...</td>\n",
       "      <td>79.0</td>\n",
       "      <td>1</td>\n",
       "      <td>$0.00</td>\n",
       "      <td>2</td>\n",
       "      <td>31</td>\n",
       "      <td>29</td>\n",
       "      <td>99.0</td>\n",
       "      <td>flexible</td>\n",
       "    </tr>\n",
       "  </tbody>\n",
       "</table>\n",
       "<p>5 rows × 32 columns</p>\n",
       "</div>"
      ],
      "text/plain": [
       "   Unnamed: 0        id                                           name  \\\n",
       "0           0  12147973           Sunny Bungalow in the City of Boston   \n",
       "1           1   3075044              Charming room in pet friendly apt   \n",
       "2           2      6976               Mexican Folk Art Haven in Boston   \n",
       "3           3   1436513  Spacious Sunny Bedroom Suite in Historic Home   \n",
       "4           4   7651065                            Come Home to Boston   \n",
       "\n",
       "                                             summary  \\\n",
       "0  Cozy, sunny, family home.  Master bedroom high...   \n",
       "1  Charming and quiet room in a second floor 1910...   \n",
       "2  Come stay with a friendly, middle-aged guy in ...   \n",
       "3  Come experience the comforts of home away from...   \n",
       "4  My comfy, clean and relaxing home is one block...   \n",
       "\n",
       "                                         description host_name  \\\n",
       "0  Cozy, sunny, family home.  Master bedroom high...  Virginia   \n",
       "1  Charming and quiet room in a second floor 1910...    Andrea   \n",
       "2  Come stay with a friendly, middle-aged guy in ...      Phil   \n",
       "3  Come experience the comforts of home away from...    Meghna   \n",
       "4  My comfy, clean and relaxing home is one block...     Linda   \n",
       "\n",
       "  host_is_superhost                                             street  \\\n",
       "0                 f      Birch Street, Boston, MA 02131, United States   \n",
       "1                 f  Pinehurst Street, Boston, MA 02131, United States   \n",
       "2                 t        Ardale St., Boston, MA 02131, United States   \n",
       "3                 f                          Boston, MA, United States   \n",
       "4                 t    Durnell Avenue, Boston, MA 02131, United States   \n",
       "\n",
       "  neighbourhood state  ...  bed_type  \\\n",
       "0    Roslindale    MA  ...  Real Bed   \n",
       "1    Roslindale    MA  ...  Real Bed   \n",
       "2    Roslindale    MA  ...  Real Bed   \n",
       "3         02131    MA  ...  Real Bed   \n",
       "4    Roslindale    MA  ...  Real Bed   \n",
       "\n",
       "                                           amenities  price guests_included  \\\n",
       "0  {TV,\"Wireless Internet\",Kitchen,\"Free Parking ...  250.0               1   \n",
       "1  {TV,Internet,\"Wireless Internet\",\"Air Conditio...   65.0               0   \n",
       "2  {TV,\"Cable TV\",\"Wireless Internet\",\"Air Condit...   65.0               1   \n",
       "3  {TV,Internet,\"Wireless Internet\",\"Air Conditio...   75.0               2   \n",
       "4  {Internet,\"Wireless Internet\",\"Air Conditionin...   79.0               1   \n",
       "\n",
       "   extra_people  minimum_nights maximum_nights number_of_reviews  \\\n",
       "0         $0.00               2           1125                 0   \n",
       "1         $0.00               2             15                36   \n",
       "2        $20.00               3             45                41   \n",
       "3        $25.00               1           1125                 1   \n",
       "4         $0.00               2             31                29   \n",
       "\n",
       "   review_scores_rating  cancellation_policy  \n",
       "0                  92.0             moderate  \n",
       "1                  94.0             moderate  \n",
       "2                  98.0             moderate  \n",
       "3                 100.0             moderate  \n",
       "4                  99.0             flexible  \n",
       "\n",
       "[5 rows x 32 columns]"
      ]
     },
     "execution_count": 40,
     "metadata": {},
     "output_type": "execute_result"
    }
   ],
   "source": [
    "airbnb.head()"
   ]
  },
  {
   "cell_type": "code",
   "execution_count": 42,
   "id": "f39bde20-42ea-4795-82c4-b122e581528a",
   "metadata": {},
   "outputs": [
    {
     "data": {
      "text/html": [
       "<div>\n",
       "<style scoped>\n",
       "    .dataframe tbody tr th:only-of-type {\n",
       "        vertical-align: middle;\n",
       "    }\n",
       "\n",
       "    .dataframe tbody tr th {\n",
       "        vertical-align: top;\n",
       "    }\n",
       "\n",
       "    .dataframe thead th {\n",
       "        text-align: right;\n",
       "    }\n",
       "</style>\n",
       "<table border=\"1\" class=\"dataframe\">\n",
       "  <thead>\n",
       "    <tr style=\"text-align: right;\">\n",
       "      <th></th>\n",
       "      <th>Unnamed: 0</th>\n",
       "      <th>id</th>\n",
       "      <th>latitude</th>\n",
       "      <th>longitude</th>\n",
       "      <th>accommodates</th>\n",
       "      <th>bathrooms</th>\n",
       "      <th>bedrooms</th>\n",
       "      <th>beds</th>\n",
       "      <th>price</th>\n",
       "      <th>guests_included</th>\n",
       "      <th>minimum_nights</th>\n",
       "      <th>maximum_nights</th>\n",
       "      <th>number_of_reviews</th>\n",
       "      <th>review_scores_rating</th>\n",
       "    </tr>\n",
       "  </thead>\n",
       "  <tbody>\n",
       "    <tr>\n",
       "      <th>count</th>\n",
       "      <td>3585.000000</td>\n",
       "      <td>3.585000e+03</td>\n",
       "      <td>3585.000000</td>\n",
       "      <td>3585.000000</td>\n",
       "      <td>3585.000000</td>\n",
       "      <td>3585.000000</td>\n",
       "      <td>3585.000000</td>\n",
       "      <td>3585.000000</td>\n",
       "      <td>3585.000000</td>\n",
       "      <td>3585.000000</td>\n",
       "      <td>3585.000000</td>\n",
       "      <td>3.585000e+03</td>\n",
       "      <td>3585.000000</td>\n",
       "      <td>3585.000000</td>\n",
       "    </tr>\n",
       "    <tr>\n",
       "      <th>mean</th>\n",
       "      <td>1792.000000</td>\n",
       "      <td>8.440875e+06</td>\n",
       "      <td>42.340032</td>\n",
       "      <td>-71.084818</td>\n",
       "      <td>3.041283</td>\n",
       "      <td>1.220781</td>\n",
       "      <td>1.258020</td>\n",
       "      <td>1.609205</td>\n",
       "      <td>173.925802</td>\n",
       "      <td>1.429847</td>\n",
       "      <td>3.171269</td>\n",
       "      <td>2.872584e+04</td>\n",
       "      <td>19.044630</td>\n",
       "      <td>91.935565</td>\n",
       "    </tr>\n",
       "    <tr>\n",
       "      <th>std</th>\n",
       "      <td>1035.044685</td>\n",
       "      <td>4.500787e+06</td>\n",
       "      <td>0.024403</td>\n",
       "      <td>0.031565</td>\n",
       "      <td>1.778929</td>\n",
       "      <td>0.500698</td>\n",
       "      <td>0.753032</td>\n",
       "      <td>1.010754</td>\n",
       "      <td>148.331321</td>\n",
       "      <td>1.056787</td>\n",
       "      <td>8.874133</td>\n",
       "      <td>1.670136e+06</td>\n",
       "      <td>35.571658</td>\n",
       "      <td>8.381230</td>\n",
       "    </tr>\n",
       "    <tr>\n",
       "      <th>min</th>\n",
       "      <td>0.000000</td>\n",
       "      <td>3.353000e+03</td>\n",
       "      <td>42.235942</td>\n",
       "      <td>-71.171789</td>\n",
       "      <td>1.000000</td>\n",
       "      <td>0.000000</td>\n",
       "      <td>0.000000</td>\n",
       "      <td>0.000000</td>\n",
       "      <td>10.000000</td>\n",
       "      <td>0.000000</td>\n",
       "      <td>1.000000</td>\n",
       "      <td>1.000000e+00</td>\n",
       "      <td>0.000000</td>\n",
       "      <td>20.000000</td>\n",
       "    </tr>\n",
       "    <tr>\n",
       "      <th>25%</th>\n",
       "      <td>896.000000</td>\n",
       "      <td>4.679319e+06</td>\n",
       "      <td>42.329995</td>\n",
       "      <td>-71.105083</td>\n",
       "      <td>2.000000</td>\n",
       "      <td>1.000000</td>\n",
       "      <td>1.000000</td>\n",
       "      <td>1.000000</td>\n",
       "      <td>85.000000</td>\n",
       "      <td>1.000000</td>\n",
       "      <td>1.000000</td>\n",
       "      <td>3.650000e+02</td>\n",
       "      <td>1.000000</td>\n",
       "      <td>91.000000</td>\n",
       "    </tr>\n",
       "    <tr>\n",
       "      <th>50%</th>\n",
       "      <td>1792.000000</td>\n",
       "      <td>8.577620e+06</td>\n",
       "      <td>42.345201</td>\n",
       "      <td>-71.078429</td>\n",
       "      <td>2.000000</td>\n",
       "      <td>1.000000</td>\n",
       "      <td>1.000000</td>\n",
       "      <td>1.000000</td>\n",
       "      <td>150.000000</td>\n",
       "      <td>1.000000</td>\n",
       "      <td>2.000000</td>\n",
       "      <td>1.125000e+03</td>\n",
       "      <td>5.000000</td>\n",
       "      <td>92.000000</td>\n",
       "    </tr>\n",
       "    <tr>\n",
       "      <th>75%</th>\n",
       "      <td>2688.000000</td>\n",
       "      <td>1.278953e+07</td>\n",
       "      <td>42.354685</td>\n",
       "      <td>-71.062155</td>\n",
       "      <td>4.000000</td>\n",
       "      <td>1.000000</td>\n",
       "      <td>2.000000</td>\n",
       "      <td>2.000000</td>\n",
       "      <td>220.000000</td>\n",
       "      <td>1.000000</td>\n",
       "      <td>3.000000</td>\n",
       "      <td>1.125000e+03</td>\n",
       "      <td>21.000000</td>\n",
       "      <td>97.000000</td>\n",
       "    </tr>\n",
       "    <tr>\n",
       "      <th>max</th>\n",
       "      <td>3584.000000</td>\n",
       "      <td>1.493346e+07</td>\n",
       "      <td>42.389982</td>\n",
       "      <td>-71.000100</td>\n",
       "      <td>16.000000</td>\n",
       "      <td>6.000000</td>\n",
       "      <td>5.000000</td>\n",
       "      <td>16.000000</td>\n",
       "      <td>4000.000000</td>\n",
       "      <td>14.000000</td>\n",
       "      <td>300.000000</td>\n",
       "      <td>1.000000e+08</td>\n",
       "      <td>404.000000</td>\n",
       "      <td>100.000000</td>\n",
       "    </tr>\n",
       "  </tbody>\n",
       "</table>\n",
       "</div>"
      ],
      "text/plain": [
       "        Unnamed: 0            id     latitude    longitude  accommodates  \\\n",
       "count  3585.000000  3.585000e+03  3585.000000  3585.000000   3585.000000   \n",
       "mean   1792.000000  8.440875e+06    42.340032   -71.084818      3.041283   \n",
       "std    1035.044685  4.500787e+06     0.024403     0.031565      1.778929   \n",
       "min       0.000000  3.353000e+03    42.235942   -71.171789      1.000000   \n",
       "25%     896.000000  4.679319e+06    42.329995   -71.105083      2.000000   \n",
       "50%    1792.000000  8.577620e+06    42.345201   -71.078429      2.000000   \n",
       "75%    2688.000000  1.278953e+07    42.354685   -71.062155      4.000000   \n",
       "max    3584.000000  1.493346e+07    42.389982   -71.000100     16.000000   \n",
       "\n",
       "         bathrooms     bedrooms         beds        price  guests_included  \\\n",
       "count  3585.000000  3585.000000  3585.000000  3585.000000      3585.000000   \n",
       "mean      1.220781     1.258020     1.609205   173.925802         1.429847   \n",
       "std       0.500698     0.753032     1.010754   148.331321         1.056787   \n",
       "min       0.000000     0.000000     0.000000    10.000000         0.000000   \n",
       "25%       1.000000     1.000000     1.000000    85.000000         1.000000   \n",
       "50%       1.000000     1.000000     1.000000   150.000000         1.000000   \n",
       "75%       1.000000     2.000000     2.000000   220.000000         1.000000   \n",
       "max       6.000000     5.000000    16.000000  4000.000000        14.000000   \n",
       "\n",
       "       minimum_nights  maximum_nights  number_of_reviews  review_scores_rating  \n",
       "count     3585.000000    3.585000e+03        3585.000000           3585.000000  \n",
       "mean         3.171269    2.872584e+04          19.044630             91.935565  \n",
       "std          8.874133    1.670136e+06          35.571658              8.381230  \n",
       "min          1.000000    1.000000e+00           0.000000             20.000000  \n",
       "25%          1.000000    3.650000e+02           1.000000             91.000000  \n",
       "50%          2.000000    1.125000e+03           5.000000             92.000000  \n",
       "75%          3.000000    1.125000e+03          21.000000             97.000000  \n",
       "max        300.000000    1.000000e+08         404.000000            100.000000  "
      ]
     },
     "execution_count": 42,
     "metadata": {},
     "output_type": "execute_result"
    }
   ],
   "source": [
    "airbnb.describe()"
   ]
  },
  {
   "cell_type": "code",
   "execution_count": 43,
   "id": "96c92fb5-fa35-4f06-a658-ec73fe61115d",
   "metadata": {},
   "outputs": [
    {
     "data": {
      "text/plain": [
       "neighbourhood\n",
       "Allston-Brighton    364\n",
       "Jamaica Plain       314\n",
       "South End           298\n",
       "Back Bay            291\n",
       "Fenway/Kenmore      249\n",
       "                   ... \n",
       "02467                 1\n",
       "02205                 1\n",
       "02139                 1\n",
       "02318                 1\n",
       "02447                 1\n",
       "Name: count, Length: 75, dtype: int64"
      ]
     },
     "execution_count": 43,
     "metadata": {},
     "output_type": "execute_result"
    }
   ],
   "source": [
    "airbnb['neighbourhood'].value_counts()"
   ]
  },
  {
   "cell_type": "code",
   "execution_count": 45,
   "id": "3f8b5ca8-edcc-44a5-9ea3-4106ea082f81",
   "metadata": {},
   "outputs": [
    {
     "data": {
      "text/plain": [
       "neighbourhood\n",
       "Allston-Brighton    10.153417\n",
       "Jamaica Plain        8.758717\n",
       "South End            8.312413\n",
       "Back Bay             8.117155\n",
       "Fenway/Kenmore       6.945607\n",
       "                      ...    \n",
       "02467                0.027894\n",
       "02205                0.027894\n",
       "02139                0.027894\n",
       "02318                0.027894\n",
       "02447                0.027894\n",
       "Name: proportion, Length: 75, dtype: float64"
      ]
     },
     "execution_count": 45,
     "metadata": {},
     "output_type": "execute_result"
    }
   ],
   "source": [
    "airbnb['neighbourhood'].value_counts(normalize = True)*100"
   ]
  },
  {
   "cell_type": "code",
   "execution_count": 46,
   "id": "945d70b2-70e5-4789-91ec-82e7a5aaf105",
   "metadata": {},
   "outputs": [
    {
     "data": {
      "text/plain": [
       "beds\n",
       "1.0     2168\n",
       "2.0      959\n",
       "3.0      275\n",
       "4.0      106\n",
       "5.0       40\n",
       "6.0       16\n",
       "7.0        8\n",
       "8.0        6\n",
       "0.0        4\n",
       "9.0        2\n",
       "16.0       1\n",
       "Name: count, dtype: int64"
      ]
     },
     "execution_count": 46,
     "metadata": {},
     "output_type": "execute_result"
    }
   ],
   "source": [
    "airbnb['beds'].value_counts()"
   ]
  },
  {
   "cell_type": "code",
   "execution_count": 48,
   "id": "7ea5e4fe-8f0c-4b49-b3d1-a93a1d8efa07",
   "metadata": {},
   "outputs": [
    {
     "data": {
      "text/plain": [
       "np.float64(0.3695321852080825)"
      ]
     },
     "execution_count": 48,
     "metadata": {},
     "output_type": "execute_result"
    }
   ],
   "source": [
    "airbnb['beds'].corr(airbnb['price'])"
   ]
  },
  {
   "cell_type": "code",
   "execution_count": 49,
   "id": "229de69b-8989-424b-9cc8-e67180da53dd",
   "metadata": {},
   "outputs": [
    {
     "data": {
      "text/plain": [
       "np.float64(0.07112826590079666)"
      ]
     },
     "execution_count": 49,
     "metadata": {},
     "output_type": "execute_result"
    }
   ],
   "source": [
    "airbnb['review_scores_rating'].corr(airbnb['price'])"
   ]
  },
  {
   "cell_type": "code",
   "execution_count": 53,
   "id": "ac8b42fe-4cd7-4337-a667-0ebee840ade0",
   "metadata": {},
   "outputs": [],
   "source": [
    "airbnb = airbnb.drop(index = 0)"
   ]
  },
  {
   "cell_type": "code",
   "execution_count": 54,
   "id": "02728dbb-5e20-437b-8655-94e07f48c0dc",
   "metadata": {},
   "outputs": [
    {
     "data": {
      "text/html": [
       "<div>\n",
       "<style scoped>\n",
       "    .dataframe tbody tr th:only-of-type {\n",
       "        vertical-align: middle;\n",
       "    }\n",
       "\n",
       "    .dataframe tbody tr th {\n",
       "        vertical-align: top;\n",
       "    }\n",
       "\n",
       "    .dataframe thead th {\n",
       "        text-align: right;\n",
       "    }\n",
       "</style>\n",
       "<table border=\"1\" class=\"dataframe\">\n",
       "  <thead>\n",
       "    <tr style=\"text-align: right;\">\n",
       "      <th></th>\n",
       "      <th>Unnamed: 0</th>\n",
       "      <th>id</th>\n",
       "      <th>name</th>\n",
       "      <th>summary</th>\n",
       "      <th>description</th>\n",
       "      <th>host_name</th>\n",
       "      <th>host_is_superhost</th>\n",
       "      <th>street</th>\n",
       "      <th>neighbourhood</th>\n",
       "      <th>state</th>\n",
       "      <th>...</th>\n",
       "      <th>bed_type</th>\n",
       "      <th>amenities</th>\n",
       "      <th>price</th>\n",
       "      <th>guests_included</th>\n",
       "      <th>extra_people</th>\n",
       "      <th>minimum_nights</th>\n",
       "      <th>maximum_nights</th>\n",
       "      <th>number_of_reviews</th>\n",
       "      <th>review_scores_rating</th>\n",
       "      <th>cancellation_policy</th>\n",
       "    </tr>\n",
       "  </thead>\n",
       "  <tbody>\n",
       "    <tr>\n",
       "      <th>1</th>\n",
       "      <td>1</td>\n",
       "      <td>3075044</td>\n",
       "      <td>Charming room in pet friendly apt</td>\n",
       "      <td>Charming and quiet room in a second floor 1910...</td>\n",
       "      <td>Charming and quiet room in a second floor 1910...</td>\n",
       "      <td>Andrea</td>\n",
       "      <td>f</td>\n",
       "      <td>Pinehurst Street, Boston, MA 02131, United States</td>\n",
       "      <td>Roslindale</td>\n",
       "      <td>MA</td>\n",
       "      <td>...</td>\n",
       "      <td>Real Bed</td>\n",
       "      <td>{TV,Internet,\"Wireless Internet\",\"Air Conditio...</td>\n",
       "      <td>65.0</td>\n",
       "      <td>0</td>\n",
       "      <td>$0.00</td>\n",
       "      <td>2</td>\n",
       "      <td>15</td>\n",
       "      <td>36</td>\n",
       "      <td>94.0</td>\n",
       "      <td>moderate</td>\n",
       "    </tr>\n",
       "    <tr>\n",
       "      <th>2</th>\n",
       "      <td>2</td>\n",
       "      <td>6976</td>\n",
       "      <td>Mexican Folk Art Haven in Boston</td>\n",
       "      <td>Come stay with a friendly, middle-aged guy in ...</td>\n",
       "      <td>Come stay with a friendly, middle-aged guy in ...</td>\n",
       "      <td>Phil</td>\n",
       "      <td>t</td>\n",
       "      <td>Ardale St., Boston, MA 02131, United States</td>\n",
       "      <td>Roslindale</td>\n",
       "      <td>MA</td>\n",
       "      <td>...</td>\n",
       "      <td>Real Bed</td>\n",
       "      <td>{TV,\"Cable TV\",\"Wireless Internet\",\"Air Condit...</td>\n",
       "      <td>65.0</td>\n",
       "      <td>1</td>\n",
       "      <td>$20.00</td>\n",
       "      <td>3</td>\n",
       "      <td>45</td>\n",
       "      <td>41</td>\n",
       "      <td>98.0</td>\n",
       "      <td>moderate</td>\n",
       "    </tr>\n",
       "    <tr>\n",
       "      <th>3</th>\n",
       "      <td>3</td>\n",
       "      <td>1436513</td>\n",
       "      <td>Spacious Sunny Bedroom Suite in Historic Home</td>\n",
       "      <td>Come experience the comforts of home away from...</td>\n",
       "      <td>Come experience the comforts of home away from...</td>\n",
       "      <td>Meghna</td>\n",
       "      <td>f</td>\n",
       "      <td>Boston, MA, United States</td>\n",
       "      <td>02131</td>\n",
       "      <td>MA</td>\n",
       "      <td>...</td>\n",
       "      <td>Real Bed</td>\n",
       "      <td>{TV,Internet,\"Wireless Internet\",\"Air Conditio...</td>\n",
       "      <td>75.0</td>\n",
       "      <td>2</td>\n",
       "      <td>$25.00</td>\n",
       "      <td>1</td>\n",
       "      <td>1125</td>\n",
       "      <td>1</td>\n",
       "      <td>100.0</td>\n",
       "      <td>moderate</td>\n",
       "    </tr>\n",
       "    <tr>\n",
       "      <th>4</th>\n",
       "      <td>4</td>\n",
       "      <td>7651065</td>\n",
       "      <td>Come Home to Boston</td>\n",
       "      <td>My comfy, clean and relaxing home is one block...</td>\n",
       "      <td>My comfy, clean and relaxing home is one block...</td>\n",
       "      <td>Linda</td>\n",
       "      <td>t</td>\n",
       "      <td>Durnell Avenue, Boston, MA 02131, United States</td>\n",
       "      <td>Roslindale</td>\n",
       "      <td>MA</td>\n",
       "      <td>...</td>\n",
       "      <td>Real Bed</td>\n",
       "      <td>{Internet,\"Wireless Internet\",\"Air Conditionin...</td>\n",
       "      <td>79.0</td>\n",
       "      <td>1</td>\n",
       "      <td>$0.00</td>\n",
       "      <td>2</td>\n",
       "      <td>31</td>\n",
       "      <td>29</td>\n",
       "      <td>99.0</td>\n",
       "      <td>flexible</td>\n",
       "    </tr>\n",
       "    <tr>\n",
       "      <th>5</th>\n",
       "      <td>5</td>\n",
       "      <td>12386020</td>\n",
       "      <td>Private Bedroom + Great Coffee</td>\n",
       "      <td>Super comfy bedroom plus your own bathroom in ...</td>\n",
       "      <td>Super comfy bedroom plus your own bathroom in ...</td>\n",
       "      <td>Deborah</td>\n",
       "      <td>t</td>\n",
       "      <td>Walter Street, Boston, MA 02131, United States</td>\n",
       "      <td>Roslindale</td>\n",
       "      <td>MA</td>\n",
       "      <td>...</td>\n",
       "      <td>Real Bed</td>\n",
       "      <td>{\"Cable TV\",\"Wireless Internet\",\"Air Condition...</td>\n",
       "      <td>75.0</td>\n",
       "      <td>1</td>\n",
       "      <td>$0.00</td>\n",
       "      <td>2</td>\n",
       "      <td>1125</td>\n",
       "      <td>8</td>\n",
       "      <td>100.0</td>\n",
       "      <td>flexible</td>\n",
       "    </tr>\n",
       "  </tbody>\n",
       "</table>\n",
       "<p>5 rows × 32 columns</p>\n",
       "</div>"
      ],
      "text/plain": [
       "   Unnamed: 0        id                                           name  \\\n",
       "1           1   3075044              Charming room in pet friendly apt   \n",
       "2           2      6976               Mexican Folk Art Haven in Boston   \n",
       "3           3   1436513  Spacious Sunny Bedroom Suite in Historic Home   \n",
       "4           4   7651065                            Come Home to Boston   \n",
       "5           5  12386020                 Private Bedroom + Great Coffee   \n",
       "\n",
       "                                             summary  \\\n",
       "1  Charming and quiet room in a second floor 1910...   \n",
       "2  Come stay with a friendly, middle-aged guy in ...   \n",
       "3  Come experience the comforts of home away from...   \n",
       "4  My comfy, clean and relaxing home is one block...   \n",
       "5  Super comfy bedroom plus your own bathroom in ...   \n",
       "\n",
       "                                         description host_name  \\\n",
       "1  Charming and quiet room in a second floor 1910...    Andrea   \n",
       "2  Come stay with a friendly, middle-aged guy in ...      Phil   \n",
       "3  Come experience the comforts of home away from...    Meghna   \n",
       "4  My comfy, clean and relaxing home is one block...     Linda   \n",
       "5  Super comfy bedroom plus your own bathroom in ...   Deborah   \n",
       "\n",
       "  host_is_superhost                                             street  \\\n",
       "1                 f  Pinehurst Street, Boston, MA 02131, United States   \n",
       "2                 t        Ardale St., Boston, MA 02131, United States   \n",
       "3                 f                          Boston, MA, United States   \n",
       "4                 t    Durnell Avenue, Boston, MA 02131, United States   \n",
       "5                 t     Walter Street, Boston, MA 02131, United States   \n",
       "\n",
       "  neighbourhood state  ...  bed_type  \\\n",
       "1    Roslindale    MA  ...  Real Bed   \n",
       "2    Roslindale    MA  ...  Real Bed   \n",
       "3         02131    MA  ...  Real Bed   \n",
       "4    Roslindale    MA  ...  Real Bed   \n",
       "5    Roslindale    MA  ...  Real Bed   \n",
       "\n",
       "                                           amenities price guests_included  \\\n",
       "1  {TV,Internet,\"Wireless Internet\",\"Air Conditio...  65.0               0   \n",
       "2  {TV,\"Cable TV\",\"Wireless Internet\",\"Air Condit...  65.0               1   \n",
       "3  {TV,Internet,\"Wireless Internet\",\"Air Conditio...  75.0               2   \n",
       "4  {Internet,\"Wireless Internet\",\"Air Conditionin...  79.0               1   \n",
       "5  {\"Cable TV\",\"Wireless Internet\",\"Air Condition...  75.0               1   \n",
       "\n",
       "   extra_people  minimum_nights maximum_nights number_of_reviews  \\\n",
       "1         $0.00               2             15                36   \n",
       "2        $20.00               3             45                41   \n",
       "3        $25.00               1           1125                 1   \n",
       "4         $0.00               2             31                29   \n",
       "5         $0.00               2           1125                 8   \n",
       "\n",
       "   review_scores_rating  cancellation_policy  \n",
       "1                  94.0             moderate  \n",
       "2                  98.0             moderate  \n",
       "3                 100.0             moderate  \n",
       "4                  99.0             flexible  \n",
       "5                 100.0             flexible  \n",
       "\n",
       "[5 rows x 32 columns]"
      ]
     },
     "execution_count": 54,
     "metadata": {},
     "output_type": "execute_result"
    }
   ],
   "source": [
    "airbnb.head()"
   ]
  },
  {
   "cell_type": "code",
   "execution_count": null,
   "id": "5c912cb8-e3cb-432f-9d06-d4147aa45b29",
   "metadata": {},
   "outputs": [],
   "source": [
    "#airbnb.corr()"
   ]
  },
  {
   "cell_type": "code",
   "execution_count": 58,
   "id": "4a25d576-0611-4de3-a2f4-8275db4beb08",
   "metadata": {},
   "outputs": [
    {
     "name": "stdout",
     "output_type": "stream",
     "text": [
      "                      Unnamed: 0        id  latitude  longitude  accommodates  \\\n",
      "Unnamed: 0              1.000000  0.139082  0.102916  -0.029335     -0.047519   \n",
      "id                      0.139082  1.000000  0.090461  -0.010524     -0.050705   \n",
      "latitude                0.102916  0.090461  1.000000   0.318673      0.054216   \n",
      "longitude              -0.029335 -0.010524  0.318673   1.000000      0.083919   \n",
      "accommodates           -0.047519 -0.050705  0.054216   0.083919      1.000000   \n",
      "bathrooms               0.058098 -0.012698 -0.019794   0.010127      0.347133   \n",
      "bedrooms               -0.022420 -0.062773 -0.044127   0.016658      0.721859   \n",
      "beds                   -0.030827 -0.044463 -0.011808   0.034678      0.814697   \n",
      "price                  -0.046089 -0.059323  0.196766   0.165900      0.437713   \n",
      "guests_included        -0.070183 -0.075790 -0.019872   0.016090      0.495420   \n",
      "minimum_nights         -0.025755 -0.049293  0.020064  -0.019355     -0.038218   \n",
      "maximum_nights         -0.017683 -0.019679  0.017593   0.015471     -0.009752   \n",
      "number_of_reviews      -0.074084 -0.437924 -0.039572   0.075633     -0.001730   \n",
      "review_scores_rating   -0.063777  0.028708 -0.012792   0.015390      0.032909   \n",
      "\n",
      "                      bathrooms  bedrooms      beds     price  \\\n",
      "Unnamed: 0             0.058098 -0.022420 -0.030827 -0.046089   \n",
      "id                    -0.012698 -0.062773 -0.044463 -0.059323   \n",
      "latitude              -0.019794 -0.044127 -0.011808  0.196766   \n",
      "longitude              0.010127  0.016658  0.034678  0.165900   \n",
      "accommodates           0.347133  0.721859  0.814697  0.437713   \n",
      "bathrooms              1.000000  0.428970  0.347679  0.248494   \n",
      "bedrooms               0.428970  1.000000  0.707223  0.385415   \n",
      "beds                   0.347679  0.707223  1.000000  0.369446   \n",
      "price                  0.248494  0.385415  0.369446  1.000000   \n",
      "guests_included        0.111480  0.395456  0.477329  0.211877   \n",
      "minimum_nights         0.021588 -0.005160 -0.020487  0.020074   \n",
      "maximum_nights        -0.007355 -0.005710 -0.010051 -0.005495   \n",
      "number_of_reviews     -0.027112 -0.042435 -0.008252 -0.096358   \n",
      "review_scores_rating   0.003224  0.048661  0.029804  0.071130   \n",
      "\n",
      "                      guests_included  minimum_nights  maximum_nights  \\\n",
      "Unnamed: 0                  -0.070183       -0.025755       -0.017683   \n",
      "id                          -0.075790       -0.049293       -0.019679   \n",
      "latitude                    -0.019872        0.020064        0.017593   \n",
      "longitude                    0.016090       -0.019355        0.015471   \n",
      "accommodates                 0.495420       -0.038218       -0.009752   \n",
      "bathrooms                    0.111480        0.021588       -0.007355   \n",
      "bedrooms                     0.395456       -0.005160       -0.005710   \n",
      "beds                         0.477329       -0.020487       -0.010051   \n",
      "price                        0.211877        0.020074       -0.005495   \n",
      "guests_included              1.000000       -0.029557       -0.006807   \n",
      "minimum_nights              -0.029557        1.000000       -0.004102   \n",
      "maximum_nights              -0.006807       -0.004102        1.000000   \n",
      "number_of_reviews            0.064549       -0.062488        0.071333   \n",
      "review_scores_rating         0.043263       -0.025444        0.000117   \n",
      "\n",
      "                      number_of_reviews  review_scores_rating  \n",
      "Unnamed: 0                    -0.074084             -0.063777  \n",
      "id                            -0.437924              0.028708  \n",
      "latitude                      -0.039572             -0.012792  \n",
      "longitude                      0.075633              0.015390  \n",
      "accommodates                  -0.001730              0.032909  \n",
      "bathrooms                     -0.027112              0.003224  \n",
      "bedrooms                      -0.042435              0.048661  \n",
      "beds                          -0.008252              0.029804  \n",
      "price                         -0.096358              0.071130  \n",
      "guests_included                0.064549              0.043263  \n",
      "minimum_nights                -0.062488             -0.025444  \n",
      "maximum_nights                 0.071333              0.000117  \n",
      "number_of_reviews              1.000000              0.020607  \n",
      "review_scores_rating           0.020607              1.000000  \n"
     ]
    }
   ],
   "source": [
    "numerical_data = airbnb.select_dtypes(include=['number'])\n",
    "correlation_matrix = numerical_data.corr()\n",
    "print(correlation_matrix)"
   ]
  },
  {
   "cell_type": "code",
   "execution_count": null,
   "id": "66339911-0c9a-4e09-82c3-834381fcab33",
   "metadata": {},
   "outputs": [],
   "source": []
  }
 ],
 "metadata": {
  "kernelspec": {
   "display_name": "Python 3 (ipykernel)",
   "language": "python",
   "name": "python3"
  },
  "language_info": {
   "codemirror_mode": {
    "name": "ipython",
    "version": 3
   },
   "file_extension": ".py",
   "mimetype": "text/x-python",
   "name": "python",
   "nbconvert_exporter": "python",
   "pygments_lexer": "ipython3",
   "version": "3.12.6"
  }
 },
 "nbformat": 4,
 "nbformat_minor": 5
}
