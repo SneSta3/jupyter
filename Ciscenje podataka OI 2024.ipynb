{
 "cells": [
  {
   "cell_type": "markdown",
   "id": "9bf2f409-82c3-4362-afeb-bf4a9686ed9c",
   "metadata": {},
   "source": [
    "## Scraping"
   ]
  },
  {
   "cell_type": "markdown",
   "id": "933184f1-b4fb-4e65-b72b-a6d1b04b3bfb",
   "metadata": {},
   "source": [
    "Scraping / skrepovanje podataka sa weba\n"
   ]
  },
  {
   "cell_type": "code",
   "execution_count": 1,
   "id": "f344beff-bbbc-4c5e-8e58-d8007ef82da9",
   "metadata": {},
   "outputs": [],
   "source": [
    "import pandas as pd\n",
    "from bs4 import BeautifulSoup\n",
    "from requests import get"
   ]
  },
  {
   "cell_type": "code",
   "execution_count": 2,
   "id": "ca06f093-6b2f-49f3-b1f2-a47b11c45da5",
   "metadata": {},
   "outputs": [],
   "source": [
    "url = 'https://www.worldometers.info/gdp/gdp-by-country/'\n",
    "request = get(url)"
   ]
  },
  {
   "cell_type": "code",
   "execution_count": 3,
   "id": "ffc890fb-f64f-463c-af7c-8c2bfc800b56",
   "metadata": {},
   "outputs": [],
   "source": [
    "#request.text"
   ]
  },
  {
   "cell_type": "markdown",
   "id": "b3e29514-ebb4-4c22-8cb2-7a7305aa9b3d",
   "metadata": {},
   "source": [
    "## Parser / Analiza i obrada HTML podataka"
   ]
  },
  {
   "cell_type": "code",
   "execution_count": 4,
   "id": "1ac48db7-12aa-4c10-84c8-7247a5450f47",
   "metadata": {},
   "outputs": [],
   "source": [
    "soup_data = BeautifulSoup (request.text, 'html.parser')"
   ]
  },
  {
   "cell_type": "code",
   "execution_count": 5,
   "id": "7143a77a-21d4-41e9-a9c2-68b06f8e3880",
   "metadata": {},
   "outputs": [],
   "source": [
    "#for td in soup_data.find_all(\"td\"):\n",
    "    #print(td)\n",
    "    #print(td.text)"
   ]
  },
  {
   "cell_type": "code",
   "execution_count": 6,
   "id": "9a0b5757-a669-4e1b-8b14-652929500872",
   "metadata": {},
   "outputs": [],
   "source": [
    "soup_data = BeautifulSoup (request.text, 'html.parser')\n",
    "country = []\n",
    "gdp = []\n",
    "population = []\n",
    "gdp_per_capita = []\n",
    "i = 1\n",
    "for td in soup_data.find_all(\"td\"):\n",
    "    if i%8 == 2:\n",
    "        country.append(td.text)\n",
    "    if i%8 == 3:\n",
    "        gdp.append(td.text)\n",
    "    if i%8 == 6:\n",
    "        population.append(td.text)\n",
    "    if i%8 == 7:\n",
    "        gdp_per_capita.append(td.text)    \n",
    "    i+= 1    \n",
    "#country    \n",
    "#gdp_per_capita    \n",
    "#population"
   ]
  },
  {
   "cell_type": "markdown",
   "id": "e8cb359b-b3b7-404c-ab44-bb5ece6fbfd8",
   "metadata": {},
   "source": [
    "## Data frame"
   ]
  },
  {
   "cell_type": "code",
   "execution_count": 7,
   "id": "318b960f-937e-4902-874f-f0fca3e4398a",
   "metadata": {},
   "outputs": [],
   "source": [
    "country_table = pd.DataFrame( data = {'country': country, 'gdp': gdp, 'population': population, 'gdp_per_capita': gdp_per_capita})"
   ]
  },
  {
   "cell_type": "code",
   "execution_count": 8,
   "id": "7d216e69-0651-4544-a66e-0726bb21a4f0",
   "metadata": {},
   "outputs": [
    {
     "data": {
      "text/html": [
       "<div>\n",
       "<style scoped>\n",
       "    .dataframe tbody tr th:only-of-type {\n",
       "        vertical-align: middle;\n",
       "    }\n",
       "\n",
       "    .dataframe tbody tr th {\n",
       "        vertical-align: top;\n",
       "    }\n",
       "\n",
       "    .dataframe thead th {\n",
       "        text-align: right;\n",
       "    }\n",
       "</style>\n",
       "<table border=\"1\" class=\"dataframe\">\n",
       "  <thead>\n",
       "    <tr style=\"text-align: right;\">\n",
       "      <th></th>\n",
       "      <th>country</th>\n",
       "      <th>gdp</th>\n",
       "      <th>population</th>\n",
       "      <th>gdp_per_capita</th>\n",
       "    </tr>\n",
       "  </thead>\n",
       "  <tbody>\n",
       "    <tr>\n",
       "      <th>0</th>\n",
       "      <td>United States</td>\n",
       "      <td>$25,462,700,000,000</td>\n",
       "      <td>341,534,046</td>\n",
       "      <td>$74,554</td>\n",
       "    </tr>\n",
       "    <tr>\n",
       "      <th>1</th>\n",
       "      <td>China</td>\n",
       "      <td>$17,963,200,000,000</td>\n",
       "      <td>1,425,179,569</td>\n",
       "      <td>$12,604</td>\n",
       "    </tr>\n",
       "    <tr>\n",
       "      <th>2</th>\n",
       "      <td>Japan</td>\n",
       "      <td>$4,231,140,000,000</td>\n",
       "      <td>124,997,578</td>\n",
       "      <td>$33,850</td>\n",
       "    </tr>\n",
       "    <tr>\n",
       "      <th>3</th>\n",
       "      <td>Germany</td>\n",
       "      <td>$4,072,190,000,000</td>\n",
       "      <td>84,086,227</td>\n",
       "      <td>$48,429</td>\n",
       "    </tr>\n",
       "    <tr>\n",
       "      <th>4</th>\n",
       "      <td>India</td>\n",
       "      <td>$3,385,090,000,000</td>\n",
       "      <td>1,425,423,212</td>\n",
       "      <td>$2,375</td>\n",
       "    </tr>\n",
       "  </tbody>\n",
       "</table>\n",
       "</div>"
      ],
      "text/plain": [
       "         country                  gdp     population gdp_per_capita\n",
       "0  United States  $25,462,700,000,000    341,534,046        $74,554\n",
       "1          China  $17,963,200,000,000  1,425,179,569        $12,604\n",
       "2          Japan   $4,231,140,000,000    124,997,578        $33,850\n",
       "3        Germany   $4,072,190,000,000     84,086,227        $48,429\n",
       "4          India   $3,385,090,000,000  1,425,423,212         $2,375"
      ]
     },
     "execution_count": 8,
     "metadata": {},
     "output_type": "execute_result"
    }
   ],
   "source": [
    "country_table.head()"
   ]
  },
  {
   "cell_type": "code",
   "execution_count": 9,
   "id": "c88964d0-cd9f-4d53-8ba1-478364ae425e",
   "metadata": {},
   "outputs": [
    {
     "data": {
      "text/plain": [
       "(177, 4)"
      ]
     },
     "execution_count": 9,
     "metadata": {},
     "output_type": "execute_result"
    }
   ],
   "source": [
    "country_table.shape"
   ]
  },
  {
   "cell_type": "markdown",
   "id": "44eb4837-4394-413f-badc-dc4938a13ef9",
   "metadata": {},
   "source": [
    "## Spajanje tabela"
   ]
  },
  {
   "cell_type": "code",
   "execution_count": 10,
   "id": "8e703fbc-1b42-407a-9903-160716744935",
   "metadata": {},
   "outputs": [
    {
     "data": {
      "text/html": [
       "<div>\n",
       "<style scoped>\n",
       "    .dataframe tbody tr th:only-of-type {\n",
       "        vertical-align: middle;\n",
       "    }\n",
       "\n",
       "    .dataframe tbody tr th {\n",
       "        vertical-align: top;\n",
       "    }\n",
       "\n",
       "    .dataframe thead th {\n",
       "        text-align: right;\n",
       "    }\n",
       "</style>\n",
       "<table border=\"1\" class=\"dataframe\">\n",
       "  <thead>\n",
       "    <tr style=\"text-align: right;\">\n",
       "      <th></th>\n",
       "      <th>medal_type</th>\n",
       "      <th>medal_code</th>\n",
       "      <th>medal_date</th>\n",
       "      <th>name</th>\n",
       "      <th>gender</th>\n",
       "      <th>discipline</th>\n",
       "      <th>event</th>\n",
       "      <th>event_type</th>\n",
       "      <th>url_event</th>\n",
       "      <th>code</th>\n",
       "      <th>country_code</th>\n",
       "      <th>country</th>\n",
       "      <th>country_long</th>\n",
       "    </tr>\n",
       "  </thead>\n",
       "  <tbody>\n",
       "    <tr>\n",
       "      <th>0</th>\n",
       "      <td>Gold Medal</td>\n",
       "      <td>1.0</td>\n",
       "      <td>2024-07-27</td>\n",
       "      <td>Remco EVENEPOEL</td>\n",
       "      <td>M</td>\n",
       "      <td>Cycling Road</td>\n",
       "      <td>Men's Individual Time Trial</td>\n",
       "      <td>ATH</td>\n",
       "      <td>/en/paris-2024/results/cycling-road/men-s-indi...</td>\n",
       "      <td>1903136</td>\n",
       "      <td>BEL</td>\n",
       "      <td>Belgium</td>\n",
       "      <td>Belgium</td>\n",
       "    </tr>\n",
       "    <tr>\n",
       "      <th>1</th>\n",
       "      <td>Silver Medal</td>\n",
       "      <td>2.0</td>\n",
       "      <td>2024-07-27</td>\n",
       "      <td>Filippo GANNA</td>\n",
       "      <td>M</td>\n",
       "      <td>Cycling Road</td>\n",
       "      <td>Men's Individual Time Trial</td>\n",
       "      <td>ATH</td>\n",
       "      <td>/en/paris-2024/results/cycling-road/men-s-indi...</td>\n",
       "      <td>1923520</td>\n",
       "      <td>ITA</td>\n",
       "      <td>Italy</td>\n",
       "      <td>Italy</td>\n",
       "    </tr>\n",
       "    <tr>\n",
       "      <th>2</th>\n",
       "      <td>Bronze Medal</td>\n",
       "      <td>3.0</td>\n",
       "      <td>2024-07-27</td>\n",
       "      <td>Wout van AERT</td>\n",
       "      <td>M</td>\n",
       "      <td>Cycling Road</td>\n",
       "      <td>Men's Individual Time Trial</td>\n",
       "      <td>ATH</td>\n",
       "      <td>/en/paris-2024/results/cycling-road/men-s-indi...</td>\n",
       "      <td>1903147</td>\n",
       "      <td>BEL</td>\n",
       "      <td>Belgium</td>\n",
       "      <td>Belgium</td>\n",
       "    </tr>\n",
       "    <tr>\n",
       "      <th>3</th>\n",
       "      <td>Gold Medal</td>\n",
       "      <td>1.0</td>\n",
       "      <td>2024-07-27</td>\n",
       "      <td>Grace BROWN</td>\n",
       "      <td>W</td>\n",
       "      <td>Cycling Road</td>\n",
       "      <td>Women's Individual Time Trial</td>\n",
       "      <td>ATH</td>\n",
       "      <td>/en/paris-2024/results/cycling-road/women-s-in...</td>\n",
       "      <td>1940173</td>\n",
       "      <td>AUS</td>\n",
       "      <td>Australia</td>\n",
       "      <td>Australia</td>\n",
       "    </tr>\n",
       "    <tr>\n",
       "      <th>4</th>\n",
       "      <td>Silver Medal</td>\n",
       "      <td>2.0</td>\n",
       "      <td>2024-07-27</td>\n",
       "      <td>Anna HENDERSON</td>\n",
       "      <td>W</td>\n",
       "      <td>Cycling Road</td>\n",
       "      <td>Women's Individual Time Trial</td>\n",
       "      <td>ATH</td>\n",
       "      <td>/en/paris-2024/results/cycling-road/women-s-in...</td>\n",
       "      <td>1912525</td>\n",
       "      <td>GBR</td>\n",
       "      <td>Great Britain</td>\n",
       "      <td>Great Britain</td>\n",
       "    </tr>\n",
       "  </tbody>\n",
       "</table>\n",
       "</div>"
      ],
      "text/plain": [
       "     medal_type  medal_code  medal_date             name gender    discipline  \\\n",
       "0    Gold Medal         1.0  2024-07-27  Remco EVENEPOEL      M  Cycling Road   \n",
       "1  Silver Medal         2.0  2024-07-27    Filippo GANNA      M  Cycling Road   \n",
       "2  Bronze Medal         3.0  2024-07-27    Wout van AERT      M  Cycling Road   \n",
       "3    Gold Medal         1.0  2024-07-27      Grace BROWN      W  Cycling Road   \n",
       "4  Silver Medal         2.0  2024-07-27   Anna HENDERSON      W  Cycling Road   \n",
       "\n",
       "                           event event_type  \\\n",
       "0    Men's Individual Time Trial        ATH   \n",
       "1    Men's Individual Time Trial        ATH   \n",
       "2    Men's Individual Time Trial        ATH   \n",
       "3  Women's Individual Time Trial        ATH   \n",
       "4  Women's Individual Time Trial        ATH   \n",
       "\n",
       "                                           url_event     code country_code  \\\n",
       "0  /en/paris-2024/results/cycling-road/men-s-indi...  1903136          BEL   \n",
       "1  /en/paris-2024/results/cycling-road/men-s-indi...  1923520          ITA   \n",
       "2  /en/paris-2024/results/cycling-road/men-s-indi...  1903147          BEL   \n",
       "3  /en/paris-2024/results/cycling-road/women-s-in...  1940173          AUS   \n",
       "4  /en/paris-2024/results/cycling-road/women-s-in...  1912525          GBR   \n",
       "\n",
       "         country   country_long  \n",
       "0        Belgium        Belgium  \n",
       "1          Italy          Italy  \n",
       "2        Belgium        Belgium  \n",
       "3      Australia      Australia  \n",
       "4  Great Britain  Great Britain  "
      ]
     },
     "execution_count": 10,
     "metadata": {},
     "output_type": "execute_result"
    }
   ],
   "source": [
    "medals = pd.read_csv ('medals.csv')\n",
    "medals.head()"
   ]
  },
  {
   "cell_type": "code",
   "execution_count": 11,
   "id": "3cc49933-0180-4df4-8efd-0dabb964b571",
   "metadata": {},
   "outputs": [
    {
     "data": {
      "text/plain": [
       "Index(['medal_type', 'medal_code', 'medal_date', 'name', 'gender',\n",
       "       'discipline', 'event', 'event_type', 'url_event', 'code',\n",
       "       'country_code', 'country', 'country_long'],\n",
       "      dtype='object')"
      ]
     },
     "execution_count": 11,
     "metadata": {},
     "output_type": "execute_result"
    }
   ],
   "source": [
    "medals.columns"
   ]
  },
  {
   "cell_type": "markdown",
   "id": "2b74b89d-f723-4fd6-a893-50228bd668bb",
   "metadata": {},
   "source": [
    "## Duplikati i nedostajuci podaci"
   ]
  },
  {
   "cell_type": "code",
   "execution_count": 12,
   "id": "113822a3-bfc5-4d9f-85bf-e1c29f460a54",
   "metadata": {},
   "outputs": [
    {
     "data": {
      "text/plain": [
       "medal_type      0\n",
       "medal_code      1\n",
       "medal_date      0\n",
       "name            0\n",
       "gender          0\n",
       "discipline      0\n",
       "event           0\n",
       "event_type      0\n",
       "url_event       9\n",
       "code            0\n",
       "country_code    0\n",
       "country         0\n",
       "country_long    0\n",
       "dtype: int64"
      ]
     },
     "execution_count": 12,
     "metadata": {},
     "output_type": "execute_result"
    }
   ],
   "source": [
    "medals.isna().sum()"
   ]
  },
  {
   "cell_type": "code",
   "execution_count": 13,
   "id": "537f8523-96ec-4a7c-9212-f07b38a1cf89",
   "metadata": {},
   "outputs": [
    {
     "data": {
      "text/html": [
       "<div>\n",
       "<style scoped>\n",
       "    .dataframe tbody tr th:only-of-type {\n",
       "        vertical-align: middle;\n",
       "    }\n",
       "\n",
       "    .dataframe tbody tr th {\n",
       "        vertical-align: top;\n",
       "    }\n",
       "\n",
       "    .dataframe thead th {\n",
       "        text-align: right;\n",
       "    }\n",
       "</style>\n",
       "<table border=\"1\" class=\"dataframe\">\n",
       "  <thead>\n",
       "    <tr style=\"text-align: right;\">\n",
       "      <th></th>\n",
       "      <th>medal_type</th>\n",
       "      <th>medal_code</th>\n",
       "      <th>medal_date</th>\n",
       "      <th>name</th>\n",
       "      <th>gender</th>\n",
       "      <th>discipline</th>\n",
       "      <th>event</th>\n",
       "      <th>event_type</th>\n",
       "      <th>url_event</th>\n",
       "      <th>code</th>\n",
       "      <th>country_code</th>\n",
       "      <th>country</th>\n",
       "      <th>country_long</th>\n",
       "    </tr>\n",
       "  </thead>\n",
       "  <tbody>\n",
       "    <tr>\n",
       "      <th>469</th>\n",
       "      <td>Bronze Medal</td>\n",
       "      <td>NaN</td>\n",
       "      <td>2024-08-04</td>\n",
       "      <td>Gregoria Mariska TUNJUNG</td>\n",
       "      <td>W</td>\n",
       "      <td>Badminton</td>\n",
       "      <td>Women's Singles</td>\n",
       "      <td>HATH</td>\n",
       "      <td>/en/paris-2024/results/badminton/women-s-singl...</td>\n",
       "      <td>1926315</td>\n",
       "      <td>INA</td>\n",
       "      <td>Indonesia</td>\n",
       "      <td>Indonesia</td>\n",
       "    </tr>\n",
       "  </tbody>\n",
       "</table>\n",
       "</div>"
      ],
      "text/plain": [
       "       medal_type  medal_code  medal_date                      name gender  \\\n",
       "469  Bronze Medal         NaN  2024-08-04  Gregoria Mariska TUNJUNG      W   \n",
       "\n",
       "    discipline            event event_type  \\\n",
       "469  Badminton  Women's Singles       HATH   \n",
       "\n",
       "                                             url_event     code country_code  \\\n",
       "469  /en/paris-2024/results/badminton/women-s-singl...  1926315          INA   \n",
       "\n",
       "       country country_long  \n",
       "469  Indonesia    Indonesia  "
      ]
     },
     "execution_count": 13,
     "metadata": {},
     "output_type": "execute_result"
    }
   ],
   "source": [
    "medals[medals['medal_code'].isnull()]"
   ]
  },
  {
   "cell_type": "code",
   "execution_count": 14,
   "id": "1ec0a3fa-7956-4be7-a98d-cce65e31a048",
   "metadata": {},
   "outputs": [],
   "source": [
    "medals['medal_code'] = medals['medal_code'].fillna(3)"
   ]
  },
  {
   "cell_type": "code",
   "execution_count": 15,
   "id": "3494f084-054a-483e-b76c-5a1fe80b9972",
   "metadata": {},
   "outputs": [
    {
     "data": {
      "text/plain": [
       "medal_type      0\n",
       "medal_code      0\n",
       "medal_date      0\n",
       "name            0\n",
       "gender          0\n",
       "discipline      0\n",
       "event           0\n",
       "event_type      0\n",
       "url_event       9\n",
       "code            0\n",
       "country_code    0\n",
       "country         0\n",
       "country_long    0\n",
       "dtype: int64"
      ]
     },
     "execution_count": 15,
     "metadata": {},
     "output_type": "execute_result"
    }
   ],
   "source": [
    "medals.isna().sum()"
   ]
  },
  {
   "cell_type": "code",
   "execution_count": 16,
   "id": "b2437d1c-530f-424e-b5d6-28da515aa338",
   "metadata": {},
   "outputs": [
    {
     "data": {
      "text/html": [
       "<div>\n",
       "<style scoped>\n",
       "    .dataframe tbody tr th:only-of-type {\n",
       "        vertical-align: middle;\n",
       "    }\n",
       "\n",
       "    .dataframe tbody tr th {\n",
       "        vertical-align: top;\n",
       "    }\n",
       "\n",
       "    .dataframe thead th {\n",
       "        text-align: right;\n",
       "    }\n",
       "</style>\n",
       "<table border=\"1\" class=\"dataframe\">\n",
       "  <thead>\n",
       "    <tr style=\"text-align: right;\">\n",
       "      <th></th>\n",
       "      <th>medal_type</th>\n",
       "      <th>medal_code</th>\n",
       "      <th>medal_date</th>\n",
       "      <th>name</th>\n",
       "      <th>gender</th>\n",
       "      <th>discipline</th>\n",
       "      <th>event</th>\n",
       "      <th>event_type</th>\n",
       "      <th>url_event</th>\n",
       "      <th>code</th>\n",
       "      <th>country_code</th>\n",
       "      <th>country</th>\n",
       "      <th>country_long</th>\n",
       "    </tr>\n",
       "  </thead>\n",
       "  <tbody>\n",
       "  </tbody>\n",
       "</table>\n",
       "</div>"
      ],
      "text/plain": [
       "Empty DataFrame\n",
       "Columns: [medal_type, medal_code, medal_date, name, gender, discipline, event, event_type, url_event, code, country_code, country, country_long]\n",
       "Index: []"
      ]
     },
     "execution_count": 16,
     "metadata": {},
     "output_type": "execute_result"
    }
   ],
   "source": [
    "medals[medals.duplicated(keep = False)]"
   ]
  },
  {
   "cell_type": "markdown",
   "id": "5f409b2d-4d62-4336-9eab-b187d4f11496",
   "metadata": {},
   "source": [
    "## Priblizne vrednosti"
   ]
  },
  {
   "cell_type": "code",
   "execution_count": 17,
   "id": "9c321f9c-3040-424a-8698-44aa876b128e",
   "metadata": {},
   "outputs": [
    {
     "data": {
      "text/plain": [
       "medal_type\n",
       "Bronze Medal    385\n",
       "Silver Medal    330\n",
       "Gold Medal      329\n",
       "Name: count, dtype: int64"
      ]
     },
     "execution_count": 17,
     "metadata": {},
     "output_type": "execute_result"
    }
   ],
   "source": [
    "medals['medal_type'].value_counts()"
   ]
  },
  {
   "cell_type": "markdown",
   "id": "0945fc38-6ff9-4cf2-9dff-a89958e3044a",
   "metadata": {},
   "source": [
    "## Grupisanje podataka"
   ]
  },
  {
   "cell_type": "code",
   "execution_count": 18,
   "id": "e2a15dfd-ba44-4c7b-974c-a829ab4f99d5",
   "metadata": {},
   "outputs": [],
   "source": [
    "groups = medals.groupby(['discipline', 'event', 'medal_type']).size().reset_index(name = 'group_size')"
   ]
  },
  {
   "cell_type": "code",
   "execution_count": 19,
   "id": "1535ad78-f352-4eab-a4e2-51dd75088baa",
   "metadata": {},
   "outputs": [
    {
     "data": {
      "text/html": [
       "<div>\n",
       "<style scoped>\n",
       "    .dataframe tbody tr th:only-of-type {\n",
       "        vertical-align: middle;\n",
       "    }\n",
       "\n",
       "    .dataframe tbody tr th {\n",
       "        vertical-align: top;\n",
       "    }\n",
       "\n",
       "    .dataframe thead th {\n",
       "        text-align: right;\n",
       "    }\n",
       "</style>\n",
       "<table border=\"1\" class=\"dataframe\">\n",
       "  <thead>\n",
       "    <tr style=\"text-align: right;\">\n",
       "      <th></th>\n",
       "      <th>discipline</th>\n",
       "      <th>event</th>\n",
       "      <th>medal_type</th>\n",
       "      <th>group_size</th>\n",
       "    </tr>\n",
       "  </thead>\n",
       "  <tbody>\n",
       "    <tr>\n",
       "      <th>27</th>\n",
       "      <td>Artistic Gymnastics</td>\n",
       "      <td>Men's Horizontal Bar</td>\n",
       "      <td>Bronze Medal</td>\n",
       "      <td>2</td>\n",
       "    </tr>\n",
       "    <tr>\n",
       "      <th>192</th>\n",
       "      <td>Athletics</td>\n",
       "      <td>Women's High Jump</td>\n",
       "      <td>Bronze Medal</td>\n",
       "      <td>2</td>\n",
       "    </tr>\n",
       "    <tr>\n",
       "      <th>240</th>\n",
       "      <td>Boxing</td>\n",
       "      <td>Men's +92kg</td>\n",
       "      <td>Bronze Medal</td>\n",
       "      <td>2</td>\n",
       "    </tr>\n",
       "    <tr>\n",
       "      <th>243</th>\n",
       "      <td>Boxing</td>\n",
       "      <td>Men's 51kg</td>\n",
       "      <td>Bronze Medal</td>\n",
       "      <td>2</td>\n",
       "    </tr>\n",
       "    <tr>\n",
       "      <th>246</th>\n",
       "      <td>Boxing</td>\n",
       "      <td>Men's 57kg</td>\n",
       "      <td>Bronze Medal</td>\n",
       "      <td>2</td>\n",
       "    </tr>\n",
       "    <tr>\n",
       "      <th>249</th>\n",
       "      <td>Boxing</td>\n",
       "      <td>Men's 63.5kg</td>\n",
       "      <td>Bronze Medal</td>\n",
       "      <td>2</td>\n",
       "    </tr>\n",
       "    <tr>\n",
       "      <th>252</th>\n",
       "      <td>Boxing</td>\n",
       "      <td>Men's 71kg</td>\n",
       "      <td>Bronze Medal</td>\n",
       "      <td>2</td>\n",
       "    </tr>\n",
       "    <tr>\n",
       "      <th>255</th>\n",
       "      <td>Boxing</td>\n",
       "      <td>Men's 80kg</td>\n",
       "      <td>Bronze Medal</td>\n",
       "      <td>2</td>\n",
       "    </tr>\n",
       "    <tr>\n",
       "      <th>258</th>\n",
       "      <td>Boxing</td>\n",
       "      <td>Men's 92kg</td>\n",
       "      <td>Bronze Medal</td>\n",
       "      <td>2</td>\n",
       "    </tr>\n",
       "    <tr>\n",
       "      <th>261</th>\n",
       "      <td>Boxing</td>\n",
       "      <td>Women's 50kg</td>\n",
       "      <td>Bronze Medal</td>\n",
       "      <td>2</td>\n",
       "    </tr>\n",
       "    <tr>\n",
       "      <th>264</th>\n",
       "      <td>Boxing</td>\n",
       "      <td>Women's 54kg</td>\n",
       "      <td>Bronze Medal</td>\n",
       "      <td>2</td>\n",
       "    </tr>\n",
       "    <tr>\n",
       "      <th>267</th>\n",
       "      <td>Boxing</td>\n",
       "      <td>Women's 57kg</td>\n",
       "      <td>Bronze Medal</td>\n",
       "      <td>2</td>\n",
       "    </tr>\n",
       "    <tr>\n",
       "      <th>270</th>\n",
       "      <td>Boxing</td>\n",
       "      <td>Women's 60kg</td>\n",
       "      <td>Bronze Medal</td>\n",
       "      <td>2</td>\n",
       "    </tr>\n",
       "    <tr>\n",
       "      <th>273</th>\n",
       "      <td>Boxing</td>\n",
       "      <td>Women's 66kg</td>\n",
       "      <td>Bronze Medal</td>\n",
       "      <td>2</td>\n",
       "    </tr>\n",
       "    <tr>\n",
       "      <th>276</th>\n",
       "      <td>Boxing</td>\n",
       "      <td>Women's 75kg</td>\n",
       "      <td>Bronze Medal</td>\n",
       "      <td>2</td>\n",
       "    </tr>\n",
       "    <tr>\n",
       "      <th>324</th>\n",
       "      <td>Canoe Sprint</td>\n",
       "      <td>Women's Kayak Double 500m</td>\n",
       "      <td>Bronze Medal</td>\n",
       "      <td>2</td>\n",
       "    </tr>\n",
       "    <tr>\n",
       "      <th>501</th>\n",
       "      <td>Judo</td>\n",
       "      <td>Men +100 kg</td>\n",
       "      <td>Bronze Medal</td>\n",
       "      <td>2</td>\n",
       "    </tr>\n",
       "    <tr>\n",
       "      <th>504</th>\n",
       "      <td>Judo</td>\n",
       "      <td>Men -100 kg</td>\n",
       "      <td>Bronze Medal</td>\n",
       "      <td>2</td>\n",
       "    </tr>\n",
       "    <tr>\n",
       "      <th>507</th>\n",
       "      <td>Judo</td>\n",
       "      <td>Men -60 kg</td>\n",
       "      <td>Bronze Medal</td>\n",
       "      <td>2</td>\n",
       "    </tr>\n",
       "    <tr>\n",
       "      <th>510</th>\n",
       "      <td>Judo</td>\n",
       "      <td>Men -66 kg</td>\n",
       "      <td>Bronze Medal</td>\n",
       "      <td>2</td>\n",
       "    </tr>\n",
       "    <tr>\n",
       "      <th>513</th>\n",
       "      <td>Judo</td>\n",
       "      <td>Men -73 kg</td>\n",
       "      <td>Bronze Medal</td>\n",
       "      <td>2</td>\n",
       "    </tr>\n",
       "    <tr>\n",
       "      <th>516</th>\n",
       "      <td>Judo</td>\n",
       "      <td>Men -81 kg</td>\n",
       "      <td>Bronze Medal</td>\n",
       "      <td>2</td>\n",
       "    </tr>\n",
       "    <tr>\n",
       "      <th>519</th>\n",
       "      <td>Judo</td>\n",
       "      <td>Men -90 kg</td>\n",
       "      <td>Bronze Medal</td>\n",
       "      <td>2</td>\n",
       "    </tr>\n",
       "    <tr>\n",
       "      <th>522</th>\n",
       "      <td>Judo</td>\n",
       "      <td>Mixed Team</td>\n",
       "      <td>Bronze Medal</td>\n",
       "      <td>2</td>\n",
       "    </tr>\n",
       "    <tr>\n",
       "      <th>525</th>\n",
       "      <td>Judo</td>\n",
       "      <td>Women +78 kg</td>\n",
       "      <td>Bronze Medal</td>\n",
       "      <td>2</td>\n",
       "    </tr>\n",
       "    <tr>\n",
       "      <th>528</th>\n",
       "      <td>Judo</td>\n",
       "      <td>Women -48 kg</td>\n",
       "      <td>Bronze Medal</td>\n",
       "      <td>2</td>\n",
       "    </tr>\n",
       "    <tr>\n",
       "      <th>531</th>\n",
       "      <td>Judo</td>\n",
       "      <td>Women -52 kg</td>\n",
       "      <td>Bronze Medal</td>\n",
       "      <td>2</td>\n",
       "    </tr>\n",
       "    <tr>\n",
       "      <th>534</th>\n",
       "      <td>Judo</td>\n",
       "      <td>Women -57 kg</td>\n",
       "      <td>Bronze Medal</td>\n",
       "      <td>2</td>\n",
       "    </tr>\n",
       "    <tr>\n",
       "      <th>537</th>\n",
       "      <td>Judo</td>\n",
       "      <td>Women -63 kg</td>\n",
       "      <td>Bronze Medal</td>\n",
       "      <td>2</td>\n",
       "    </tr>\n",
       "    <tr>\n",
       "      <th>540</th>\n",
       "      <td>Judo</td>\n",
       "      <td>Women -70 kg</td>\n",
       "      <td>Bronze Medal</td>\n",
       "      <td>2</td>\n",
       "    </tr>\n",
       "    <tr>\n",
       "      <th>543</th>\n",
       "      <td>Judo</td>\n",
       "      <td>Women -78 kg</td>\n",
       "      <td>Bronze Medal</td>\n",
       "      <td>2</td>\n",
       "    </tr>\n",
       "    <tr>\n",
       "      <th>721</th>\n",
       "      <td>Swimming</td>\n",
       "      <td>Men's 100m Breaststroke</td>\n",
       "      <td>Silver Medal</td>\n",
       "      <td>2</td>\n",
       "    </tr>\n",
       "    <tr>\n",
       "      <th>836</th>\n",
       "      <td>Taekwondo</td>\n",
       "      <td>Men +80kg</td>\n",
       "      <td>Bronze Medal</td>\n",
       "      <td>2</td>\n",
       "    </tr>\n",
       "    <tr>\n",
       "      <th>839</th>\n",
       "      <td>Taekwondo</td>\n",
       "      <td>Men -58kg</td>\n",
       "      <td>Bronze Medal</td>\n",
       "      <td>2</td>\n",
       "    </tr>\n",
       "    <tr>\n",
       "      <th>842</th>\n",
       "      <td>Taekwondo</td>\n",
       "      <td>Men -68kg</td>\n",
       "      <td>Bronze Medal</td>\n",
       "      <td>2</td>\n",
       "    </tr>\n",
       "    <tr>\n",
       "      <th>845</th>\n",
       "      <td>Taekwondo</td>\n",
       "      <td>Men -80kg</td>\n",
       "      <td>Bronze Medal</td>\n",
       "      <td>2</td>\n",
       "    </tr>\n",
       "    <tr>\n",
       "      <th>848</th>\n",
       "      <td>Taekwondo</td>\n",
       "      <td>Women +67kg</td>\n",
       "      <td>Bronze Medal</td>\n",
       "      <td>2</td>\n",
       "    </tr>\n",
       "    <tr>\n",
       "      <th>851</th>\n",
       "      <td>Taekwondo</td>\n",
       "      <td>Women -49kg</td>\n",
       "      <td>Bronze Medal</td>\n",
       "      <td>2</td>\n",
       "    </tr>\n",
       "    <tr>\n",
       "      <th>854</th>\n",
       "      <td>Taekwondo</td>\n",
       "      <td>Women -57kg</td>\n",
       "      <td>Bronze Medal</td>\n",
       "      <td>2</td>\n",
       "    </tr>\n",
       "    <tr>\n",
       "      <th>857</th>\n",
       "      <td>Taekwondo</td>\n",
       "      <td>Women -67kg</td>\n",
       "      <td>Bronze Medal</td>\n",
       "      <td>2</td>\n",
       "    </tr>\n",
       "    <tr>\n",
       "      <th>932</th>\n",
       "      <td>Wrestling</td>\n",
       "      <td>Men's Freestyle 125kg</td>\n",
       "      <td>Bronze Medal</td>\n",
       "      <td>2</td>\n",
       "    </tr>\n",
       "    <tr>\n",
       "      <th>935</th>\n",
       "      <td>Wrestling</td>\n",
       "      <td>Men's Freestyle 57kg</td>\n",
       "      <td>Bronze Medal</td>\n",
       "      <td>2</td>\n",
       "    </tr>\n",
       "    <tr>\n",
       "      <th>938</th>\n",
       "      <td>Wrestling</td>\n",
       "      <td>Men's Freestyle 65kg</td>\n",
       "      <td>Bronze Medal</td>\n",
       "      <td>2</td>\n",
       "    </tr>\n",
       "    <tr>\n",
       "      <th>941</th>\n",
       "      <td>Wrestling</td>\n",
       "      <td>Men's Freestyle 74kg</td>\n",
       "      <td>Bronze Medal</td>\n",
       "      <td>2</td>\n",
       "    </tr>\n",
       "    <tr>\n",
       "      <th>944</th>\n",
       "      <td>Wrestling</td>\n",
       "      <td>Men's Freestyle 86kg</td>\n",
       "      <td>Bronze Medal</td>\n",
       "      <td>2</td>\n",
       "    </tr>\n",
       "    <tr>\n",
       "      <th>947</th>\n",
       "      <td>Wrestling</td>\n",
       "      <td>Men's Freestyle 97kg</td>\n",
       "      <td>Bronze Medal</td>\n",
       "      <td>2</td>\n",
       "    </tr>\n",
       "    <tr>\n",
       "      <th>950</th>\n",
       "      <td>Wrestling</td>\n",
       "      <td>Men's Greco-Roman 130kg</td>\n",
       "      <td>Bronze Medal</td>\n",
       "      <td>2</td>\n",
       "    </tr>\n",
       "    <tr>\n",
       "      <th>953</th>\n",
       "      <td>Wrestling</td>\n",
       "      <td>Men's Greco-Roman 60kg</td>\n",
       "      <td>Bronze Medal</td>\n",
       "      <td>2</td>\n",
       "    </tr>\n",
       "    <tr>\n",
       "      <th>956</th>\n",
       "      <td>Wrestling</td>\n",
       "      <td>Men's Greco-Roman 67kg</td>\n",
       "      <td>Bronze Medal</td>\n",
       "      <td>2</td>\n",
       "    </tr>\n",
       "    <tr>\n",
       "      <th>959</th>\n",
       "      <td>Wrestling</td>\n",
       "      <td>Men's Greco-Roman 77kg</td>\n",
       "      <td>Bronze Medal</td>\n",
       "      <td>2</td>\n",
       "    </tr>\n",
       "    <tr>\n",
       "      <th>962</th>\n",
       "      <td>Wrestling</td>\n",
       "      <td>Men's Greco-Roman 87kg</td>\n",
       "      <td>Bronze Medal</td>\n",
       "      <td>2</td>\n",
       "    </tr>\n",
       "    <tr>\n",
       "      <th>965</th>\n",
       "      <td>Wrestling</td>\n",
       "      <td>Men's Greco-Roman 97kg</td>\n",
       "      <td>Bronze Medal</td>\n",
       "      <td>2</td>\n",
       "    </tr>\n",
       "    <tr>\n",
       "      <th>968</th>\n",
       "      <td>Wrestling</td>\n",
       "      <td>Women's Freestyle 50kg</td>\n",
       "      <td>Bronze Medal</td>\n",
       "      <td>2</td>\n",
       "    </tr>\n",
       "    <tr>\n",
       "      <th>971</th>\n",
       "      <td>Wrestling</td>\n",
       "      <td>Women's Freestyle 53kg</td>\n",
       "      <td>Bronze Medal</td>\n",
       "      <td>2</td>\n",
       "    </tr>\n",
       "    <tr>\n",
       "      <th>974</th>\n",
       "      <td>Wrestling</td>\n",
       "      <td>Women's Freestyle 57kg</td>\n",
       "      <td>Bronze Medal</td>\n",
       "      <td>2</td>\n",
       "    </tr>\n",
       "    <tr>\n",
       "      <th>977</th>\n",
       "      <td>Wrestling</td>\n",
       "      <td>Women's Freestyle 62kg</td>\n",
       "      <td>Bronze Medal</td>\n",
       "      <td>2</td>\n",
       "    </tr>\n",
       "    <tr>\n",
       "      <th>980</th>\n",
       "      <td>Wrestling</td>\n",
       "      <td>Women's Freestyle 68kg</td>\n",
       "      <td>Bronze Medal</td>\n",
       "      <td>2</td>\n",
       "    </tr>\n",
       "    <tr>\n",
       "      <th>983</th>\n",
       "      <td>Wrestling</td>\n",
       "      <td>Women's Freestyle 76kg</td>\n",
       "      <td>Bronze Medal</td>\n",
       "      <td>2</td>\n",
       "    </tr>\n",
       "  </tbody>\n",
       "</table>\n",
       "</div>"
      ],
      "text/plain": [
       "              discipline                      event    medal_type  group_size\n",
       "27   Artistic Gymnastics       Men's Horizontal Bar  Bronze Medal           2\n",
       "192            Athletics          Women's High Jump  Bronze Medal           2\n",
       "240               Boxing                Men's +92kg  Bronze Medal           2\n",
       "243               Boxing                 Men's 51kg  Bronze Medal           2\n",
       "246               Boxing                 Men's 57kg  Bronze Medal           2\n",
       "249               Boxing               Men's 63.5kg  Bronze Medal           2\n",
       "252               Boxing                 Men's 71kg  Bronze Medal           2\n",
       "255               Boxing                 Men's 80kg  Bronze Medal           2\n",
       "258               Boxing                 Men's 92kg  Bronze Medal           2\n",
       "261               Boxing               Women's 50kg  Bronze Medal           2\n",
       "264               Boxing               Women's 54kg  Bronze Medal           2\n",
       "267               Boxing               Women's 57kg  Bronze Medal           2\n",
       "270               Boxing               Women's 60kg  Bronze Medal           2\n",
       "273               Boxing               Women's 66kg  Bronze Medal           2\n",
       "276               Boxing               Women's 75kg  Bronze Medal           2\n",
       "324         Canoe Sprint  Women's Kayak Double 500m  Bronze Medal           2\n",
       "501                 Judo                Men +100 kg  Bronze Medal           2\n",
       "504                 Judo                Men -100 kg  Bronze Medal           2\n",
       "507                 Judo                 Men -60 kg  Bronze Medal           2\n",
       "510                 Judo                 Men -66 kg  Bronze Medal           2\n",
       "513                 Judo                 Men -73 kg  Bronze Medal           2\n",
       "516                 Judo                 Men -81 kg  Bronze Medal           2\n",
       "519                 Judo                 Men -90 kg  Bronze Medal           2\n",
       "522                 Judo                 Mixed Team  Bronze Medal           2\n",
       "525                 Judo               Women +78 kg  Bronze Medal           2\n",
       "528                 Judo               Women -48 kg  Bronze Medal           2\n",
       "531                 Judo               Women -52 kg  Bronze Medal           2\n",
       "534                 Judo               Women -57 kg  Bronze Medal           2\n",
       "537                 Judo               Women -63 kg  Bronze Medal           2\n",
       "540                 Judo               Women -70 kg  Bronze Medal           2\n",
       "543                 Judo               Women -78 kg  Bronze Medal           2\n",
       "721             Swimming    Men's 100m Breaststroke  Silver Medal           2\n",
       "836            Taekwondo                  Men +80kg  Bronze Medal           2\n",
       "839            Taekwondo                  Men -58kg  Bronze Medal           2\n",
       "842            Taekwondo                  Men -68kg  Bronze Medal           2\n",
       "845            Taekwondo                  Men -80kg  Bronze Medal           2\n",
       "848            Taekwondo                Women +67kg  Bronze Medal           2\n",
       "851            Taekwondo                Women -49kg  Bronze Medal           2\n",
       "854            Taekwondo                Women -57kg  Bronze Medal           2\n",
       "857            Taekwondo                Women -67kg  Bronze Medal           2\n",
       "932            Wrestling      Men's Freestyle 125kg  Bronze Medal           2\n",
       "935            Wrestling       Men's Freestyle 57kg  Bronze Medal           2\n",
       "938            Wrestling       Men's Freestyle 65kg  Bronze Medal           2\n",
       "941            Wrestling       Men's Freestyle 74kg  Bronze Medal           2\n",
       "944            Wrestling       Men's Freestyle 86kg  Bronze Medal           2\n",
       "947            Wrestling       Men's Freestyle 97kg  Bronze Medal           2\n",
       "950            Wrestling    Men's Greco-Roman 130kg  Bronze Medal           2\n",
       "953            Wrestling     Men's Greco-Roman 60kg  Bronze Medal           2\n",
       "956            Wrestling     Men's Greco-Roman 67kg  Bronze Medal           2\n",
       "959            Wrestling     Men's Greco-Roman 77kg  Bronze Medal           2\n",
       "962            Wrestling     Men's Greco-Roman 87kg  Bronze Medal           2\n",
       "965            Wrestling     Men's Greco-Roman 97kg  Bronze Medal           2\n",
       "968            Wrestling     Women's Freestyle 50kg  Bronze Medal           2\n",
       "971            Wrestling     Women's Freestyle 53kg  Bronze Medal           2\n",
       "974            Wrestling     Women's Freestyle 57kg  Bronze Medal           2\n",
       "977            Wrestling     Women's Freestyle 62kg  Bronze Medal           2\n",
       "980            Wrestling     Women's Freestyle 68kg  Bronze Medal           2\n",
       "983            Wrestling     Women's Freestyle 76kg  Bronze Medal           2"
      ]
     },
     "execution_count": 19,
     "metadata": {},
     "output_type": "execute_result"
    }
   ],
   "source": [
    "groups[groups['group_size']>1]"
   ]
  },
  {
   "cell_type": "markdown",
   "id": "98b2b5aa-618f-499a-9a5e-457588e5358a",
   "metadata": {},
   "source": [
    "## Prilagodjavanje tabela"
   ]
  },
  {
   "cell_type": "code",
   "execution_count": 20,
   "id": "dcf1be3f-638e-4820-8df2-26a4eac2f21d",
   "metadata": {},
   "outputs": [
    {
     "data": {
      "text/plain": [
       "92"
      ]
     },
     "execution_count": 20,
     "metadata": {},
     "output_type": "execute_result"
    }
   ],
   "source": [
    "medals['country'].unique().size"
   ]
  },
  {
   "cell_type": "code",
   "execution_count": 21,
   "id": "253c0848-7940-4e79-bc74-08f8105a0682",
   "metadata": {},
   "outputs": [
    {
     "data": {
      "text/plain": [
       "array(['Belgium', 'Italy', 'Australia', 'Great Britain', 'United States',\n",
       "       'China', 'Korea', 'Tunisia', 'Hong Kong, China', 'France',\n",
       "       'Hungary', 'Kazakhstan', 'Japan', 'Spain', 'Mongolia', 'Sweden',\n",
       "       'Fiji', 'South Africa', 'Germany', 'Canada', 'Mexico', 'Poland',\n",
       "       'Egypt', 'Brazil', 'Republic of Moldova', 'Uzbekistan', 'Kosovo',\n",
       "       'India', 'Türkiye', 'Slovakia', 'Ukraine', 'Azerbaijan', 'Croatia',\n",
       "       'Switzerland', 'Romania', 'Ireland', 'Georgia', 'Tajikistan',\n",
       "       'Slovenia', 'New Zealand', 'Serbia', 'Guatemala', 'DPR Korea',\n",
       "       'Argentina', 'Greece', 'Austria', 'Netherlands', 'Ecuador',\n",
       "       'Israel', 'Portugal', 'Uganda', 'Ethiopia', 'Czechia', 'AIN',\n",
       "       'Philippines', 'Norway', 'Grenada', 'Jamaica', 'Saint Lucia',\n",
       "       'Dominica', 'Chinese Taipei', 'Denmark', 'Lithuania', 'Armenia',\n",
       "       'Algeria', 'Malaysia', 'Indonesia', 'Dominican Republic',\n",
       "       'Cabo Verde', 'Cuba', 'Chile', 'Colombia', 'Kenya', 'Thailand',\n",
       "       'Bahrain', 'IR Iran', 'Kyrgyzstan', 'Morocco', 'Zambia', 'Cyprus',\n",
       "       'Peru', 'Botswana', 'Pakistan', 'Bulgaria', 'EOR', 'Jordan',\n",
       "       'Singapore', 'Qatar', 'Puerto Rico', 'Panama', \"Côte d'Ivoire\",\n",
       "       'Albania'], dtype=object)"
      ]
     },
     "execution_count": 21,
     "metadata": {},
     "output_type": "execute_result"
    }
   ],
   "source": [
    "medals['country'].unique()"
   ]
  },
  {
   "cell_type": "code",
   "execution_count": 22,
   "id": "92a94acb-c9b0-40d3-9845-bec5709d7472",
   "metadata": {},
   "outputs": [
    {
     "data": {
      "text/plain": [
       "array(['United States', 'China', 'Japan', 'Germany', 'India',\n",
       "       'United Kingdom', 'France', 'Russia', 'Canada', 'Italy', 'Brazil',\n",
       "       'Australia', 'South Korea', 'Mexico', 'Spain', 'Indonesia',\n",
       "       'Saudi Arabia', 'Netherlands', 'Turkey', 'Switzerland', 'Poland',\n",
       "       'Argentina', 'Sweden', 'Norway', 'Belgium', 'Ireland', 'Israel',\n",
       "       'United Arab Emirates', 'Thailand', 'Nigeria', 'Egypt', 'Austria',\n",
       "       'Singapore', 'Bangladesh', 'Vietnam', 'Malaysia', 'South Africa',\n",
       "       'Philippines', 'Denmark', 'Iran', 'Pakistan', 'Hong Kong',\n",
       "       'Colombia', 'Romania', 'Chile', 'Czech Republic (Czechia)',\n",
       "       'Finland', 'Iraq', 'Portugal', 'New Zealand', 'Peru', 'Qatar',\n",
       "       'Kazakhstan', 'Greece', 'Algeria', 'Kuwait', 'Hungary', 'Ukraine',\n",
       "       'Morocco', 'Ethiopia', 'Slovakia', 'Ecuador', 'Oman',\n",
       "       'Dominican Republic', 'Kenya', 'Angola', 'Guatemala', 'Bulgaria',\n",
       "       'Luxembourg', 'Uzbekistan', 'Azerbaijan', 'Panama', 'Tanzania',\n",
       "       'Sri Lanka', 'Ghana', 'Belarus', 'Uruguay', 'Croatia', 'Lithuania',\n",
       "       \"Côte d'Ivoire\", 'Costa Rica', 'Serbia', 'Slovenia', 'Myanmar',\n",
       "       'DR Congo', 'Sudan', 'Jordan', 'Tunisia', 'Libya', 'Uganda',\n",
       "       'Bahrain', 'Cameroon', 'Bolivia', 'Paraguay', 'Latvia', 'Nepal',\n",
       "       'Estonia', 'El Salvador', 'Honduras', 'Papua New Guinea',\n",
       "       'Cambodia', 'Zambia', 'Cyprus', 'Trinidad and Tobago', 'Iceland',\n",
       "       'Senegal', 'Georgia', 'Bosnia and Herzegovina', 'Macao', 'Guinea',\n",
       "       'Gabon', 'Zimbabwe', 'Botswana', 'Haiti', 'Armenia',\n",
       "       'State of Palestine', 'Burkina Faso', 'Albania', 'Mali',\n",
       "       'Mozambique', 'Malta', 'Benin', 'Jamaica', 'Mongolia', 'Brunei ',\n",
       "       'Laos', 'Nicaragua', 'Guyana', 'Madagascar', 'Congo', 'Moldova',\n",
       "       'Niger', 'North Macedonia', 'Rwanda', 'Malawi', 'Mauritius',\n",
       "       'Bahamas', 'Chad', 'Namibia', 'Equatorial Guinea', 'Kyrgyzstan',\n",
       "       'Tajikistan', 'Mauritania', 'Togo', 'Maldives', 'Montenegro',\n",
       "       'Barbados', 'Fiji', 'Eswatini', 'Liberia', 'Sierra Leone',\n",
       "       'Suriname', 'Andorra', 'Timor-Leste', 'Burundi', 'Belize',\n",
       "       'Lesotho', 'Central African Republic', 'Cabo Verde', 'Gambia',\n",
       "       'Saint Lucia', 'Antigua and Barbuda', 'Guinea-Bissau',\n",
       "       'Solomon Islands', 'Seychelles', 'Grenada', 'Comoros', 'Vanuatu',\n",
       "       'Saint Kitts & Nevis', 'St. Vincent & Grenadines', 'Samoa',\n",
       "       'Dominica', 'Sao Tome & Principe', 'Micronesia',\n",
       "       'Marshall Islands', 'Kiribati', 'Tuvalu'], dtype=object)"
      ]
     },
     "execution_count": 22,
     "metadata": {},
     "output_type": "execute_result"
    }
   ],
   "source": [
    "country_table['country'].unique()"
   ]
  },
  {
   "cell_type": "code",
   "execution_count": 23,
   "id": "56b6a78f-3dc2-40a5-add2-ae9b9902b4bc",
   "metadata": {},
   "outputs": [
    {
     "data": {
      "text/plain": [
       "177"
      ]
     },
     "execution_count": 23,
     "metadata": {},
     "output_type": "execute_result"
    }
   ],
   "source": [
    "country_table['country'].unique().size"
   ]
  },
  {
   "cell_type": "code",
   "execution_count": 24,
   "id": "793879e7-f678-4392-8ff7-b415b6f45b3c",
   "metadata": {},
   "outputs": [
    {
     "name": "stdout",
     "output_type": "stream",
     "text": [
      "Great Britain\n",
      "Korea\n",
      "Hong Kong, China\n",
      "Republic of Moldova\n",
      "Kosovo\n",
      "Türkiye\n",
      "DPR Korea\n",
      "Czechia\n",
      "AIN\n",
      "Chinese Taipei\n",
      "Cuba\n",
      "IR Iran\n",
      "EOR\n",
      "Puerto Rico\n"
     ]
    }
   ],
   "source": [
    "for cnt in medals['country'].unique():\n",
    "    if cnt not in country_table['country'].unique():\n",
    "        print(cnt)"
   ]
  },
  {
   "cell_type": "code",
   "execution_count": 25,
   "id": "bdb40e9b-8053-4069-9330-095ee6a448b5",
   "metadata": {},
   "outputs": [],
   "source": [
    "replace_values = {'Great Britain': 'United Kingdom', 'Korea': 'South Korea', 'Republic of Moldova': 'Moldova', 'DPR Korea': 'North Korea', 'IR Iran': 'Iran', 'Türkiye': 'Turkey'}\n",
    "medals = medals.replace({'country':replace_values})\n",
    "country_table['country'] = country_table['country'].replace('Czech Republic (Czechia)', 'Czechia')\n"
   ]
  },
  {
   "cell_type": "code",
   "execution_count": 26,
   "id": "d86d52da-c675-4f7c-acf5-076cfe536e42",
   "metadata": {},
   "outputs": [],
   "source": [
    "country_table.loc[len(country_table.index)] = ['Cuba', '$107,352,000,000', '11,176,354', '$7,252']"
   ]
  },
  {
   "cell_type": "code",
   "execution_count": 27,
   "id": "02329c47-80c9-4c09-959a-e1ba3ac3ff18",
   "metadata": {},
   "outputs": [
    {
     "name": "stdout",
     "output_type": "stream",
     "text": [
      "Hong Kong, China\n",
      "Kosovo\n",
      "North Korea\n",
      "AIN\n",
      "Chinese Taipei\n",
      "EOR\n",
      "Puerto Rico\n"
     ]
    }
   ],
   "source": [
    "for cnt in medals['country'].unique():\n",
    "    if cnt not in country_table['country'].unique():\n",
    "        print(cnt)"
   ]
  },
  {
   "cell_type": "code",
   "execution_count": 28,
   "id": "6d2f1fa8-2082-4dfc-80b3-fc00324f6333",
   "metadata": {},
   "outputs": [],
   "source": [
    "to_delete = []\n",
    "for cnt in medals['country'].unique():\n",
    "    if cnt not in country_table['country'].unique():\n",
    "        to_delete.append(cnt)"
   ]
  },
  {
   "cell_type": "code",
   "execution_count": 29,
   "id": "2f1104ff-552a-4bec-8da4-c79cf6e31dab",
   "metadata": {},
   "outputs": [],
   "source": [
    "#medals[medals.country.isin(to_delete)]"
   ]
  },
  {
   "cell_type": "code",
   "execution_count": 30,
   "id": "5ddd369e-e811-45bb-9326-889bc4c30b42",
   "metadata": {},
   "outputs": [],
   "source": [
    "medals = [~ medals.country.isin(to_delete)]"
   ]
  },
  {
   "cell_type": "markdown",
   "id": "7d2b2e8c-1561-40c1-8ade-68b37b4ff2f1",
   "metadata": {},
   "source": [
    "## Replace"
   ]
  },
  {
   "cell_type": "code",
   "execution_count": 31,
   "id": "c0116dfa-8bcc-43e7-a1f9-426418181ba5",
   "metadata": {},
   "outputs": [
    {
     "name": "stdout",
     "output_type": "stream",
     "text": [
      "<class 'pandas.core.frame.DataFrame'>\n",
      "Index: 178 entries, 0 to 177\n",
      "Data columns (total 4 columns):\n",
      " #   Column          Non-Null Count  Dtype \n",
      "---  ------          --------------  ----- \n",
      " 0   country         178 non-null    object\n",
      " 1   gdp             178 non-null    object\n",
      " 2   population      178 non-null    object\n",
      " 3   gdp_per_capita  178 non-null    object\n",
      "dtypes: object(4)\n",
      "memory usage: 7.0+ KB\n"
     ]
    }
   ],
   "source": [
    "country_table.info()"
   ]
  },
  {
   "cell_type": "code",
   "execution_count": 32,
   "id": "2d7b30fc-ae4e-434a-8a07-be02a6339d10",
   "metadata": {},
   "outputs": [],
   "source": [
    "country_table.gdp = country_table.gdp.str.replace('$', ' ')\n",
    "country_table.gdp = country_table.gdp.str.replace(',', ' ')"
   ]
  },
  {
   "cell_type": "code",
   "execution_count": 33,
   "id": "f87e7004-1f50-4bbf-92bf-daa3623c20e0",
   "metadata": {},
   "outputs": [],
   "source": [
    "country_table.gdp_per_capita = country_table.gdp_per_capita.str.replace('$', ' ')\n",
    "country_table.gdp_per_capita = country_table.gdp_per_capita.str.replace(',', ' ')"
   ]
  },
  {
   "cell_type": "code",
   "execution_count": 34,
   "id": "5517545a-c1b0-4e9a-9819-b2ce566c857c",
   "metadata": {},
   "outputs": [],
   "source": [
    "country_table.population = country_table.population.str.replace(',', ' ')"
   ]
  },
  {
   "cell_type": "code",
   "execution_count": 35,
   "id": "09478aa9-59ef-4219-90d6-aeb64589fa7d",
   "metadata": {},
   "outputs": [],
   "source": [
    "#country_table.gdp = country_table.gdp.astype(float)\n",
    "#country_table.gdp_per_capita  = country_table.gdp_per_capita.astype(float)\n",
    "#country_table.population = country_table.population.astype(float)"
   ]
  },
  {
   "cell_type": "code",
   "execution_count": 36,
   "id": "93b738ea-6b39-4c7c-b390-a3d33bd1176f",
   "metadata": {},
   "outputs": [
    {
     "data": {
      "text/html": [
       "<div>\n",
       "<style scoped>\n",
       "    .dataframe tbody tr th:only-of-type {\n",
       "        vertical-align: middle;\n",
       "    }\n",
       "\n",
       "    .dataframe tbody tr th {\n",
       "        vertical-align: top;\n",
       "    }\n",
       "\n",
       "    .dataframe thead th {\n",
       "        text-align: right;\n",
       "    }\n",
       "</style>\n",
       "<table border=\"1\" class=\"dataframe\">\n",
       "  <thead>\n",
       "    <tr style=\"text-align: right;\">\n",
       "      <th></th>\n",
       "      <th>country</th>\n",
       "      <th>gdp</th>\n",
       "      <th>population</th>\n",
       "      <th>gdp_per_capita</th>\n",
       "    </tr>\n",
       "  </thead>\n",
       "  <tbody>\n",
       "    <tr>\n",
       "      <th>0</th>\n",
       "      <td>United States</td>\n",
       "      <td>25 462 700 000 000</td>\n",
       "      <td>341 534 046</td>\n",
       "      <td>74 554</td>\n",
       "    </tr>\n",
       "    <tr>\n",
       "      <th>1</th>\n",
       "      <td>China</td>\n",
       "      <td>17 963 200 000 000</td>\n",
       "      <td>1 425 179 569</td>\n",
       "      <td>12 604</td>\n",
       "    </tr>\n",
       "    <tr>\n",
       "      <th>2</th>\n",
       "      <td>Japan</td>\n",
       "      <td>4 231 140 000 000</td>\n",
       "      <td>124 997 578</td>\n",
       "      <td>33 850</td>\n",
       "    </tr>\n",
       "    <tr>\n",
       "      <th>3</th>\n",
       "      <td>Germany</td>\n",
       "      <td>4 072 190 000 000</td>\n",
       "      <td>84 086 227</td>\n",
       "      <td>48 429</td>\n",
       "    </tr>\n",
       "    <tr>\n",
       "      <th>4</th>\n",
       "      <td>India</td>\n",
       "      <td>3 385 090 000 000</td>\n",
       "      <td>1 425 423 212</td>\n",
       "      <td>2 375</td>\n",
       "    </tr>\n",
       "  </tbody>\n",
       "</table>\n",
       "</div>"
      ],
      "text/plain": [
       "         country                  gdp     population gdp_per_capita\n",
       "0  United States   25 462 700 000 000    341 534 046         74 554\n",
       "1          China   17 963 200 000 000  1 425 179 569         12 604\n",
       "2          Japan    4 231 140 000 000    124 997 578         33 850\n",
       "3        Germany    4 072 190 000 000     84 086 227         48 429\n",
       "4          India    3 385 090 000 000  1 425 423 212          2 375"
      ]
     },
     "execution_count": 36,
     "metadata": {},
     "output_type": "execute_result"
    }
   ],
   "source": [
    "country_table.head()"
   ]
  },
  {
   "cell_type": "code",
   "execution_count": 37,
   "id": "44bf7c38-aabe-4e2c-91a9-9a15d0a2f8a0",
   "metadata": {},
   "outputs": [],
   "source": [
    "#country_table.to_csv('country_for_analysis.csv')"
   ]
  },
  {
   "cell_type": "code",
   "execution_count": 38,
   "id": "b093d8eb-2512-43c7-8eec-02d3866f1306",
   "metadata": {},
   "outputs": [],
   "source": [
    "#medals.to_csv('medals_for_analysis.csv')"
   ]
  }
 ],
 "metadata": {
  "kernelspec": {
   "display_name": "Python 3 (ipykernel)",
   "language": "python",
   "name": "python3"
  },
  "language_info": {
   "codemirror_mode": {
    "name": "ipython",
    "version": 3
   },
   "file_extension": ".py",
   "mimetype": "text/x-python",
   "name": "python",
   "nbconvert_exporter": "python",
   "pygments_lexer": "ipython3",
   "version": "3.12.6"
  }
 },
 "nbformat": 4,
 "nbformat_minor": 5
}
