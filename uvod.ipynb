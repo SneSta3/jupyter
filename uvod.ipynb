{
 "cells": [
  {
   "cell_type": "markdown",
   "id": "ec6ae8ea-8ca4-4817-be4f-ad0a8a3f2ca5",
   "metadata": {},
   "source": [
    "# Pandas nizovi"
   ]
  },
  {
   "cell_type": "code",
   "execution_count": 1,
   "id": "da6b496d-f1fc-41ef-a22f-508e0e831026",
   "metadata": {},
   "outputs": [],
   "source": [
    "import pandas as pd"
   ]
  },
  {
   "cell_type": "markdown",
   "id": "f414b2d1-abd2-435f-b63f-ce9fcf534c64",
   "metadata": {},
   "source": [
    "Kreiranje pandas niza iz Python liste-niza"
   ]
  },
  {
   "cell_type": "code",
   "execution_count": 2,
   "id": "824c5a80-f7e9-49e6-99e9-a53176c80640",
   "metadata": {},
   "outputs": [],
   "source": [
    "predmeti=['Matematika','Srpski','Muzicko']"
   ]
  },
  {
   "cell_type": "code",
   "execution_count": 3,
   "id": "aa3751a1-5a48-4b3a-9362-6e7613eb5fe8",
   "metadata": {},
   "outputs": [
    {
     "data": {
      "text/plain": [
       "0    Matematika\n",
       "1        Srpski\n",
       "2       Muzicko\n",
       "dtype: object"
      ]
     },
     "execution_count": 3,
     "metadata": {},
     "output_type": "execute_result"
    }
   ],
   "source": [
    "pd.Series(predmeti)"
   ]
  },
  {
   "cell_type": "code",
   "execution_count": 4,
   "id": "0b987e38-1b5f-4cc5-b52b-98e1241d99e3",
   "metadata": {},
   "outputs": [
    {
     "data": {
      "text/plain": [
       "0     1\n",
       "1     1\n",
       "2     2\n",
       "3     3\n",
       "4     5\n",
       "5     8\n",
       "6    13\n",
       "dtype: int64"
      ]
     },
     "execution_count": 4,
     "metadata": {},
     "output_type": "execute_result"
    }
   ],
   "source": [
    "fibonaci=[1,1,2,3,5,8,13]\n",
    "pd.Series(fibonaci)"
   ]
  },
  {
   "cell_type": "code",
   "execution_count": 5,
   "id": "2b05a80d-773c-4184-9f3c-0891390b4968",
   "metadata": {},
   "outputs": [
    {
     "data": {
      "text/plain": [
       "0     True\n",
       "1    False\n",
       "2    False\n",
       "3     True\n",
       "dtype: bool"
      ]
     },
     "execution_count": 5,
     "metadata": {},
     "output_type": "execute_result"
    }
   ],
   "source": [
    "prijavljen_ispit=[True,False,False,True]\n",
    "pd.Series(prijavljen_ispit)"
   ]
  },
  {
   "cell_type": "code",
   "execution_count": 6,
   "id": "51eba0cb-a24f-4998-a136-5335a0aff6bf",
   "metadata": {},
   "outputs": [
    {
     "data": {
      "text/plain": [
       "Srbija          Beograd\n",
       "Madjarska    Budimpesta\n",
       "Austrija            Bec\n",
       "dtype: object"
      ]
     },
     "execution_count": 6,
     "metadata": {},
     "output_type": "execute_result"
    }
   ],
   "source": [
    "glavni_gradovi={'Srbija':'Beograd', 'Madjarska':'Budimpesta', 'Austrija':'Bec'}\n",
    "pd.Series(glavni_gradovi)"
   ]
  },
  {
   "cell_type": "markdown",
   "id": "d9eace40-ca38-4a69-a08c-2d4664e24dee",
   "metadata": {},
   "source": [
    "# Parametri i Argumenti"
   ]
  },
  {
   "cell_type": "code",
   "execution_count": 7,
   "id": "118af1a2-ce8a-47a5-b4b9-aa35cc97dd98",
   "metadata": {},
   "outputs": [],
   "source": [
    "gradovi=['Beograd', 'Budimpesta', 'Bec']\n",
    "drzave=['Srbija', 'Madjarska', 'Austrija']"
   ]
  },
  {
   "cell_type": "code",
   "execution_count": 8,
   "id": "6d498499-225b-4d6d-94ef-6c2675423d2a",
   "metadata": {},
   "outputs": [
    {
     "data": {
      "text/plain": [
       "0       Beograd\n",
       "1    Budimpesta\n",
       "2           Bec\n",
       "dtype: object"
      ]
     },
     "execution_count": 8,
     "metadata": {},
     "output_type": "execute_result"
    }
   ],
   "source": [
    "pd.Series(gradovi)"
   ]
  },
  {
   "cell_type": "code",
   "execution_count": 9,
   "id": "2eb0b15a-1721-4eaf-9550-e3b1b276a85b",
   "metadata": {},
   "outputs": [
    {
     "data": {
      "text/plain": [
       "Srbija          Beograd\n",
       "Madjarska    Budimpesta\n",
       "Austrija            Bec\n",
       "dtype: object"
      ]
     },
     "execution_count": 9,
     "metadata": {},
     "output_type": "execute_result"
    }
   ],
   "source": [
    "pd.Series(gradovi, drzave)"
   ]
  },
  {
   "cell_type": "code",
   "execution_count": 10,
   "id": "73c2d5ef-adc1-421f-b384-e72fc63ba052",
   "metadata": {},
   "outputs": [
    {
     "data": {
      "text/plain": [
       "Srbija          Beograd\n",
       "Madjarska    Budimpesta\n",
       "Austrija            Bec\n",
       "dtype: object"
      ]
     },
     "execution_count": 10,
     "metadata": {},
     "output_type": "execute_result"
    }
   ],
   "source": [
    "pandas_niz= pd.Series(gradovi, drzave)\n",
    "pandas_niz"
   ]
  },
  {
   "cell_type": "code",
   "execution_count": 11,
   "id": "901c74c0-fbc1-4e96-ad6d-ff65ffb486e1",
   "metadata": {},
   "outputs": [
    {
     "data": {
      "text/plain": [
       "Srbija          Beograd\n",
       "Madjarska    Budimpesta\n",
       "Austrija            Bec\n",
       "dtype: object"
      ]
     },
     "execution_count": 11,
     "metadata": {},
     "output_type": "execute_result"
    }
   ],
   "source": [
    "pd.Series(data= gradovi, index= drzave)"
   ]
  },
  {
   "cell_type": "markdown",
   "id": "5087dcd3-44a4-4cda-9e89-8a09c56eeea3",
   "metadata": {},
   "source": [
    "# Atributi pandas nizova"
   ]
  },
  {
   "cell_type": "code",
   "execution_count": 12,
   "id": "54987455-f40f-4465-9eb7-bd99c5cd5613",
   "metadata": {},
   "outputs": [],
   "source": [
    "imena= pd.Series(['Dunja', 'Elena', 'Vukan', 'Marina'])"
   ]
  },
  {
   "cell_type": "code",
   "execution_count": 13,
   "id": "6f78e48e-499e-43f8-907a-3bb72019f748",
   "metadata": {},
   "outputs": [
    {
     "data": {
      "text/plain": [
       "4"
      ]
     },
     "execution_count": 13,
     "metadata": {},
     "output_type": "execute_result"
    }
   ],
   "source": [
    "imena.size"
   ]
  },
  {
   "cell_type": "code",
   "execution_count": 14,
   "id": "b74470fc-a888-4e1d-9777-6456bf4d7e93",
   "metadata": {},
   "outputs": [
    {
     "data": {
      "text/plain": [
       "(4,)"
      ]
     },
     "execution_count": 14,
     "metadata": {},
     "output_type": "execute_result"
    }
   ],
   "source": [
    "imena.shape"
   ]
  },
  {
   "cell_type": "code",
   "execution_count": 15,
   "id": "dfade534-0c16-4d70-8efc-00b9fe097cd0",
   "metadata": {},
   "outputs": [
    {
     "data": {
      "text/plain": [
       "True"
      ]
     },
     "execution_count": 15,
     "metadata": {},
     "output_type": "execute_result"
    }
   ],
   "source": [
    "imena.is_unique"
   ]
  },
  {
   "cell_type": "code",
   "execution_count": 16,
   "id": "ff752b0f-2c18-45f9-b94e-01e2fe5bbd79",
   "metadata": {},
   "outputs": [
    {
     "data": {
      "text/plain": [
       "RangeIndex(start=0, stop=4, step=1)"
      ]
     },
     "execution_count": 16,
     "metadata": {},
     "output_type": "execute_result"
    }
   ],
   "source": [
    "imena.index"
   ]
  },
  {
   "cell_type": "code",
   "execution_count": 17,
   "id": "e1ed5d12-bd9e-42fd-9928-c0e260cc1e01",
   "metadata": {},
   "outputs": [
    {
     "data": {
      "text/plain": [
       "Index(['Srbija', 'Madjarska', 'Austrija'], dtype='object')"
      ]
     },
     "execution_count": 17,
     "metadata": {},
     "output_type": "execute_result"
    }
   ],
   "source": [
    "pandas_niz.index"
   ]
  },
  {
   "cell_type": "code",
   "execution_count": 18,
   "id": "dfc59ac9-b24a-4c23-960d-dac49e996bfc",
   "metadata": {},
   "outputs": [
    {
     "data": {
      "text/plain": [
       "array(['Dunja', 'Elena', 'Vukan', 'Marina'], dtype=object)"
      ]
     },
     "execution_count": 18,
     "metadata": {},
     "output_type": "execute_result"
    }
   ],
   "source": [
    "imena.values"
   ]
  },
  {
   "cell_type": "code",
   "execution_count": 19,
   "id": "3b054a4a-8d48-4796-a7f7-bc904dee68b9",
   "metadata": {},
   "outputs": [
    {
     "data": {
      "text/plain": [
       "array(['Beograd', 'Budimpesta', 'Bec'], dtype=object)"
      ]
     },
     "execution_count": 19,
     "metadata": {},
     "output_type": "execute_result"
    }
   ],
   "source": [
    "pandas_niz.values"
   ]
  },
  {
   "cell_type": "markdown",
   "id": "47260ce3-d923-4668-9850-8ee87a2afe64",
   "metadata": {},
   "source": [
    "# Metode pandas nizova"
   ]
  },
  {
   "cell_type": "code",
   "execution_count": 20,
   "id": "0cd8ae2b-2de4-44b1-9142-ae5c44348368",
   "metadata": {},
   "outputs": [
    {
     "data": {
      "text/plain": [
       "0      2.0\n",
       "1      7.0\n",
       "2    100.0\n",
       "3      0.2\n",
       "dtype: float64"
      ]
     },
     "execution_count": 20,
     "metadata": {},
     "output_type": "execute_result"
    }
   ],
   "source": [
    "brojevi = pd.Series([2,7,100,0.2])\n",
    "brojevi"
   ]
  },
  {
   "cell_type": "code",
   "execution_count": 21,
   "id": "10e3e079-982b-4216-83c1-7cf074287dfd",
   "metadata": {},
   "outputs": [
    {
     "data": {
      "text/plain": [
       "np.float64(109.2)"
      ]
     },
     "execution_count": 21,
     "metadata": {},
     "output_type": "execute_result"
    }
   ],
   "source": [
    "brojevi.sum()"
   ]
  },
  {
   "cell_type": "code",
   "execution_count": 22,
   "id": "5ac7d942-3a45-48a9-bebe-69ff4e4fac07",
   "metadata": {},
   "outputs": [
    {
     "data": {
      "text/plain": [
       "np.float64(27.3)"
      ]
     },
     "execution_count": 22,
     "metadata": {},
     "output_type": "execute_result"
    }
   ],
   "source": [
    "brojevi.mean()"
   ]
  },
  {
   "cell_type": "code",
   "execution_count": 23,
   "id": "3394f9f1-9846-4e67-972a-009f53253ecc",
   "metadata": {},
   "outputs": [
    {
     "data": {
      "text/plain": [
       "np.float64(48.551965288063606)"
      ]
     },
     "execution_count": 23,
     "metadata": {},
     "output_type": "execute_result"
    }
   ],
   "source": [
    "brojevi.std()"
   ]
  },
  {
   "cell_type": "code",
   "execution_count": 24,
   "id": "3b1ad917-1412-4a39-81cb-cbf0d2ef1b77",
   "metadata": {},
   "outputs": [
    {
     "data": {
      "text/plain": [
       "np.float64(280.0)"
      ]
     },
     "execution_count": 24,
     "metadata": {},
     "output_type": "execute_result"
    }
   ],
   "source": [
    "brojevi.product()"
   ]
  },
  {
   "cell_type": "code",
   "execution_count": 25,
   "id": "70f68f4c-2576-4722-ac51-defaa5c6083e",
   "metadata": {},
   "outputs": [
    {
     "data": {
      "text/plain": [
       "np.float64(0.2)"
      ]
     },
     "execution_count": 25,
     "metadata": {},
     "output_type": "execute_result"
    }
   ],
   "source": [
    "brojevi.min()"
   ]
  },
  {
   "cell_type": "code",
   "execution_count": 26,
   "id": "56d39e25-3573-49b5-8008-b3fc187ad763",
   "metadata": {},
   "outputs": [
    {
     "data": {
      "text/plain": [
       "'Dunja'"
      ]
     },
     "execution_count": 26,
     "metadata": {},
     "output_type": "execute_result"
    }
   ],
   "source": [
    "imena.min()"
   ]
  },
  {
   "cell_type": "code",
   "execution_count": 27,
   "id": "fb410d75-07ab-4d4b-b997-02fd34314f7c",
   "metadata": {},
   "outputs": [
    {
     "data": {
      "text/plain": [
       "np.float64(100.0)"
      ]
     },
     "execution_count": 27,
     "metadata": {},
     "output_type": "execute_result"
    }
   ],
   "source": [
    "brojevi.max()"
   ]
  },
  {
   "cell_type": "code",
   "execution_count": 28,
   "id": "2db9008d-aa7b-44e9-940c-8d2cd5013254",
   "metadata": {},
   "outputs": [
    {
     "data": {
      "text/plain": [
       "'Vukan'"
      ]
     },
     "execution_count": 28,
     "metadata": {},
     "output_type": "execute_result"
    }
   ],
   "source": [
    "imena.max()"
   ]
  },
  {
   "cell_type": "markdown",
   "id": "10b186d7-4a28-4727-9782-75914357e195",
   "metadata": {},
   "source": [
    "# Prikaz pandas niza"
   ]
  },
  {
   "cell_type": "code",
   "execution_count": 29,
   "id": "4a41878d-ac03-4f9b-a8eb-cd59326d8f72",
   "metadata": {},
   "outputs": [
    {
     "data": {
      "text/plain": [
       "0         1\n",
       "1         1\n",
       "2         2\n",
       "3         3\n",
       "4         5\n",
       "5         8\n",
       "6        13\n",
       "7        21\n",
       "8        34\n",
       "9        55\n",
       "10       89\n",
       "11      144\n",
       "12      233\n",
       "13      377\n",
       "14      610\n",
       "15      987\n",
       "16     1597\n",
       "17     2584\n",
       "18     4181\n",
       "19     6765\n",
       "20    10946\n",
       "dtype: int64"
      ]
     },
     "execution_count": 29,
     "metadata": {},
     "output_type": "execute_result"
    }
   ],
   "source": [
    "n=20\n",
    "fibonaci=[1,1]\n",
    "while len(fibonaci) <=n:\n",
    "    novi_clan=fibonaci[len(fibonaci)-1] + fibonaci[len(fibonaci)-2]\n",
    "    fibonaci.append(novi_clan)\n",
    "fibonaci_pandas=pd.Series(fibonaci)\n",
    "fibonaci_pandas\n",
    "    "
   ]
  },
  {
   "cell_type": "code",
   "execution_count": 30,
   "id": "55a4f5f6-a843-4fef-b2e9-41f31034d6b3",
   "metadata": {},
   "outputs": [
    {
     "data": {
      "text/plain": [
       "0    1\n",
       "1    1\n",
       "2    2\n",
       "3    3\n",
       "4    5\n",
       "dtype: int64"
      ]
     },
     "execution_count": 30,
     "metadata": {},
     "output_type": "execute_result"
    }
   ],
   "source": [
    "fibonaci_pandas.head()"
   ]
  },
  {
   "cell_type": "code",
   "execution_count": 31,
   "id": "028f16ec-d410-44f0-ab32-513443400696",
   "metadata": {},
   "outputs": [
    {
     "data": {
      "text/plain": [
       "0     1\n",
       "1     1\n",
       "2     2\n",
       "3     3\n",
       "4     5\n",
       "5     8\n",
       "6    13\n",
       "7    21\n",
       "8    34\n",
       "9    55\n",
       "dtype: int64"
      ]
     },
     "execution_count": 31,
     "metadata": {},
     "output_type": "execute_result"
    }
   ],
   "source": [
    "fibonaci_pandas.head(10)"
   ]
  },
  {
   "cell_type": "code",
   "execution_count": 32,
   "id": "ae618774-ab53-4270-9233-a0496cc2f40d",
   "metadata": {},
   "outputs": [
    {
     "data": {
      "text/plain": [
       "0       1\n",
       "1       1\n",
       "2       2\n",
       "3       3\n",
       "4       5\n",
       "5       8\n",
       "6      13\n",
       "7      21\n",
       "8      34\n",
       "9      55\n",
       "10     89\n",
       "11    144\n",
       "12    233\n",
       "13    377\n",
       "14    610\n",
       "15    987\n",
       "dtype: int64"
      ]
     },
     "execution_count": 32,
     "metadata": {},
     "output_type": "execute_result"
    }
   ],
   "source": [
    "fibonaci_pandas.head(-5)"
   ]
  },
  {
   "cell_type": "code",
   "execution_count": 33,
   "id": "192d1af0-a761-4918-bacc-3524292a68c6",
   "metadata": {},
   "outputs": [
    {
     "data": {
      "text/plain": [
       "16     1597\n",
       "17     2584\n",
       "18     4181\n",
       "19     6765\n",
       "20    10946\n",
       "dtype: int64"
      ]
     },
     "execution_count": 33,
     "metadata": {},
     "output_type": "execute_result"
    }
   ],
   "source": [
    "fibonaci_pandas.tail()"
   ]
  },
  {
   "cell_type": "markdown",
   "id": "2f6adc7c-c32e-4d7f-a4f3-c54ae71861fd",
   "metadata": {},
   "source": [
    "# Ucitavanje pandas Data Frame"
   ]
  },
  {
   "cell_type": "code",
   "execution_count": 34,
   "id": "f622ac87-71ed-4cf9-9842-af833e59ad44",
   "metadata": {},
   "outputs": [
    {
     "data": {
      "text/html": [
       "<div>\n",
       "<style scoped>\n",
       "    .dataframe tbody tr th:only-of-type {\n",
       "        vertical-align: middle;\n",
       "    }\n",
       "\n",
       "    .dataframe tbody tr th {\n",
       "        vertical-align: top;\n",
       "    }\n",
       "\n",
       "    .dataframe thead th {\n",
       "        text-align: right;\n",
       "    }\n",
       "</style>\n",
       "<table border=\"1\" class=\"dataframe\">\n",
       "  <thead>\n",
       "    <tr style=\"text-align: right;\">\n",
       "      <th></th>\n",
       "      <th>index</th>\n",
       "      <th>YearOfBirth</th>\n",
       "      <th>Name</th>\n",
       "      <th>Sex</th>\n",
       "      <th>Number</th>\n",
       "    </tr>\n",
       "  </thead>\n",
       "  <tbody>\n",
       "    <tr>\n",
       "      <th>0</th>\n",
       "      <td>0</td>\n",
       "      <td>1880</td>\n",
       "      <td>Mary</td>\n",
       "      <td>F</td>\n",
       "      <td>7065</td>\n",
       "    </tr>\n",
       "    <tr>\n",
       "      <th>1</th>\n",
       "      <td>1</td>\n",
       "      <td>1880</td>\n",
       "      <td>Anna</td>\n",
       "      <td>F</td>\n",
       "      <td>2604</td>\n",
       "    </tr>\n",
       "    <tr>\n",
       "      <th>2</th>\n",
       "      <td>2</td>\n",
       "      <td>1880</td>\n",
       "      <td>Emma</td>\n",
       "      <td>F</td>\n",
       "      <td>2003</td>\n",
       "    </tr>\n",
       "    <tr>\n",
       "      <th>3</th>\n",
       "      <td>3</td>\n",
       "      <td>1880</td>\n",
       "      <td>Elizabeth</td>\n",
       "      <td>F</td>\n",
       "      <td>1939</td>\n",
       "    </tr>\n",
       "    <tr>\n",
       "      <th>4</th>\n",
       "      <td>4</td>\n",
       "      <td>1880</td>\n",
       "      <td>Minnie</td>\n",
       "      <td>F</td>\n",
       "      <td>1746</td>\n",
       "    </tr>\n",
       "  </tbody>\n",
       "</table>\n",
       "</div>"
      ],
      "text/plain": [
       "   index  YearOfBirth       Name Sex  Number\n",
       "0      0         1880       Mary   F    7065\n",
       "1      1         1880       Anna   F    2604\n",
       "2      2         1880       Emma   F    2003\n",
       "3      3         1880  Elizabeth   F    1939\n",
       "4      4         1880     Minnie   F    1746"
      ]
     },
     "execution_count": 34,
     "metadata": {},
     "output_type": "execute_result"
    }
   ],
   "source": [
    "imena_i_broj_df = pd.read_csv('babyNames.csv')\n",
    "imena_i_broj_df.head()"
   ]
  },
  {
   "cell_type": "markdown",
   "id": "43bae0b3-1a72-45f9-950e-5fea79c4a698",
   "metadata": {},
   "source": [
    "# Ucitavanje pandas niza-kolone"
   ]
  },
  {
   "cell_type": "code",
   "execution_count": 35,
   "id": "191fae36-3ac3-453c-b478-47a81dc2dab4",
   "metadata": {},
   "outputs": [
    {
     "data": {
      "text/plain": [
       "Name\n",
       "Mary         7065\n",
       "Anna         2604\n",
       "Emma         2003\n",
       "Elizabeth    1939\n",
       "Minnie       1746\n",
       "             ... \n",
       "Marko         100\n",
       "Mauro         100\n",
       "Niklaus       100\n",
       "Osiris        100\n",
       "Steele        100\n",
       "Name: Number, Length: 224261, dtype: int64"
      ]
     },
     "execution_count": 35,
     "metadata": {},
     "output_type": "execute_result"
    }
   ],
   "source": [
    "imena_i_broj = pd.read_csv('babyNames.csv', usecols = ['Name', 'Number'], index_col = 'Name').squeeze('columns')\n",
    "imena_i_broj"
   ]
  },
  {
   "cell_type": "markdown",
   "id": "c8c6ef9d-b77b-45bc-b0a9-1ce80b089000",
   "metadata": {},
   "source": [
    "# IN"
   ]
  },
  {
   "cell_type": "code",
   "execution_count": 36,
   "id": "37225008-cc52-4d33-87e2-ecb7c21b23ce",
   "metadata": {},
   "outputs": [
    {
     "data": {
      "text/plain": [
       "True"
      ]
     },
     "execution_count": 36,
     "metadata": {},
     "output_type": "execute_result"
    }
   ],
   "source": [
    "'Mary' in imena_i_broj"
   ]
  },
  {
   "cell_type": "code",
   "execution_count": 37,
   "id": "5fa10284-ebbe-4a3c-8e54-cba077ade577",
   "metadata": {},
   "outputs": [
    {
     "data": {
      "text/plain": [
       "False"
      ]
     },
     "execution_count": 37,
     "metadata": {},
     "output_type": "execute_result"
    }
   ],
   "source": [
    "'Snezana' in imena_i_broj"
   ]
  },
  {
   "cell_type": "code",
   "execution_count": 38,
   "id": "3118517d-7a7e-4b66-bfaa-2f5a18cba5e4",
   "metadata": {},
   "outputs": [
    {
     "data": {
      "text/plain": [
       "True"
      ]
     },
     "execution_count": 38,
     "metadata": {},
     "output_type": "execute_result"
    }
   ],
   "source": [
    "7065 in imena_i_broj.values"
   ]
  },
  {
   "cell_type": "markdown",
   "id": "1ba552d0-2dfb-4b47-af59-442faae39e9b",
   "metadata": {},
   "source": [
    "# LOC ILOC"
   ]
  },
  {
   "cell_type": "code",
   "execution_count": 39,
   "id": "2469a3db-9429-44a6-b1c6-35013d08e8ef",
   "metadata": {},
   "outputs": [
    {
     "data": {
      "text/plain": [
       "np.int64(1578)"
      ]
     },
     "execution_count": 39,
     "metadata": {},
     "output_type": "execute_result"
    }
   ],
   "source": [
    "imena_i_broj.iloc[5]"
   ]
  },
  {
   "cell_type": "code",
   "execution_count": 40,
   "id": "f0355326-a763-4b95-9c12-55b916eeaaad",
   "metadata": {},
   "outputs": [
    {
     "data": {
      "text/plain": [
       "np.int64(1040)"
      ]
     },
     "execution_count": 40,
     "metadata": {},
     "output_type": "execute_result"
    }
   ],
   "source": [
    "imena_i_broj.iloc[15]"
   ]
  },
  {
   "cell_type": "code",
   "execution_count": 41,
   "id": "9af28806-f7d0-4d01-bbc1-303f0edb49ff",
   "metadata": {},
   "outputs": [
    {
     "data": {
      "text/plain": [
       "Name\n",
       "Mary    7065\n",
       "Mary    6919\n",
       "Mary    8148\n",
       "Mary    8012\n",
       "Mary    9217\n",
       "        ... \n",
       "Mary    2704\n",
       "Mary    2566\n",
       "Mary    2639\n",
       "Mary    2624\n",
       "Mary    2602\n",
       "Name: Number, Length: 194, dtype: int64"
      ]
     },
     "execution_count": 41,
     "metadata": {},
     "output_type": "execute_result"
    }
   ],
   "source": [
    "imena_i_broj.loc['Mary']"
   ]
  },
  {
   "cell_type": "code",
   "execution_count": 42,
   "id": "252b4f91-f65c-436b-9554-8066e235f7e9",
   "metadata": {},
   "outputs": [
    {
     "data": {
      "text/plain": [
       "np.int64(8)"
      ]
     },
     "execution_count": 42,
     "metadata": {},
     "output_type": "execute_result"
    }
   ],
   "source": [
    "fibonaci_pandas.loc[5]"
   ]
  },
  {
   "cell_type": "code",
   "execution_count": 43,
   "id": "ba8a6e1b-64dd-45b4-97d9-d725a92ab400",
   "metadata": {},
   "outputs": [
    {
     "data": {
      "text/plain": [
       "np.int64(8)"
      ]
     },
     "execution_count": 43,
     "metadata": {},
     "output_type": "execute_result"
    }
   ],
   "source": [
    "fibonaci_pandas.iloc[5]"
   ]
  },
  {
   "cell_type": "code",
   "execution_count": 44,
   "id": "37eefa6f-880d-45d5-8eb5-0e94b5e81a02",
   "metadata": {},
   "outputs": [
    {
     "data": {
      "text/plain": [
       "np.int64(13)"
      ]
     },
     "execution_count": 44,
     "metadata": {},
     "output_type": "execute_result"
    }
   ],
   "source": [
    "fibonaci_pandas.iloc[6]"
   ]
  },
  {
   "cell_type": "code",
   "execution_count": 45,
   "id": "355b83d6-7c6d-45d9-8f6e-71a4d52404be",
   "metadata": {},
   "outputs": [
    {
     "data": {
      "text/plain": [
       "np.int64(377)"
      ]
     },
     "execution_count": 45,
     "metadata": {},
     "output_type": "execute_result"
    }
   ],
   "source": [
    "fibonaci_pandas.loc[13]"
   ]
  },
  {
   "cell_type": "code",
   "execution_count": 46,
   "id": "394ae109-cf48-481f-8947-8f2209680892",
   "metadata": {},
   "outputs": [
    {
     "data": {
      "text/plain": [
       "Name\n",
       "Mary    7065\n",
       "Mary    6919\n",
       "Mary    8148\n",
       "Mary    8012\n",
       "Mary    9217\n",
       "        ... \n",
       "Nick     154\n",
       "Nick     157\n",
       "Nick     172\n",
       "Nick     156\n",
       "Nick     152\n",
       "Name: Number, Length: 300, dtype: int64"
      ]
     },
     "execution_count": 46,
     "metadata": {},
     "output_type": "execute_result"
    }
   ],
   "source": [
    "imena_i_broj.loc[['Mary', 'Nick']]"
   ]
  },
  {
   "cell_type": "code",
   "execution_count": 47,
   "id": "253b154f-388e-455f-8b4d-7a95afa90ad7",
   "metadata": {},
   "outputs": [
    {
     "data": {
      "text/plain": [
       "Name\n",
       "Robert    2415\n",
       "Anna      5115\n",
       "Name: Number, dtype: int64"
      ]
     },
     "execution_count": 47,
     "metadata": {},
     "output_type": "execute_result"
    }
   ],
   "source": [
    "imena_i_broj.iloc[[154,7065]]"
   ]
  },
  {
   "cell_type": "markdown",
   "id": "ef3acc07-91c5-41d6-a237-8591341b0ad3",
   "metadata": {},
   "source": [
    "# Ugradjene PYTHON funkcije"
   ]
  },
  {
   "cell_type": "code",
   "execution_count": 48,
   "id": "cc66ca58-7005-4f4b-8209-9ccca96f9f59",
   "metadata": {},
   "outputs": [
    {
     "data": {
      "text/plain": [
       "224261"
      ]
     },
     "execution_count": 48,
     "metadata": {},
     "output_type": "execute_result"
    }
   ],
   "source": [
    "len(imena_i_broj)"
   ]
  },
  {
   "cell_type": "code",
   "execution_count": 49,
   "id": "01009331-3ea0-45a7-a364-52e0034f335f",
   "metadata": {},
   "outputs": [
    {
     "data": {
      "text/plain": [
       "(224261,)"
      ]
     },
     "execution_count": 49,
     "metadata": {},
     "output_type": "execute_result"
    }
   ],
   "source": [
    "imena_i_broj.shape"
   ]
  },
  {
   "cell_type": "code",
   "execution_count": 50,
   "id": "9b4cef11-0ae7-45f6-8c1c-7c1337d466bf",
   "metadata": {},
   "outputs": [
    {
     "data": {
      "text/plain": [
       "224261"
      ]
     },
     "execution_count": 50,
     "metadata": {},
     "output_type": "execute_result"
    }
   ],
   "source": [
    "imena_i_broj.size"
   ]
  },
  {
   "cell_type": "code",
   "execution_count": 51,
   "id": "d4a108ae-c80e-404e-9157-4a20f68e5b35",
   "metadata": {},
   "outputs": [
    {
     "data": {
      "text/plain": [
       "pandas.core.series.Series"
      ]
     },
     "execution_count": 51,
     "metadata": {},
     "output_type": "execute_result"
    }
   ],
   "source": [
    "type(imena_i_broj)"
   ]
  },
  {
   "cell_type": "code",
   "execution_count": 52,
   "id": "93988756-1835-43c0-8d8f-8afb200bc6e3",
   "metadata": {},
   "outputs": [
    {
     "data": {
      "text/plain": [
       "100"
      ]
     },
     "execution_count": 52,
     "metadata": {},
     "output_type": "execute_result"
    }
   ],
   "source": [
    "min(imena_i_broj)"
   ]
  },
  {
   "cell_type": "code",
   "execution_count": 53,
   "id": "3d729bd2-4c29-4c2b-a69c-78abe924ba02",
   "metadata": {},
   "outputs": [
    {
     "data": {
      "text/plain": [
       "0"
      ]
     },
     "execution_count": 53,
     "metadata": {},
     "output_type": "execute_result"
    }
   ],
   "source": [
    "min(fibonaci_pandas.index)"
   ]
  },
  {
   "cell_type": "code",
   "execution_count": 54,
   "id": "a7eecd1f-ab45-401f-960e-61c896638ae0",
   "metadata": {},
   "outputs": [
    {
     "data": {
      "text/plain": [
       "Name\n",
       "Braulio        100\n",
       "Delma          100\n",
       "Steele         100\n",
       "Osiris         100\n",
       "Alexavier      100\n",
       "             ...  \n",
       "Robert       91646\n",
       "Michael      92726\n",
       "James        94763\n",
       "Linda        96211\n",
       "Linda        99680\n",
       "Name: Number, Length: 224261, dtype: int64"
      ]
     },
     "execution_count": 54,
     "metadata": {},
     "output_type": "execute_result"
    }
   ],
   "source": [
    "imena_i_broj.sort_values()"
   ]
  },
  {
   "cell_type": "code",
   "execution_count": 55,
   "id": "04202aad-c076-4ab0-bd0e-c072de0fea3a",
   "metadata": {},
   "outputs": [
    {
     "data": {
      "text/plain": [
       "Name\n",
       "Aaden    450\n",
       "Aaden    237\n",
       "Aaden    956\n",
       "Aaden    274\n",
       "Aaden    223\n",
       "        ... \n",
       "Zyon     139\n",
       "Zyon     143\n",
       "Zyon     165\n",
       "Zyon     150\n",
       "Zyon     160\n",
       "Name: Number, Length: 224261, dtype: int64"
      ]
     },
     "execution_count": 55,
     "metadata": {},
     "output_type": "execute_result"
    }
   ],
   "source": [
    "imena_i_broj.sort_index()"
   ]
  },
  {
   "cell_type": "code",
   "execution_count": 56,
   "id": "9fafc945-4549-4644-a1d9-484e312938ca",
   "metadata": {},
   "outputs": [
    {
     "data": {
      "text/plain": [
       "Name\n",
       "Linda      99680\n",
       "Linda      96211\n",
       "James      94763\n",
       "Michael    92726\n",
       "Robert     91646\n",
       "           ...  \n",
       "Fabiola      100\n",
       "Victor       100\n",
       "Elijah       100\n",
       "Brogan       100\n",
       "Bowen        100\n",
       "Name: Number, Length: 224261, dtype: int64"
      ]
     },
     "execution_count": 56,
     "metadata": {},
     "output_type": "execute_result"
    }
   ],
   "source": [
    "imena_i_broj.sort_values(ascending = False)"
   ]
  },
  {
   "cell_type": "code",
   "execution_count": 57,
   "id": "7b20613e-2f5d-4848-aa0d-3330d0aacc7c",
   "metadata": {},
   "outputs": [
    {
     "data": {
      "text/plain": [
       "Name\n",
       "Braulio        100\n",
       "Delma          100\n",
       "Steele         100\n",
       "Osiris         100\n",
       "Alexavier      100\n",
       "             ...  \n",
       "Robert       91646\n",
       "Michael      92726\n",
       "James        94763\n",
       "Linda        96211\n",
       "Linda        99680\n",
       "Name: Number, Length: 224261, dtype: int64"
      ]
     },
     "execution_count": 57,
     "metadata": {},
     "output_type": "execute_result"
    }
   ],
   "source": [
    "imena_i_broj.sort_values(ascending = True)"
   ]
  },
  {
   "cell_type": "code",
   "execution_count": 58,
   "id": "68eccd43-afe7-492a-8b27-02454d15b301",
   "metadata": {},
   "outputs": [
    {
     "data": {
      "text/plain": [
       "Name\n",
       "Zyon    113\n",
       "Zyon    139\n",
       "Zyon    147\n",
       "Zyon    143\n",
       "Zyon    158\n",
       "Zyon    160\n",
       "Zyon    129\n",
       "Zyon    165\n",
       "Zyon    152\n",
       "Zyon    104\n",
       "Name: Number, dtype: int64"
      ]
     },
     "execution_count": 58,
     "metadata": {},
     "output_type": "execute_result"
    }
   ],
   "source": [
    "imena_i_broj.sort_index(ascending = False).head(10)"
   ]
  },
  {
   "cell_type": "code",
   "execution_count": 59,
   "id": "e5ce6c8b-8848-4195-bcf1-ed37dc6f0d72",
   "metadata": {},
   "outputs": [
    {
     "data": {
      "text/plain": [
       "Name\n",
       "Linda      99680\n",
       "Linda      96211\n",
       "James      94763\n",
       "Michael    92726\n",
       "Robert     91646\n",
       "Linda      91010\n",
       "Michael    90623\n",
       "Michael    90517\n",
       "James      88588\n",
       "Michael    88493\n",
       "Name: Number, dtype: int64"
      ]
     },
     "execution_count": 59,
     "metadata": {},
     "output_type": "execute_result"
    }
   ],
   "source": [
    "imena_i_broj.sort_values(ascending = False).head(10)"
   ]
  },
  {
   "cell_type": "markdown",
   "id": "2e2bd1be-50bf-4774-aa73-321cc4c1b6cc",
   "metadata": {},
   "source": [
    "# Promena rednosti Pandas listi"
   ]
  },
  {
   "cell_type": "code",
   "execution_count": 60,
   "id": "3f0238d6-526c-41ea-a888-0b21f86c0162",
   "metadata": {},
   "outputs": [],
   "source": [
    "zoo = pd.Series(['Slon', 'Zirafa', 'Zebra', 'Komarac'])"
   ]
  },
  {
   "cell_type": "code",
   "execution_count": 61,
   "id": "8c35ba8b-4df7-4925-8cef-21810d473856",
   "metadata": {},
   "outputs": [],
   "source": [
    "zoo.iloc[3] = 'Vuk'"
   ]
  },
  {
   "cell_type": "code",
   "execution_count": 62,
   "id": "5bf8ec18-9e47-430a-8afc-67c37a0a7da7",
   "metadata": {},
   "outputs": [
    {
     "data": {
      "text/plain": [
       "0      Slon\n",
       "1    Zirafa\n",
       "2     Zebra\n",
       "3       Vuk\n",
       "dtype: object"
      ]
     },
     "execution_count": 62,
     "metadata": {},
     "output_type": "execute_result"
    }
   ],
   "source": [
    "zoo.head()"
   ]
  },
  {
   "cell_type": "code",
   "execution_count": 63,
   "id": "21b1c854-16e1-4798-b3b3-85561d70b744",
   "metadata": {},
   "outputs": [],
   "source": [
    "imena_i_broj.loc['Zyon'] = 1"
   ]
  },
  {
   "cell_type": "code",
   "execution_count": 64,
   "id": "e3f0b2a5-7f3a-421c-a4ec-dac735d490f2",
   "metadata": {},
   "outputs": [
    {
     "data": {
      "text/plain": [
       "Name\n",
       "Zyon    1\n",
       "Zyon    1\n",
       "Zyon    1\n",
       "Zyon    1\n",
       "Zyon    1\n",
       "Zyon    1\n",
       "Zyon    1\n",
       "Zyon    1\n",
       "Zyon    1\n",
       "Zyon    1\n",
       "Name: Number, dtype: int64"
      ]
     },
     "execution_count": 64,
     "metadata": {},
     "output_type": "execute_result"
    }
   ],
   "source": [
    "imena_i_broj.sort_index(ascending = False).head(10)"
   ]
  },
  {
   "cell_type": "markdown",
   "id": "635ee7cd-d681-4a81-b498-4392e4d49422",
   "metadata": {},
   "source": [
    "# Kopiranje Pandas nizova"
   ]
  },
  {
   "cell_type": "code",
   "execution_count": 65,
   "id": "c10db5d2-7130-4544-9930-093e9c1160b0",
   "metadata": {},
   "outputs": [],
   "source": [
    "copy_of_zoo = zoo.copy()"
   ]
  },
  {
   "cell_type": "code",
   "execution_count": 66,
   "id": "27714008-3b3c-4ba8-87f9-7512783a59a9",
   "metadata": {},
   "outputs": [
    {
     "data": {
      "text/plain": [
       "0      Slon\n",
       "1    Zirafa\n",
       "2     Zebra\n",
       "3       Vuk\n",
       "dtype: object"
      ]
     },
     "execution_count": 66,
     "metadata": {},
     "output_type": "execute_result"
    }
   ],
   "source": [
    "zoo.head()"
   ]
  },
  {
   "cell_type": "code",
   "execution_count": 67,
   "id": "bd431463-59fb-4f06-b8a4-212f06b2e099",
   "metadata": {},
   "outputs": [
    {
     "data": {
      "text/plain": [
       "0      Slon\n",
       "1    Zirafa\n",
       "2     Zebra\n",
       "3       Vuk\n",
       "dtype: object"
      ]
     },
     "execution_count": 67,
     "metadata": {},
     "output_type": "execute_result"
    }
   ],
   "source": [
    "copy_of_zoo.head()"
   ]
  },
  {
   "cell_type": "markdown",
   "id": "49b6b31a-06f5-46d5-8c76-be4591f3a5da",
   "metadata": {},
   "source": [
    "# Dodavanje novih clanova Pandas nizova"
   ]
  },
  {
   "cell_type": "code",
   "execution_count": 68,
   "id": "f7344e0a-3ed7-4657-a386-f83e5061a9a7",
   "metadata": {},
   "outputs": [],
   "source": [
    "copy_of_zoo[4] = 'Paun'"
   ]
  },
  {
   "cell_type": "code",
   "execution_count": 69,
   "id": "c9d39733-125e-4b68-9270-eb04101903c8",
   "metadata": {},
   "outputs": [
    {
     "data": {
      "text/plain": [
       "0      Slon\n",
       "1    Zirafa\n",
       "2     Zebra\n",
       "3       Vuk\n",
       "4      Paun\n",
       "dtype: object"
      ]
     },
     "execution_count": 69,
     "metadata": {},
     "output_type": "execute_result"
    }
   ],
   "source": [
    "copy_of_zoo.head()"
   ]
  },
  {
   "cell_type": "code",
   "execution_count": 70,
   "id": "8562d87e-9512-4457-9387-57078c14aef2",
   "metadata": {},
   "outputs": [],
   "source": [
    "copy_of_zoo[zoo.index.max()+1] = 'Koala'"
   ]
  },
  {
   "cell_type": "code",
   "execution_count": 71,
   "id": "444e23ee-d0fc-4d9f-9ab5-86cecaeae47d",
   "metadata": {},
   "outputs": [
    {
     "data": {
      "text/plain": [
       "0      Slon\n",
       "1    Zirafa\n",
       "2     Zebra\n",
       "3       Vuk\n",
       "4     Koala\n",
       "dtype: object"
      ]
     },
     "execution_count": 71,
     "metadata": {},
     "output_type": "execute_result"
    }
   ],
   "source": [
    "copy_of_zoo.head()"
   ]
  },
  {
   "cell_type": "code",
   "execution_count": 72,
   "id": "30489e55-e317-4308-b089-769bfb792fd0",
   "metadata": {},
   "outputs": [],
   "source": [
    "copy_of_zoo[zoo.index.max()+1] = 'Tigar'"
   ]
  },
  {
   "cell_type": "code",
   "execution_count": 73,
   "id": "328a47e6-1983-4c24-a0b2-577fc5ea6b58",
   "metadata": {},
   "outputs": [
    {
     "data": {
      "text/plain": [
       "0      Slon\n",
       "1    Zirafa\n",
       "2     Zebra\n",
       "3       Vuk\n",
       "4     Tigar\n",
       "dtype: object"
      ]
     },
     "execution_count": 73,
     "metadata": {},
     "output_type": "execute_result"
    }
   ],
   "source": [
    "copy_of_zoo.head()"
   ]
  },
  {
   "cell_type": "code",
   "execution_count": 74,
   "id": "d42b2fae-4282-424b-b890-8ab412830b96",
   "metadata": {},
   "outputs": [
    {
     "data": {
      "text/plain": [
       "0      Slon\n",
       "1    Zirafa\n",
       "2     Zebra\n",
       "3       Vuk\n",
       "dtype: object"
      ]
     },
     "execution_count": 74,
     "metadata": {},
     "output_type": "execute_result"
    }
   ],
   "source": [
    "zoo.head()"
   ]
  },
  {
   "cell_type": "code",
   "execution_count": 75,
   "id": "f73101b5-5e16-4349-9a57-ff842b819b37",
   "metadata": {},
   "outputs": [],
   "source": [
    "zoo[zoo.index.max()+1] = 'Koala'"
   ]
  },
  {
   "cell_type": "code",
   "execution_count": 76,
   "id": "22f2b4c2-a432-498c-8c8b-70d5a5934159",
   "metadata": {},
   "outputs": [
    {
     "data": {
      "text/plain": [
       "0      Slon\n",
       "1    Zirafa\n",
       "2     Zebra\n",
       "3       Vuk\n",
       "4     Koala\n",
       "dtype: object"
      ]
     },
     "execution_count": 76,
     "metadata": {},
     "output_type": "execute_result"
    }
   ],
   "source": [
    "zoo.head()"
   ]
  },
  {
   "cell_type": "code",
   "execution_count": 77,
   "id": "c6829f54-042c-44fb-892e-a1177f359f97",
   "metadata": {},
   "outputs": [],
   "source": [
    "zoo[zoo.index.max()+2] = 'Tigar'"
   ]
  },
  {
   "cell_type": "code",
   "execution_count": 78,
   "id": "b3760ae3-ee37-43e0-b904-b8a5dc03f0f5",
   "metadata": {},
   "outputs": [
    {
     "data": {
      "text/plain": [
       "0      Slon\n",
       "1    Zirafa\n",
       "2     Zebra\n",
       "3       Vuk\n",
       "4     Koala\n",
       "6     Tigar\n",
       "dtype: object"
      ]
     },
     "execution_count": 78,
     "metadata": {},
     "output_type": "execute_result"
    }
   ],
   "source": [
    "zoo.head(10)"
   ]
  },
  {
   "cell_type": "code",
   "execution_count": null,
   "id": "eeb4216b-046a-4d45-a823-4cee6dc4b73e",
   "metadata": {},
   "outputs": [],
   "source": []
  }
 ],
 "metadata": {
  "kernelspec": {
   "display_name": "Python 3 (ipykernel)",
   "language": "python",
   "name": "python3"
  },
  "language_info": {
   "codemirror_mode": {
    "name": "ipython",
    "version": 3
   },
   "file_extension": ".py",
   "mimetype": "text/x-python",
   "name": "python",
   "nbconvert_exporter": "python",
   "pygments_lexer": "ipython3",
   "version": "3.12.6"
  }
 },
 "nbformat": 4,
 "nbformat_minor": 5
}
